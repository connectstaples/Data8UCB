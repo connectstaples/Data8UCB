{
 "cells": [
  {
   "cell_type": "markdown",
   "metadata": {},
   "source": [
    "# Discussion 3, Spring 2025 Prof Sanchez \n",
    "### Sean Villegas \n",
    "\n",
    "\n",
    "Readings: \n",
    "- [Tables Docs](https://www.data8.org/datascience/tables.html)\n",
    "- [Tables Chapter](https://inferentialthinking.com/chapters/06/Tables.html)\n",
    "- [Predicates Docs](https://www.data8.org/datascience/predicates.html#datascience.predicates.are)\n",
    "- [Sorting Rows Chapter](https://inferentialthinking.com/chapters/06/1/Sorting_Rows.html)\n",
    "\n",
    "Notes: \n",
    "- fiddle with the y axis to tell a story from the data, charting at 0 can not show us the change of relevant baseline, rather than the 0 point. \n",
    "- when data goes under zero, you need to show it in some cases\n",
    "- the metrics for data also matter\n",
    "- When people lie on graphs, its when they leave out context or some data\n",
    "\n",
    "\n",
    "**In your opinion, when would be a good time to start the y-axis at 0, and when would be a good time to not\n",
    "start it at 0?**\n",
    "\n",
    "- It is good to start the y-axis at 0 when we are analyzing data. \n",
    "    - Avoiding misleading visuals especially for bar charts, where the length of the bars represents absolute values\n",
    "- When you need to show the change in a certain period, then you can change the position of the y-axis, as long as you share relevant context on the data\n",
    "\n",
    "**In general, what are some considerations we want to take into account when making a data visualization?**\n",
    "- People can alter data to favor their side, all data needs context \n",
    "\n",
    "\n",
    "**Code Is wrong Section**\n",
    "\n",
    "`tennis.where(\"Nationality\", \"United States\") / tennis.num_rows`\n",
    "TypeError: operand types for / Table and int \n",
    "Fix:\n",
    "`tennis.where(\"Nationality\", \"United States\").num_rows / tennis.num_rows` \n",
    "- ensure that the data types match with num_rows \n",
    "\n",
    "`tennis.column(\"Num. Aces\") / tennis.select(\"Matches Played\")`\n",
    "TypeError: input types not supported for 'divide' \n",
    "- the issue is that .column creates an array, and the .select creates a table based on the column.\n",
    "- change it to an array, to get average number of acs hit per match for each player\n",
    "`tennis.column(\"Num. Aces\") / tennis.column(\"Matches Played\")` \n",
    "\n",
    "```\n",
    "less_aces_players = tennis.where(\"Num. Aces\", are.below(\"10000\"))\n",
    "less_aces_most_matches = less_aces_players.sort(\"Matches Played\", descending = True).column(\"Name\").item(0)\n",
    "```\n",
    "TypeError: ufunc 'less' did not contain a loop with signature matching types (<class 'numpy.dtypes.Int64D Type'>,<class 'numpy.dtypes.StrDType'>) -> None\n",
    "- change the 1000 to an integer value, and no space between descending=True\n",
    "```\n",
    "less_aces_players = tennis.where(\"Num. Aces\", are.below(10000))\n",
    "less_aces_most_matches = less_aces_players.sort(\"Matches Played\", descending=True).column(\"Name\").item(0)\n",
    "```\n"
   ]
  },
  {
   "cell_type": "code",
   "execution_count": 8,
   "metadata": {},
   "outputs": [
    {
     "data": {
      "text/html": [
       "<table border=\"1\" class=\"dataframe\">\n",
       "    <thead>\n",
       "        <tr>\n",
       "            <th>Name</th> <th>ID</th> <th>Hearts per Post</th> <th>Answers</th> <th>Admin</th>\n",
       "        </tr>\n",
       "    </thead>\n",
       "    <tbody>\n",
       "        <tr>\n",
       "            <td>Cai    </td> <td>18  </td> <td>6.51           </td> <td>165    </td> <td>1    </td>\n",
       "        </tr>\n",
       "        <tr>\n",
       "            <td>Bing   </td> <td>7   </td> <td>0              </td> <td>102    </td> <td>0    </td>\n",
       "        </tr>\n",
       "        <tr>\n",
       "            <td>Aileen </td> <td>4   </td> <td>9.13           </td> <td>240    </td> <td>1    </td>\n",
       "        </tr>\n",
       "        <tr>\n",
       "            <td>Richard</td> <td>8   </td> <td>0              </td> <td>82     </td> <td>0    </td>\n",
       "        </tr>\n",
       "        <tr>\n",
       "            <td>Brandon</td> <td>5   </td> <td>0              </td> <td>48     </td> <td>1    </td>\n",
       "        </tr>\n",
       "        <tr>\n",
       "            <td>Sam    </td> <td>0   </td> <td>16             </td> <td>22     </td> <td>1    </td>\n",
       "        </tr>\n",
       "    </tbody>\n",
       "</table>"
      ],
      "text/plain": [
       "Name    | ID   | Hearts per Post | Answers | Admin\n",
       "Cai     | 18   | 6.51            | 165     | 1\n",
       "Bing    | 7    | 0               | 102     | 0\n",
       "Aileen  | 4    | 9.13            | 240     | 1\n",
       "Richard | 8    | 0               | 82      | 0\n",
       "Brandon | 5    | 0               | 48      | 1\n",
       "Sam     | 0    | 16              | 22      | 1"
      ]
     },
     "execution_count": 8,
     "metadata": {},
     "output_type": "execute_result"
    }
   ],
   "source": [
    "from datascience import * \n",
    "\n",
    "%matplotlib inline \n",
    "import matplotlib.pyplot as plots\n",
    "\n",
    "staff = Table().with_columns(\n",
    "    'Name', make_array('Cai', 'Bing', 'Aileen', 'Richard', 'Brandon', 'Sam'),\n",
    "    'ID', make_array(18, 7, 4, 8, 5, 0),\n",
    "    'Hearts per Post', make_array(6.51, 0, 9.13, 0, 0, 16), \n",
    "    'Answers', make_array(165, 102, 240, 82, 48, 22),\n",
    "    'Admin', make_array(True, False, True, False, True, True)\n",
    ")\n",
    "staff"
   ]
  },
  {
   "cell_type": "code",
   "execution_count": 18,
   "metadata": {},
   "outputs": [
    {
     "name": "stdout",
     "output_type": "stream",
     "text": [
      "Admin with most hearts and answers: Aileen\n"
     ]
    }
   ],
   "source": [
    "good_staff = staff.where('Admin', True).where('Hearts per Post', are.above_or_equal_to(1))\n",
    "\n",
    "lucky_staff_name = good_staff.sort('Answers', descending=True).column('Name').item(0)\n",
    "\n",
    "# good_staff\n",
    "\n",
    "print(f\"Admin with most hearts and answers: {lucky_staff_name}\")   # Aileen has the most hears out of everyone "
   ]
  },
  {
   "cell_type": "code",
   "execution_count": 27,
   "metadata": {},
   "outputs": [
    {
     "name": "stdout",
     "output_type": "stream",
     "text": [
      "The largest amount of seats in the table seats: 110\n"
     ]
    }
   ],
   "source": [
    "seats = Table().with_columns(\n",
    "    'Email', make_array('sulu@berkeley.edu' , 'mccoy@berkeley.edu', 'kirk@berkeley.edu'),\n",
    "    'Row', make_array('C', 'A', 'R'),\n",
    "    'Seat', make_array(102, 3, 110),\n",
    "    'Date', make_array(20, 18, 20)\n",
    ")\n",
    "\n",
    "print(f\"The largest amount of seats in the table seats: {max(seats.column('Seat'))}\")\n"
   ]
  },
  {
   "cell_type": "code",
   "execution_count": 29,
   "metadata": {},
   "outputs": [
    {
     "data": {
      "text/plain": [
       "110"
      ]
     },
     "execution_count": 29,
     "metadata": {},
     "output_type": "execute_result"
    }
   ],
   "source": [
    "seats.sort('Seat', descending=True).column('Seat').item(0)"
   ]
  },
  {
   "cell_type": "code",
   "execution_count": 48,
   "metadata": {},
   "outputs": [
    {
     "name": "stdout",
     "output_type": "stream",
     "text": [
      "There is only one row in the table, where the date is the 20th for rows A, B, C, D, E: 1\n"
     ]
    }
   ],
   "source": [
    "filtered_seats = seats.where('Date', are.equal_to(20))\n",
    "test = filtered_seats.where('Row', are.between('A', 'E')).num_rows\n",
    "\n",
    "print(f\"There is only one row in the table, where the date is the 20th for rows A, B, C, D, E: {test}\")"
   ]
  }
 ],
 "metadata": {
  "kernelspec": {
   "display_name": "Python 3 (ipykernel)",
   "language": "python",
   "name": "python3"
  },
  "language_info": {
   "codemirror_mode": {
    "name": "ipython",
    "version": 3
   },
   "file_extension": ".py",
   "mimetype": "text/x-python",
   "name": "python",
   "nbconvert_exporter": "python",
   "pygments_lexer": "ipython3",
   "version": "3.11.8"
  }
 },
 "nbformat": 4,
 "nbformat_minor": 2
}
