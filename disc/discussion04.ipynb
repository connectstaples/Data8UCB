{
 "cells": [
  {
   "cell_type": "markdown",
   "metadata": {},
   "source": [
    "# Discussion 3, Spring 2025 Prof Sanchez \n",
    "### Sean Villegas \n",
    "\n",
    "Notes: \n",
    "- Area representation needs to be exact, not doubling the size, but two of the same size when representing area \n",
    "- Area Principle:\n",
    "<center> Area = % of values in a bin = Width * Height </center>\n",
    "\n",
    "- Categorical variables -> bar chart\n",
    "- Numerical variable -> histogram (binning)\n",
    "\n",
    "**Height measures density**\n",
    "- Density: percent relative to amount of space\n",
    "- Also can be thought of as:\n",
    "    - crowdedness \n",
    "    - percent per unit on the horizontal axis\n",
    "`Height of Bar = % in bin / width of bin`\n",
    "\n",
    "Numerical attributes: \n",
    "- values on number line, values ordered, differences numerically meaningful \n",
    "\n",
    "Categorical attributes: \n",
    "- values from fixed inventory, values may or may not have an ordering \n",
    "\n",
    "Scatter Plot:\n",
    "- looking for associations\n",
    "- non sequential-data \n",
    "\n",
    "Bar Charts for categorical: \n",
    "- one categorical + one numerical \n",
    "- plotting counts of one categorical \n",
    "- plotting counts of two categorical \n",
    "\n",
    "\n",
    "Bins: \n",
    "- Bins are intervals that divide a range of data into smaller, manageable chunks for visualization, typically in a histogram. \n",
    "    - Think of them as buckets: you group your data (like rents paid by students) into these buckets based on where each value falls. Each bin has:\n",
    "        - A lower bound (included in the bin).\n",
    "        - An upper bound (usually excluded, meaning the bin goes up to but doesn’t include this value).\n",
    "        - A width (the difference between the upper and lower bounds).\n",
    "        - A height (which we’ll calculate, representing density or frequency per unit width).\n",
    "\n",
    "**Steps to Calculate Bar heights**\n",
    "[Variance](https://seeing-theory.brown.edu/basic-probability/index.html#section3)\n",
    "_Explains why height is a density (like % per unit) rather than a raw count_\n",
    "- Identify the Bins: Look at the rent ranges in the first column (e.g., $500–$1000 means $500 ≤ rent < $1000).\n",
    "- Calculate Width: Subtract the lower bound from the upper bound for each bin.\n",
    "- Get the Percentage: Use the percentage from the second column for each bin.\n",
    "- Compute Height: Divide the percentage by the width for each bin.\n",
    "- Check Units: Ensure your height is in % per dollar.\n",
    "\n",
    "Example: \n",
    "| Dollars       | Students (%) | Bar Height |\n",
    "|--------------|-------------|------------|\n",
    "| 500 - 800   | 15 (15%)    |            |\n",
    "| 800 - 1000  | 25 (25%)    |            |\n",
    "| 1000 - 1200 | 40 (40%)    |            |\n",
    "| 1200 - 1600 | 20 (20%)    |            |\n",
    "\n",
    "\n",
    "1. 500 is the lower bound\n",
    "2. 800 is the upper bound\n",
    "    - `500 <= dollars <= 800`\n",
    "3. SUBTRACT the bins bounds\n",
    "4. Take percent, and divide it by the difference of `bins 15% / 300`\n",
    "5. The result, is the Bar Height `0.0005`\n",
    "6. You might have to draw them\n",
    "\n",
    "\n",
    "True or False: If we combine the [500, 800) and [800, 1000) bins together, the height of the new bin would be greater than the heights of both of the old bins. Please explain your answer\n",
    "- False, adding 0.0005 + 0.00125 does not become greater than the bins \n",
    "\n"
   ]
  },
  {
   "cell_type": "code",
   "execution_count": null,
   "metadata": {},
   "outputs": [
    {
     "ename": "NameError",
     "evalue": "name 'A' is not defined",
     "output_type": "error",
     "traceback": [
      "\u001b[0;31m---------------------------------------------------------------------------\u001b[0m",
      "\u001b[0;31mNameError\u001b[0m                                 Traceback (most recent call last)",
      "Cell \u001b[0;32mIn[3], line 14\u001b[0m\n\u001b[1;32m     10\u001b[0m     squareroot \u001b[38;5;241m=\u001b[39m np\u001b[38;5;241m.\u001b[39msqrt(\u001b[38;5;28msum\u001b[39m)\n\u001b[1;32m     11\u001b[0m     \u001b[38;5;28mprint\u001b[39m(squareroot)\n\u001b[0;32m---> 14\u001b[0m C \u001b[38;5;241m=\u001b[39m hypotenuse(A, B)\n",
      "\u001b[0;31mNameError\u001b[0m: name 'A' is not defined"
     ]
    }
   ],
   "source": [
    "\"\"\"Find the unique problems im this code\"\"\"\n",
    "\n",
    "from datascience import *  # no import statement? \n",
    "import numpy as np  # no import statement? \n",
    "\n",
    "def hypotenuse(a, b):\n",
    "    \"\"\"Returns the length of the hypotenuse of a right triangle, the square root of a\n",
    "    squared + b squared.\"\"\"\n",
    "\n",
    "    squares = make_array(side1, side2) * 2 # doesnt use a and b  # 1 \n",
    "    sum = sum(squares) # sum is being assigned a built in index # 2 & 3\n",
    "    squareroot = np.sqrt(sum) # sum is being assigned a built in index  # 4\n",
    "    print(squareroot) \n",
    "\n",
    "\n",
    "C = hypotenuse(A, B) # no parameters passed in # 5 "
   ]
  },
  {
   "cell_type": "code",
   "execution_count": 13,
   "metadata": {},
   "outputs": [
    {
     "data": {
      "text/html": [
       "<table border=\"1\" class=\"dataframe\">\n",
       "    <thead>\n",
       "        <tr>\n",
       "            <th>Name</th> <th>Score</th>\n",
       "        </tr>\n",
       "    </thead>\n",
       "    <tbody>\n",
       "        <tr>\n",
       "            <td>Dana   </td> <td>95   </td>\n",
       "        </tr>\n",
       "        <tr>\n",
       "            <td>Charlie</td> <td>78   </td>\n",
       "        </tr>\n",
       "        <tr>\n",
       "            <td>Bob    </td> <td>92   </td>\n",
       "        </tr>\n",
       "    </tbody>\n",
       "</table>"
      ],
      "text/plain": [
       "Name    | Score\n",
       "Dana    | 95\n",
       "Charlie | 78\n",
       "Bob     | 92"
      ]
     },
     "execution_count": 13,
     "metadata": {},
     "output_type": "execute_result"
    }
   ],
   "source": [
    "from datascience import Table\n",
    "tbl = Table().with_columns(\n",
    "    'Name', ['Alice', 'Bob', 'Charlie', 'Dana'],\n",
    "    'Score', [85, 92, 78, 95]\n",
    ")\n",
    "\n",
    "# attempt 1 \n",
    "\n",
    "# def top_n(tbl, col, n):\n",
    "#     sorted_tbl = tbl.sorted(\"col\", descending=True)\n",
    "#     top_n_rows = sorted_tbl.item(0)\n",
    "#     return top_n_rows \n",
    "\n",
    "\n",
    "# # attempt 2\n",
    "# def top_n(tbl, col, n):\n",
    "#     sorted_tbl = tbl.sort(col, descending=True)\n",
    "#     top_n_rows = sorted_tbl.take(range(n))\n",
    "#     return top_n_rows.take()\n",
    "\n",
    "# attempt 2\n",
    "def top_n(tbl, col, n):\n",
    "    sorted_tbl = tbl.sort(col, descending=True)\n",
    "    top_n_rows = sorted_tbl.take(range(n))\n",
    "    return top_n_rows\n",
    "\n",
    "\n",
    "top_n(tbl, \"Name\", 3)\n"
   ]
  },
  {
   "cell_type": "markdown",
   "metadata": {},
   "source": []
  }
 ],
 "metadata": {
  "kernelspec": {
   "display_name": "Python 3 (ipykernel)",
   "language": "python",
   "name": "python3"
  },
  "language_info": {
   "codemirror_mode": {
    "name": "ipython",
    "version": 3
   },
   "file_extension": ".py",
   "mimetype": "text/x-python",
   "name": "python",
   "nbconvert_exporter": "python",
   "pygments_lexer": "ipython3",
   "version": "3.11.8"
  }
 },
 "nbformat": 4,
 "nbformat_minor": 2
}
