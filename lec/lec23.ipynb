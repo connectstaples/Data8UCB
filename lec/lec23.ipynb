{
 "cells": [
  {
   "cell_type": "markdown",
   "metadata": {
    "vscode": {
     "languageId": "plaintext"
    }
   },
   "source": [
    "# D8 Lec 23, Prof Sanchez \n",
    "## Confidence Intervals\n",
    "### Sean Villegas\n",
    "\n",
    "\n",
    "**Vocab Review**\n",
    "- Parameter: a number associated with the population\n",
    "- Statistic (can estimate a parameter): A number calculated from the sample\n",
    "- Population and Sample\n",
    "    - The key idea is that you use the data from your sample to make educated guesses (conclusions) about the population. For those conclusions to be accurate, your sample should represent the population well — e.g. it should include a diverse mix of people, not just students from one dorm or professors from one department.\n",
    "- Mean: _the average of a set of values, calculated by adding all the values together and dividing by the total number of values_ \n",
    "- Range: _the difference between the maximum and minimum values in a dataset_\n",
    "- Bootstrap: _Bootstrapping is a resampling method in data science that estimates the variability of a statistic by repeatedly sampling with replacement from the original dataset_ \n",
    "- Confidence Interval \n",
    "    - take off extremes, within bounds of the array `left` and `right`. Yellow is the confidence interval, and the green dot will be in there \n",
    "    - I dont have a population -> you use the sample from the dataset, and conduct tests like the dataset results is the population, by taking bootstrap samples of the main sample. \n",
    "\n",
    "<center> What if we don’t have the population? <=> How can we figure out the value of an unknown population parameter? </center>\n",
    "\n",
    "<center>Answer: Solved by estimation</center>\n",
    "\n",
    "1. Take a random sample from the population\n",
    "2. obtain a statistic from this sample\n",
    "3. Use this statistic as an estimate of the parameter\n",
    "    - However… estimates change everytime you sample, thus you use a bound range that can withhold the unknown population parameter \n",
    "\n",
    "For a range, we have to know what can happen\n",
    "1. So, we need multiple samples to see multiple values. So you must sample at random from the original sample, if it represents the population (large and random og sample)\n",
    "\n",
    "\n",
    "#### Bootstrapping allows for this method\n",
    "Steps:\n",
    "    1. Draw with replacement, at random, and as many values as are in the original sample\n",
    "\n",
    "Notes:\n",
    "- We get a new sample from our old data that we have, by bootstrapping\n",
    "    - this method is applied for data scientists that have limited funding (which is usually all studies)\n",
    "- A sample from the population is usually only done once (historic data for example, or to save time). You must simulate with bootstrapping to work with that data \n",
    "- **Jeremy is allergic to repeating code**\n",
    "- Obtain a statistic many times from bootstrap samples because the statistic can vary between samples **(empirical distribution of observed dataset)** \n",
    "    - This works based on degree of probability for dataset which needs to be assessed \n",
    "- We are currently in an inference module:\n",
    "    - Using data to draw reliable conclusions about the world\n",
    "    - Uses statistics\n",
    "    - represented by green dot\n",
    "\n",
    "\n",
    "\n",
    "\n",
    "\n"
   ]
  },
  {
   "cell_type": "code",
   "execution_count": null,
   "metadata": {},
   "outputs": [],
   "source": [
    "\"\"\"\n",
    "Code to simulate estimations for range, and bootstrap the random large data for said ranges of estimations (opposed to a single number estimation)\n",
    "\"\"\"\n",
    "\n",
    "from datascience import * \n",
    "\n",
    "population = \"Ignore me I represent a table\" \n",
    "\n",
    "# **STOP**, always think how you should filter the messy data. By filtering or representing with NULL\n",
    "\n",
    "pop_median = percentile(50, population.column('Total Compensation')) # getting middle of the histogram sample; # generates a single estimation of the data\n",
    "\n",
    "sample_size = 400\n",
    "a_sample = population.sample(sample_size, with_replacement=False)\n",
    "a_sample.hist('Total Compensation', bins = np.arange(0, 800000, 25000)) \n",
    "percentile(50, a_sample.column('Total Compensation'))\n",
    "\n",
    "\n",
    "\n",
    "                                        #### Boot strap example #### \n",
    "bootstrap_sample = a_sample.sample(k = a_sample.num_rows, \n",
    "                                   with_replacement = True)\n",
    "bootstrap_sample.hist('Total Compensation', bins = np.arange(0, 800000, 25000))\n",
    "\n",
    "\n",
    "def one_bootstrap_median():\n",
    "    \"\"\"dont repeat code \"\"\"\n",
    "    # draw the bootstrap sample\n",
    "    resample = a_sample.sample(k = a_sample.num_rows, with_replacement=True)\n",
    "    # return the median total compensation in the bootstrap sample\n",
    "    return percentile(50, resample.column('Total Compensation'))\n",
    "\n",
    "bootstrapped_sample_medians = make_array()\n",
    "num_resamples = 1000\n",
    "\n",
    "for i in np.arange(num_resamples):\n",
    "    new_median = one_bootstrap_median()\n",
    "    bootstrapped_sample_medians = np.append(bootstrapped_sample_medians, new_median)\n",
    "\n",
    "bootstrapped_sample_medians.show(5) # an array of 1000 estimations \n",
    "\n",
    "bootstrapped_median_table = Table().with_column('Bootstrapped Sample Median', bootstrapped_sample_medians)\n",
    "bootstrapped_median_table.hist(bins = np.arange(125000, 155000, 2000))\n",
    "\n",
    "# Plotting parameters; you can ignore this code\n",
    "parameter_green = '#32CD32'\n",
    "plots.ylim(-0.000005, 0.00014)\n",
    "plots.scatter(pop_median, 0, color=parameter_green, s=40, zorder=2) # population median is represented by green\n",
    "plots.title('Do our bootstrapped medians cover the true value?*');"
   ]
  },
  {
   "cell_type": "markdown",
   "metadata": {},
   "source": [
    "**Note**: \n",
    "Remember that in settings where we use this method, we do not have the true value of the parameter. In reality you wont know whether the bootstrapped distribution of statistics covers the parameter (we hope that it does)."
   ]
  },
  {
   "cell_type": "markdown",
   "metadata": {},
   "source": [
    "\n",
    "#### Looking at percentiles of an array (sorted list)\n",
    "For a sorted list, the pth percentile:\n",
    "- is the first value\n",
    "- that is at least as large \n",
    "- as p% of the values\n",
    "\n",
    "Interpolation:\n",
    "- is a method of estimating unknown values that fall between known data points. In data science, it's often used to approximate percentiles, points on a curve, or missing values by assuming a linear (or other) pattern between the known points.\n",
    "\n",
    "\n",
    "\n",
    "**Which statements are true when `s = array([1, 5, 7, 3, 9])`?**\n",
    "_add percent to 100%. E.g. 1 == 20%, 5 == 40%...._\n",
    "1. The 50th percentile of `s` is 5.\n",
    "    TRUE # (Median is 5)\n",
    "2. The 10th percentile of `s` is 6.\n",
    "    FALSE # (The 10th percentile is closer to 1.8, not 6)\n",
    "3. The 39th percentile of `s` is the same as the 40th percentile of `s`. \n",
    "    TRUE # (Both would likely interpolate to the same value, within range)\n",
    "4. The 40th percentile of `s` is the same as the 41st percentile of `s`. \n",
    "    FALSE # (They would likely fall in slightly different spots based on interpolation, out of range)"
   ]
  },
  {
   "cell_type": "markdown",
   "metadata": {},
   "source": [
    "#### Confidence interval is a tool for estimation \n"
   ]
  },
  {
   "cell_type": "code",
   "execution_count": null,
   "metadata": {},
   "outputs": [],
   "source": [
    "bootstrapped_median_table.hist(bins = np.arange(125000, 150000, 2000))\n",
    "\n",
    "# Plotting parameters; you can ignore this code\n",
    "plots.ylim(-0.000005, 0.00014)\n",
    "plots.plot(make_array(left, right), make_array(0, 0), color='yellow', lw=3, zorder=1)\n",
    "plots.scatter(pop_median, 0, color=parameter_green, s=40, zorder=2);\n",
    "plots.title('We are 95 percent confident that \\n the parameter lies within the yellow bounds');"
   ]
  }
 ],
 "metadata": {
  "language_info": {
   "name": "python"
  }
 },
 "nbformat": 4,
 "nbformat_minor": 2
}
