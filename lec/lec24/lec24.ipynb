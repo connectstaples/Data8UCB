{
 "cells": [
  {
   "cell_type": "markdown",
   "metadata": {},
   "source": [
    "# D8 Lec 24, Prof Sanchez \n",
    "## Interpreting Confidence\n",
    "### Sean Villegas\n",
    "\n",
    "\n",
    "Notes:\n",
    "- Prof Sanchez is allergic to repeating code & \" to reporting one number when it comes to estimating population parameters. I'm allergic because, you know, it's just--we know that if we take another sample we're gonna get a different estimate, okay?\"\n",
    "    - **estimates change with the sample**\n",
    "    - **solution**: bootstrap confidence interval \n",
    "\n",
    "\n",
    "New Material: \n",
    "- What does x% confidence mean?\n",
    "    - If we are to create 100 confidence intervals, around x of them will capture the population parameter.\n",
    "- How does sample size affect the confidence interval? \n",
    "    - The larger the sample size, the smaller the width of the interval.\n",
    "- How does confidence level affect the confidence interval?\n",
    "    - The larger the confidence level, the larger the width of the confidence interval.\n",
    "- **Confidence intervals can be used with hypothesis tests**\n",
    "    - Make a (100-p)% confidence interval \n",
    "    - If the value is in the interval, retain the null!\n",
    "    - If not, then reject the null!\n",
    "- **Bootstrap Method Failure**:\n",
    "    - you are trying to estimate a quantity which involves rare subjects in the population\n",
    "    - your original sample size is small\n",
    "    - the probability distribution of the quantity is not bell shaped.\n",
    "- **How many bootstrap samples should you take**\n",
    "    - on the order of at least 10<sup>3</sup>\n",
    "\n",
    "**Confidence Interval is about the parameter, its not about the general population (aka its like you perform a collect function on it)**\n",
    "    - Statement you make about the confidence interval needs to be about the population, not the population quantity\n",
    "    - Confidence interval is a probability statement about the procedure and its ability to work, not about the specific values that an interval might lie in.\n",
    "\n",
    "**Correct statement:**\n",
    "- we are confident that the population quantity (parameter) is between the lower and upper bounds of the interval \n",
    "\n"
   ]
  }
 ],
 "metadata": {
  "language_info": {
   "name": "python"
  }
 },
 "nbformat": 4,
 "nbformat_minor": 2
}
