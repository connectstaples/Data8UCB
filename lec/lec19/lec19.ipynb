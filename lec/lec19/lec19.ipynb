{
 "cells": [
  {
   "cell_type": "markdown",
   "metadata": {},
   "source": [
    "# D8 Lec 19: Hypothesis Testing\n",
    "## Sp 2025 Prof Sanchez\n",
    "### Sean Villegas\n",
    "\n",
    "Notes:\n",
    "- With A/B testing you can conclude there is an association, but you can't conclude _why_ there is an association. too many external factors in play \n",
    "- Introduce: \n",
    "    - The RCT is a method for causal conclusions\n",
    "<center>Randomly assign subjects to either the control group or the treatment group</center>\n",
    "\n",
    "The goal of RCT:\n",
    "- balance out on average\n",
    "- confounding variables\n",
    "- across the treatment and control groups\n",
    "- 2 groups, control & treatment \n",
    "\n",
    "**THEN** you can conclude any difference in groups can be attributed to the treatment.\n",
    "\n",
    "**Choosing a Test Statistic**:\n",
    "- abs difference instead of difference, asking for the effect, aka difference away from 0 \n",
    "- TVD, reporting a categorical distribution (i.e. yes/no/undecided) for both groups \n",
    "\n",
    "\n",
    "For midterm prep: \n",
    "- fall 2021, 2018 \n"
   ]
  }
 ],
 "metadata": {
  "language_info": {
   "name": "python"
  }
 },
 "nbformat": 4,
 "nbformat_minor": 2
}
