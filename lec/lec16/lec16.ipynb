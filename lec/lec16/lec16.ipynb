{
 "cells": [
  {
   "cell_type": "markdown",
   "metadata": {},
   "source": [
    "# Lec 16 - Hypothesis Testing\n",
    "## Prof Sanchez, Spring 2025\n",
    "### Sean Villegas\n",
    "\n",
    "#### Vocab\n",
    "\n",
    "**Total Variation Distance**  - _a statistical measure that defines the \"distance\" between two probability distributions, essentially representing the maximum possible difference in probability that the two distributions assign to any given event, calculated as half the sum of the absolute differences between the probabilities of each event under the two distributions across all possible events_\n",
    "- For each category, compute the difference in proportions between two distributions\n",
    "- Take the absolute value of each difference\n",
    "- Sum, all distances and divide by 2\n",
    "\n",
    "\n",
    "**Categorical distributions** - _a probability distribution that describes the possible outcomes of a categorical variable. Categorical variables can take on values that are not numbers, such as categories like \"sunny\", \"cloudy\", or \"rainy\"_\n",
    "- Bar charts are commonly used to visualize categorical distributions\n",
    "- One axis is categorical, one numeric\n",
    "- The group method counts the number of rows for each value in the column\n",
    "- Bar charts can display the distribution of a categorical variable (e.g. studios):\n",
    "    - One bar for each category\n",
    "    - Length of bar is the count of individuals in that category\n",
    "\n",
    "\n",
    "**Null Hypothesis** - a well defined chance model that specifies exactly how data is generated for the **status quo**\n",
    "\n",
    "**Status Quo** - the current state of affairs or the existing situation, typically represented by the \"null hypothesis\" in statistical testing, which assumes there is no significant effect or change happening unless proven otherwise by data analysis\n",
    "\n",
    "**Alternative Hypothesis** - a different view about how the data was generated\n",
    "\n",
    "**Test Statistic** - a quantity that helps us decide which hypothesis the data is more consistent with\n",
    "**<center>When choosing a Test Statistic, Ask:</center>**\n",
    "\n",
    "- What values of the statistic:\n",
    "    - lean towards the null?\n",
    "    - lean towards the alternative?\n",
    "        - Here, the answer should be just high.\n",
    "        - Make sure to **try** to avoid both high and low.\n",
    "\n",
    "\n",
    "#### Choosing a test statistic\n",
    "- Use alternative viewpoint (abs difference or just difference)\n",
    "- Identify variable types in elements of table\n",
    "\n",
    "\n",
    "**Tossing a coin Hypothesis**\n",
    "Statement: 'You toss a coin that you believe is fair 400 times.' \n",
    "- Model:\n",
    "    - Coin is fair\n",
    "- Alternative Viewpoint\n",
    "    - No, its not\n",
    "    \n",
    "    OR:\n",
    "    - No, its biased towards heads\n",
    "\n",
    "**Total Variation Distance** for Calculating two **Categorical distributions** \n",
    "\n",
    "**Hypothesis Analysis**\n",
    "\n",
    "1. \n",
    "    - simulate a distribution of test statistics according to the null hypothesis and plot it\n",
    "    - place the observed test statistic on this plot \n",
    "\n",
    "2. \n",
    "    - If the observed test statistic is close to the distribution of test statistics:\n",
    "        - this points to the null hypothesis\n",
    "\n",
    "3. \n",
    "    - If the observed test statistic is far away from the distribution of test statistics:\n",
    "        - this points to the alternative hypothesis\n",
    "\n",
    "\n",
    "**Using Data Visualization to Determine Tests**\n",
    "- Visualizing data can be the answer\n",
    "- Lec17 will cover using new tools to analyze data if the answer isn't clear\n",
    "\n"
   ]
  },
  {
   "cell_type": "code",
   "execution_count": null,
   "metadata": {},
   "outputs": [],
   "source": [
    "from datascience import * \n",
    "import numpy as np \n",
    "%matplotlib inline\n",
    "import matplotlib.pyplot as plots\n",
    "plots.style.use('fivethirtyeight')"
   ]
  },
  {
   "cell_type": "code",
   "execution_count": 3,
   "metadata": {},
   "outputs": [
    {
     "data": {
      "text/html": [
       "<table border=\"1\" class=\"dataframe\">\n",
       "    <thead>\n",
       "        <tr>\n",
       "            <th>Ethnicity</th> <th>Eligible</th> <th>Panels</th>\n",
       "        </tr>\n",
       "    </thead>\n",
       "    <tbody>\n",
       "        <tr>\n",
       "            <td>Asian    </td> <td>0.15    </td> <td>0.26  </td>\n",
       "        </tr>\n",
       "        <tr>\n",
       "            <td>Black    </td> <td>0.18    </td> <td>0.08  </td>\n",
       "        </tr>\n",
       "        <tr>\n",
       "            <td>Latino   </td> <td>0.12    </td> <td>0.08  </td>\n",
       "        </tr>\n",
       "        <tr>\n",
       "            <td>White    </td> <td>0.54    </td> <td>0.54  </td>\n",
       "        </tr>\n",
       "        <tr>\n",
       "            <td>Other    </td> <td>0.01    </td> <td>0.04  </td>\n",
       "        </tr>\n",
       "    </tbody>\n",
       "</table>"
      ],
      "text/plain": [
       "<IPython.core.display.HTML object>"
      ]
     },
     "metadata": {},
     "output_type": "display_data"
    },
    {
     "data": {
      "image/png": "[encoded data removed]",
      "text/plain": [
       "<Figure size 600x400 with 1 Axes>"
      ]
     },
     "metadata": {},
     "output_type": "display_data"
    }
   ],
   "source": [
    "\"\"\"The ACLU compiled data on the composition of the jury panels in 11 felony trials in Alameda County in the years 2009 and 2010. \n",
    "In those panels, the total number of people who reported for jury service was 1453\n",
    "\"\"\"\n",
    "jury = Table().with_columns(\n",
    "    'Ethnicity', make_array('Asian', 'Black', 'Latino', 'White', 'Other'),\n",
    "    'Eligible', make_array(0.15, 0.18, 0.12, 0.54, 0.01),\n",
    "    'Panels', make_array(0.26, 0.08, 0.08, 0.54, 0.04)\n",
    ")\n",
    "\n",
    "jury.show()\n",
    "\n",
    "jury.barh('Ethnicity')"
   ]
  },
  {
   "cell_type": "markdown",
   "metadata": {},
   "source": [
    "**[Sample Proportions](https://inferentialthinking.com/chapters/10/4/Random_Sampling_in_Python.html)** - _designed to generate a random sample of proportions from a given categorical distribution, typically using a multinomial sampling process. Its primary purpose is to simulate draws from a distribution_ \n",
    "\n",
    "`sample_proportions(<sample size>, <categorical distribution)>)`\n",
    "- categories in population (list/array of proportions that add up to 1)\n",
    "\n",
    "`table.barh('Label y horizontal') # Plot horizontal bar charts for the table` "
   ]
  },
  {
   "cell_type": "code",
   "execution_count": null,
   "metadata": {},
   "outputs": [
    {
     "name": "stdout",
     "output_type": "stream",
     "text": [
      "Sampe proportions of 1453 participants, using True distribution:  [ 0.14728149  0.18169305  0.12250516  0.54163799  0.00688231]\n"
     ]
    },
    {
     "data": {
      "text/html": [
       "<table border=\"1\" class=\"dataframe\">\n",
       "    <thead>\n",
       "        <tr>\n",
       "            <th>Ethnicity</th> <th>Eligible</th> <th>Panels</th> <th>Simulated</th>\n",
       "        </tr>\n",
       "    </thead>\n",
       "    <tbody>\n",
       "        <tr>\n",
       "            <td>Asian    </td> <td>0.15    </td> <td>0.26  </td> <td>0.147281  </td>\n",
       "        </tr>\n",
       "        <tr>\n",
       "            <td>Black    </td> <td>0.18    </td> <td>0.08  </td> <td>0.181693  </td>\n",
       "        </tr>\n",
       "        <tr>\n",
       "            <td>Latino   </td> <td>0.12    </td> <td>0.08  </td> <td>0.122505  </td>\n",
       "        </tr>\n",
       "        <tr>\n",
       "            <td>White    </td> <td>0.54    </td> <td>0.54  </td> <td>0.541638  </td>\n",
       "        </tr>\n",
       "        <tr>\n",
       "            <td>Other    </td> <td>0.01    </td> <td>0.04  </td> <td>0.00688231</td>\n",
       "        </tr>\n",
       "    </tbody>\n",
       "</table>"
      ],
      "text/plain": [
       "<IPython.core.display.HTML object>"
      ]
     },
     "metadata": {},
     "output_type": "display_data"
    },
    {
     "data": {
      "image/png": "[encoded data removed]",
      "text/plain": [
       "<Figure size 600x400 with 1 Axes>"
      ]
     },
     "metadata": {},
     "output_type": "display_data"
    }
   ],
   "source": [
    "# Below is the true distribution of people from which the 1453 jurors were randomly sampled.\n",
    "model = make_array(0.15, 0.18, 0.12, 0.54, 0.01)\n",
    "simulated = sample_proportions(1453, model)\n",
    "print('Sample proportions of 1453 participants, using True distribution: ', simulated)\n",
    "\n",
    "\n",
    "jury_with_simulated = jury.with_column('Simulated', simulated)\n",
    "jury_with_simulated.show()\n",
    "\n",
    "jury_with_simulated.barh('Ethnicity')"
   ]
  },
  {
   "cell_type": "code",
   "execution_count": 8,
   "metadata": {},
   "outputs": [
    {
     "data": {
      "text/html": [
       "<table border=\"1\" class=\"dataframe\">\n",
       "    <thead>\n",
       "        <tr>\n",
       "            <th>Ethnicity</th> <th>Eligible</th> <th>Panels</th> <th>Difference</th>\n",
       "        </tr>\n",
       "    </thead>\n",
       "    <tbody>\n",
       "        <tr>\n",
       "            <td>Asian    </td> <td>0.15    </td> <td>0.26  </td> <td>0.11      </td>\n",
       "        </tr>\n",
       "        <tr>\n",
       "            <td>Black    </td> <td>0.18    </td> <td>0.08  </td> <td>-0.1      </td>\n",
       "        </tr>\n",
       "        <tr>\n",
       "            <td>Latino   </td> <td>0.12    </td> <td>0.08  </td> <td>-0.04     </td>\n",
       "        </tr>\n",
       "        <tr>\n",
       "            <td>White    </td> <td>0.54    </td> <td>0.54  </td> <td>0         </td>\n",
       "        </tr>\n",
       "        <tr>\n",
       "            <td>Other    </td> <td>0.01    </td> <td>0.04  </td> <td>0.03      </td>\n",
       "        </tr>\n",
       "    </tbody>\n",
       "</table>"
      ],
      "text/plain": [
       "Ethnicity | Eligible | Panels | Difference\n",
       "Asian     | 0.15     | 0.26   | 0.11\n",
       "Black     | 0.18     | 0.08   | -0.1\n",
       "Latino    | 0.12     | 0.08   | -0.04\n",
       "White     | 0.54     | 0.54   | 0\n",
       "Other     | 0.01     | 0.04   | 0.03"
      ]
     },
     "execution_count": 8,
     "metadata": {},
     "output_type": "execute_result"
    }
   ],
   "source": [
    "## Calculating a new statistic\n",
    "diffs = jury.column('Panels') - jury.column('Eligible')\n",
    "jury_with_difference = jury.with_column('Difference', diffs)\n",
    "jury_with_difference"
   ]
  },
  {
   "cell_type": "markdown",
   "metadata": {},
   "source": [
    "#### Question: How can you best combine/use together values in Difference column? "
   ]
  },
  {
   "cell_type": "code",
   "execution_count": 10,
   "metadata": {},
   "outputs": [
    {
     "data": {
      "text/plain": [
       "2.7755575615628914e-17"
      ]
     },
     "execution_count": 10,
     "metadata": {},
     "output_type": "execute_result"
    }
   ],
   "source": [
    "sum(jury_with_difference.column('Difference'))\n"
   ]
  },
  {
   "cell_type": "code",
   "execution_count": 11,
   "metadata": {},
   "outputs": [
    {
     "data": {
      "text/plain": [
       "0.14000000000000001"
      ]
     },
     "execution_count": 11,
     "metadata": {},
     "output_type": "execute_result"
    }
   ],
   "source": [
    "sum(jury_with_difference.where('Difference', are.above(0)).column('Difference'))\n"
   ]
  },
  {
   "cell_type": "code",
   "execution_count": 12,
   "metadata": {},
   "outputs": [
    {
     "data": {
      "text/plain": [
       "0.14000000000000001"
      ]
     },
     "execution_count": 12,
     "metadata": {},
     "output_type": "execute_result"
    }
   ],
   "source": [
    "sum(abs(jury_with_difference.column('Difference')))/2"
   ]
  },
  {
   "cell_type": "markdown",
   "metadata": {},
   "source": [
    "#### Answer: Total Variation Distance\n"
   ]
  },
  {
   "cell_type": "code",
   "execution_count": 13,
   "metadata": {},
   "outputs": [
    {
     "data": {
      "text/plain": [
       "0.14000000000000001"
      ]
     },
     "execution_count": 13,
     "metadata": {},
     "output_type": "execute_result"
    }
   ],
   "source": [
    "def tvd(dist1, dist2):\n",
    "    return sum(abs(dist1 - dist2))/2\n",
    "\n",
    "obsvd_tvd = tvd(jury.column('Panels'), jury.column('Eligible'))\n",
    "obsvd_tvd"
   ]
  },
  {
   "cell_type": "code",
   "execution_count": null,
   "metadata": {},
   "outputs": [
    {
     "data": {
      "text/plain": [
       "0.015251204404679981"
      ]
     },
     "execution_count": 14,
     "metadata": {},
     "output_type": "execute_result"
    }
   ],
   "source": [
    "simulated_tvd = tvd(sample_proportions(1453, model), jury.column('Eligible'))\n",
    "simulated_tvd"
   ]
  },
  {
   "cell_type": "code",
   "execution_count": 19,
   "metadata": {},
   "outputs": [
    {
     "name": "stdout",
     "output_type": "stream",
     "text": [
      "[ 0.01686855  0.01233999  0.01434274 ...,  0.00758431  0.02310392\n",
      "  0.02589126]\n"
     ]
    }
   ],
   "source": [
    "def simulated_tvd():\n",
    "    return tvd(sample_proportions(1453, model), model)\n",
    "\n",
    "tvds = make_array()\n",
    "\n",
    "num_simulations = 10000\n",
    "for i in np.arange(num_simulations):\n",
    "    new_tvd = simulated_tvd()\n",
    "    tvds = np.append(tvds, new_tvd)\n",
    "    # print(tvds)\n",
    "print(tvds)"
   ]
  },
  {
   "cell_type": "code",
   "execution_count": 20,
   "metadata": {},
   "outputs": [
    {
     "name": "stdout",
     "output_type": "stream",
     "text": [
      "The observed TVD of 0.14 is nowhere close to the simulated TVDs!\n"
     ]
    },
    {
     "data": {
      "image/png": "[encoded data removed]",
      "text/plain": [
       "<Figure size 600x400 with 1 Axes>"
      ]
     },
     "metadata": {},
     "output_type": "display_data"
    }
   ],
   "source": [
    "title = 'Simulated TVDs (if model is true)'\n",
    "bins = np.arange(0, .05, .005)\n",
    "\n",
    "Table().with_column(title, tvds).hist(bins = bins)\n",
    "print('The observed TVD of ' + str(obsvd_tvd) + ' is nowhere close to the simulated TVDs!')\n",
    "\n",
    "# Plotting details; ignore this code\n",
    "plots.ylim(-2, 55)\n",
    "plots.scatter(obsvd_tvd, 0, color='red', s=30);"
   ]
  }
 ],
 "metadata": {
  "kernelspec": {
   "display_name": "Python 3 (ipykernel)",
   "language": "python",
   "name": "python3"
  },
  "language_info": {
   "codemirror_mode": {
    "name": "ipython",
    "version": 3
   },
   "file_extension": ".py",
   "mimetype": "text/x-python",
   "name": "python",
   "nbconvert_exporter": "python",
   "pygments_lexer": "ipython3",
   "version": "3.11.8"
  }
 },
 "nbformat": 4,
 "nbformat_minor": 2
}
