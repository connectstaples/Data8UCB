{
 "cells": [
  {
   "cell_type": "markdown",
   "metadata": {},
   "source": [
    "# Data8 Prof Sanchez\n",
    "## A/B Testing\n",
    "### Spring 2025, Sean Villegas\n",
    "\n",
    "\n",
    "- Null: This is the default assumption that there is no effect or no difference\n",
    "- Alternative: What you are testing for, suggesting a difference or effect\n",
    "- Cut off: Some value 0.05 (for not that serious test) or 0.01 for serious tests to model it on\n",
    "- Test Statistic: This is a calculated value (e.g., TVD, avg, distribution) based on your data, which is compared to a critical value or used to compute the p-value.\n",
    "\n",
    "Two scenarios: \n",
    "1. **If the p value is higher than the cut off, you retain the null**\n",
    "2. **If the p value is lower than the cut off, you reject the null and accept alternative**\n",
    "\n",
    "![P Value Image](/Users/macuser1/coding/Data8_git/notes/lectures/lec18/p_value.png)\n",
    "\n",
    "\n",
    "\n",
    "**Creating a P value**\n",
    "1. Using the observed difference, you take the simulated_differences of shuffled values, and set up a comparison\n",
    "\n",
    "`np.sum(observed_differences >= simulated_differences) / sample_size`\n",
    "\n",
    "OR \n",
    "\n",
    "`np.average(observed_differences >= simulated_differences) / sample_size`\n",
    "<center>_average will take the avg of all 0s and 1s, remember Falsy represents a 0th value_</center>\n",
    "\n"
   ]
  },
  {
   "cell_type": "markdown",
   "metadata": {},
   "source": []
  }
 ],
 "metadata": {
  "language_info": {
   "name": "python"
  }
 },
 "nbformat": 4,
 "nbformat_minor": 2
}
