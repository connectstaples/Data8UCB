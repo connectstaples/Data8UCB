{
 "cells": [
  {
   "cell_type": "code",
   "execution_count": 7,
   "metadata": {},
   "outputs": [
    {
     "data": {
      "text/html": [
       "<table border=\"1\" class=\"dataframe\">\n",
       "    <thead>\n",
       "        <tr>\n",
       "            <th>Student</th> <th>Test</th> <th>Score</th>\n",
       "        </tr>\n",
       "    </thead>\n",
       "    <tbody>\n",
       "        <tr>\n",
       "            <td>Alice  </td> <td>Midterm</td> <td>85   </td>\n",
       "        </tr>\n",
       "        <tr>\n",
       "            <td>Bob    </td> <td>Midterm</td> <td>90   </td>\n",
       "        </tr>\n",
       "        <tr>\n",
       "            <td>Alice  </td> <td>Final  </td> <td>95   </td>\n",
       "        </tr>\n",
       "        <tr>\n",
       "            <td>Bob    </td> <td>Final  </td> <td>88   </td>\n",
       "        </tr>\n",
       "    </tbody>\n",
       "</table>"
      ],
      "text/plain": [
       "<IPython.core.display.HTML object>"
      ]
     },
     "metadata": {},
     "output_type": "display_data"
    }
   ],
   "source": [
    "# Syntax\n",
    "\"\"\"\n",
    "table.pivot('column_for_rows', 'column_for_columns', 'values_column', collect_function)\n",
    "\"\"\"\n",
    "\n",
    "from datascience import Table\n",
    "data = Table().with_columns(\n",
    "    'Student', ['Alice', 'Bob', 'Alice', 'Bob'],\n",
    "    'Test', ['Midterm', 'Midterm', 'Final', 'Final'],\n",
    "    'Score', [85, 90, 95, 88]\n",
    ")\n",
    "\n",
    "data.show()"
   ]
  },
  {
   "cell_type": "markdown",
   "metadata": {},
   "source": [
    "1. Columns are the headers: Student, Test, and Score.\n",
    "2. Rows are the data entries, where each row represents a combination of values across these columns \n",
    "    - (e.g., one row is Alice | Midterm | 85)."
   ]
  },
  {
   "cell_type": "code",
   "execution_count": 8,
   "metadata": {},
   "outputs": [
    {
     "data": {
      "text/html": [
       "<table border=\"1\" class=\"dataframe\">\n",
       "    <thead>\n",
       "        <tr>\n",
       "            <th>Test</th> <th>Alice</th> <th>Bob</th>\n",
       "        </tr>\n",
       "    </thead>\n",
       "    <tbody>\n",
       "        <tr>\n",
       "            <td>Final  </td> <td>95   </td> <td>88  </td>\n",
       "        </tr>\n",
       "        <tr>\n",
       "            <td>Midterm</td> <td>85   </td> <td>90  </td>\n",
       "        </tr>\n",
       "    </tbody>\n",
       "</table>"
      ],
      "text/plain": [
       "<IPython.core.display.HTML object>"
      ]
     },
     "metadata": {},
     "output_type": "display_data"
    }
   ],
   "source": [
    "pivot_table = data.pivot('Student', 'Test', 'Score', sum)\n",
    "pivot_table.show()"
   ]
  },
  {
   "cell_type": "markdown",
   "metadata": {},
   "source": [
    "Student becomes rows, Test becomes columns, and Score fills the table. sum is used here, but if there’s only one value per cell, it’s just displayed as-is. Thus the sum call returns values inside the table, just data rather than rows or headers(columns)\n",
    "\n",
    "__**Pivot is like spreading out your data into a grid to see patterns (how a student performed across tests)**__"
   ]
  },
  {
   "cell_type": "markdown",
   "metadata": {},
   "source": [
    "### Join Definition\n",
    "\n",
    "The join method combines two tables based on a shared column (like a key), similar to a database join. It’s typically an inner join by default, **meaning only matching rows are kept**.\n",
    "\n",
    "How it works:\n",
    "\n",
    "You specify:\n",
    "- The column in the first table to match on.\n",
    "- The second table to join with.\n",
    "- The column in the second table to match on (if different from the first).\n",
    "- Rows where the key matches are merged into a single row in the new table.\n",
    "\n",
    "\n",
    "Syntax\n",
    "```\n",
    "table1.join('column_in_table1', table2, 'column_in_table2')\n",
    "```\n"
   ]
  },
  {
   "cell_type": "code",
   "execution_count": 10,
   "metadata": {},
   "outputs": [
    {
     "data": {
      "text/html": [
       "<table border=\"1\" class=\"dataframe\">\n",
       "    <thead>\n",
       "        <tr>\n",
       "            <th>ID</th> <th>Name</th>\n",
       "        </tr>\n",
       "    </thead>\n",
       "    <tbody>\n",
       "        <tr>\n",
       "            <td>1   </td> <td>Alice  </td>\n",
       "        </tr>\n",
       "        <tr>\n",
       "            <td>2   </td> <td>Bob    </td>\n",
       "        </tr>\n",
       "        <tr>\n",
       "            <td>3   </td> <td>Charlie</td>\n",
       "        </tr>\n",
       "    </tbody>\n",
       "</table>"
      ],
      "text/plain": [
       "<IPython.core.display.HTML object>"
      ]
     },
     "metadata": {},
     "output_type": "display_data"
    },
    {
     "data": {
      "text/html": [
       "<table border=\"1\" class=\"dataframe\">\n",
       "    <thead>\n",
       "        <tr>\n",
       "            <th>Student_ID</th> <th>Grade</th>\n",
       "        </tr>\n",
       "    </thead>\n",
       "    <tbody>\n",
       "        <tr>\n",
       "            <td>1         </td> <td>85   </td>\n",
       "        </tr>\n",
       "        <tr>\n",
       "            <td>2         </td> <td>90   </td>\n",
       "        </tr>\n",
       "        <tr>\n",
       "            <td>4         </td> <td>88   </td>\n",
       "        </tr>\n",
       "    </tbody>\n",
       "</table>"
      ],
      "text/plain": [
       "<IPython.core.display.HTML object>"
      ]
     },
     "metadata": {},
     "output_type": "display_data"
    }
   ],
   "source": [
    "students = Table().with_columns(\n",
    "    'ID', [1, 2, 3],\n",
    "    'Name', ['Alice', 'Bob', 'Charlie']\n",
    ")\n",
    "grades = Table().with_columns(\n",
    "    'Student_ID', [1, 2, 4],\n",
    "    'Grade', [85, 90, 88]\n",
    ")\n",
    "students.show()\n",
    "grades.show()"
   ]
  },
  {
   "cell_type": "code",
   "execution_count": 11,
   "metadata": {},
   "outputs": [
    {
     "data": {
      "text/html": [
       "<table border=\"1\" class=\"dataframe\">\n",
       "    <thead>\n",
       "        <tr>\n",
       "            <th>ID</th> <th>Name</th> <th>Grade</th>\n",
       "        </tr>\n",
       "    </thead>\n",
       "    <tbody>\n",
       "        <tr>\n",
       "            <td>1   </td> <td>Alice</td> <td>85   </td>\n",
       "        </tr>\n",
       "        <tr>\n",
       "            <td>2   </td> <td>Bob  </td> <td>90   </td>\n",
       "        </tr>\n",
       "    </tbody>\n",
       "</table>"
      ],
      "text/plain": [
       "<IPython.core.display.HTML object>"
      ]
     },
     "metadata": {},
     "output_type": "display_data"
    }
   ],
   "source": [
    "joined_table = students.join('ID', grades, 'Student_ID')\n",
    "joined_table.show()"
   ]
  },
  {
   "cell_type": "markdown",
   "metadata": {},
   "source": [
    "- Only Alice and Bob appear because their IDs (1 and 2) match in both tables. Charlie (ID 3) and the grade for ID 4 don’t match, so they’re excluded.\n",
    "\n",
    "\n",
    "**Join links related data across tables, but only keeps rows where the key exists in both (inner join behavior).**"
   ]
  },
  {
   "cell_type": "markdown",
   "metadata": {},
   "source": [
    "### Group \n",
    "The group method aggregates(sum, avg, count, mean) data by grouping rows based on a column’s values, then applies a function (like sum, count, or mean) to another column. It’s useful for summarizing data by categories.\n",
    "\n",
    "How it works:\n",
    "\n",
    "You specify:\n",
    "- A column to group by (categories).\n",
    "- An optional aggregation function (default is count, which counts rows per group).\n",
    "- The result is a new table with one row per unique value in the grouping column, showing the aggregated result.\n",
    "\n",
    "```\n",
    "table.group('column_to_group_by', collect_function)\n",
    "```"
   ]
  },
  {
   "cell_type": "code",
   "execution_count": 12,
   "metadata": {},
   "outputs": [
    {
     "data": {
      "text/html": [
       "<table border=\"1\" class=\"dataframe\">\n",
       "    <thead>\n",
       "        <tr>\n",
       "            <th>Student</th> <th>Test sum</th> <th>Score sum</th>\n",
       "        </tr>\n",
       "    </thead>\n",
       "    <tbody>\n",
       "        <tr>\n",
       "            <td>Alice  </td> <td>        </td> <td>180      </td>\n",
       "        </tr>\n",
       "        <tr>\n",
       "            <td>Bob    </td> <td>        </td> <td>178      </td>\n",
       "        </tr>\n",
       "    </tbody>\n",
       "</table>"
      ],
      "text/plain": [
       "<IPython.core.display.HTML object>"
      ]
     },
     "metadata": {},
     "output_type": "display_data"
    }
   ],
   "source": [
    "from datascience import Table\n",
    "data = Table().with_columns(\n",
    "    'Student', ['Alice', 'Bob', 'Alice', 'Bob'],\n",
    "    'Test', ['Midterm', 'Midterm', 'Final', 'Final'],\n",
    "    'Score', [85, 90, 95, 88]\n",
    ")\n",
    "grouped = data.group('Student', sum)\n",
    "grouped.show()"
   ]
  },
  {
   "cell_type": "code",
   "execution_count": 13,
   "metadata": {},
   "outputs": [
    {
     "data": {
      "text/html": [
       "<table border=\"1\" class=\"dataframe\">\n",
       "    <thead>\n",
       "        <tr>\n",
       "            <th>Student</th> <th>count</th>\n",
       "        </tr>\n",
       "    </thead>\n",
       "    <tbody>\n",
       "        <tr>\n",
       "            <td>Alice  </td> <td>2    </td>\n",
       "        </tr>\n",
       "        <tr>\n",
       "            <td>Bob    </td> <td>2    </td>\n",
       "        </tr>\n",
       "    </tbody>\n",
       "</table>"
      ],
      "text/plain": [
       "<IPython.core.display.HTML object>"
      ]
     },
     "metadata": {},
     "output_type": "display_data"
    }
   ],
   "source": [
    "counted = data.group('Student')\n",
    "counted.show()"
   ]
  },
  {
   "cell_type": "markdown",
   "metadata": {},
   "source": [
    "- Counts how many times each student appears.\n",
    "- Group summarizes data within categories, reducing the table to one row per unique value with an aggregated result."
   ]
  },
  {
   "cell_type": "markdown",
   "metadata": {},
   "source": [
    "# For Anki\n",
    "- Pivot: Creates a 2D grid (rows × columns) to crosstabulate data.\n",
    "- Join: Combines two tables side-by-side based on a matching key.\n",
    "- Group: Collapses rows into summaries based on a single column’s categories.\n"
   ]
  }
 ],
 "metadata": {
  "kernelspec": {
   "display_name": "Python 3 (ipykernel)",
   "language": "python",
   "name": "python3"
  },
  "language_info": {
   "codemirror_mode": {
    "name": "ipython",
    "version": 3
   },
   "file_extension": ".py",
   "mimetype": "text/x-python",
   "name": "python",
   "nbconvert_exporter": "python",
   "pygments_lexer": "ipython3",
   "version": "3.11.8"
  }
 },
 "nbformat": 4,
 "nbformat_minor": 2
}
