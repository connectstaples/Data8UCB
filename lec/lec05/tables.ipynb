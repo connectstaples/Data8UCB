{
 "cells": [
  {
   "cell_type": "markdown",
   "metadata": {},
   "source": [
    "# Lecture 5"
   ]
  },
  {
   "cell_type": "code",
   "execution_count": 1,
   "metadata": {},
   "outputs": [
    {
     "name": "stdout",
     "output_type": "stream",
     "text": [
      "Different Statement:\n",
      "array('i', [1, 2, 3, 1, 2, 3])\n",
      "Np.arange Example:\n"
     ]
    },
    {
     "data": {
      "text/plain": [
       "array([2, 4, 6])"
      ]
     },
     "execution_count": 1,
     "metadata": {},
     "output_type": "execute_result"
    }
   ],
   "source": [
    "import array # behaviors differently\n",
    "from datascience import * \n",
    "import numpy as np \n",
    "\n",
    "make_array(1,2,3) * 2 # outputs array([2, 4, 6]) # element wise multiplication from np.arrary\n",
    "\n",
    "print('Different Statement:') \n",
    "an_array = array.array('i', [1, 2, 3])\n",
    "different = an_array * 2 \n",
    "print(different) # array('i', [1, 2, 3, 1, 2, 3]) # sequence repetition is multiplied; similar to lists\n",
    "\n",
    "print('Np.arange Example:')\n",
    "make_array(1, 2, 3) + np.arange(start=1, stop=4)\n",
    "## ([1, 2, 3]) + ([1, 2, 3]) = ([2, 4, 6])"
   ]
  },
  {
   "cell_type": "markdown",
   "metadata": {},
   "source": [
    "### Creating tables "
   ]
  },
  {
   "cell_type": "code",
   "execution_count": 2,
   "metadata": {},
   "outputs": [
    {
     "data": {
      "text/html": [
       "<table border=\"1\" class=\"dataframe\">\n",
       "    <thead>\n",
       "        <tr>\n",
       "            \n",
       "        </tr>\n",
       "    </thead>\n",
       "    <tbody>\n",
       "    </tbody>\n",
       "</table>"
      ],
      "text/plain": []
     },
     "execution_count": 2,
     "metadata": {},
     "output_type": "execute_result"
    }
   ],
   "source": [
    "\n",
    "# table_example = Table.read_table('some.csv') # Reading from a file\n",
    "\n",
    "# Creating from scratch  \n",
    "\n",
    "workout = make_array('Back', 'Bench', 'Calves', 'Squats') # built in array method \n",
    "workout\n",
    "\n",
    "Table()"
   ]
  },
  {
   "cell_type": "code",
   "execution_count": 3,
   "metadata": {},
   "outputs": [
    {
     "data": {
      "text/html": [
       "<table border=\"1\" class=\"dataframe\">\n",
       "    <thead>\n",
       "        <tr>\n",
       "            <th>Must Do's</th> <th>Times per week</th>\n",
       "        </tr>\n",
       "    </thead>\n",
       "    <tbody>\n",
       "        <tr>\n",
       "            <td>Back     </td> <td>0             </td>\n",
       "        </tr>\n",
       "        <tr>\n",
       "            <td>Bench    </td> <td>1             </td>\n",
       "        </tr>\n",
       "        <tr>\n",
       "            <td>Calves   </td> <td>2             </td>\n",
       "        </tr>\n",
       "        <tr>\n",
       "            <td>Squats   </td> <td>3             </td>\n",
       "        </tr>\n",
       "    </tbody>\n",
       "</table>"
      ],
      "text/plain": [
       "Must Do's | Times per week\n",
       "Back      | 0\n",
       "Bench     | 1\n",
       "Calves    | 2\n",
       "Squats    | 3"
      ]
     },
     "execution_count": 3,
     "metadata": {},
     "output_type": "execute_result"
    }
   ],
   "source": [
    "mytop_movements = Table().with_column(\"Must Do's\", workout)\n",
    "mytop_movements\n",
    "\n",
    "mytop_movements.with_column('Times per week', np.arange(4))"
   ]
  },
  {
   "cell_type": "code",
   "execution_count": 4,
   "metadata": {},
   "outputs": [
    {
     "data": {
      "text/html": [
       "<table border=\"1\" class=\"dataframe\">\n",
       "    <thead>\n",
       "        <tr>\n",
       "            <th>Must Do's</th> <th>Times Per Week</th>\n",
       "        </tr>\n",
       "    </thead>\n",
       "    <tbody>\n",
       "        <tr>\n",
       "            <td>Back     </td> <td>0             </td>\n",
       "        </tr>\n",
       "        <tr>\n",
       "            <td>Bench    </td> <td>1             </td>\n",
       "        </tr>\n",
       "        <tr>\n",
       "            <td>Calves   </td> <td>2             </td>\n",
       "        </tr>\n",
       "        <tr>\n",
       "            <td>Squats   </td> <td>3             </td>\n",
       "        </tr>\n",
       "    </tbody>\n",
       "</table>"
      ],
      "text/plain": [
       "Must Do's | Times Per Week\n",
       "Back      | 0\n",
       "Bench     | 1\n",
       "Calves    | 2\n",
       "Squats    | 3"
      ]
     },
     "execution_count": 4,
     "metadata": {},
     "output_type": "execute_result"
    }
   ],
   "source": [
    "# data science way\n",
    "\n",
    "Table().with_columns(\n",
    "    \"Must Do's\", workout, \n",
    "    'Times Per Week', np.arange(4) \n",
    ")"
   ]
  },
  {
   "cell_type": "markdown",
   "metadata": {},
   "source": [
    "**How to find number of rows/columns in table, and show data** "
   ]
  },
  {
   "cell_type": "code",
   "execution_count": 7,
   "metadata": {},
   "outputs": [
    {
     "name": "stdout",
     "output_type": "stream",
     "text": [
      "Number of rows:  4\n",
      "Number of columns:  1\n"
     ]
    },
    {
     "data": {
      "text/html": [
       "<table border=\"1\" class=\"dataframe\">\n",
       "    <thead>\n",
       "        <tr>\n",
       "            <th>Must Do's</th>\n",
       "        </tr>\n",
       "    </thead>\n",
       "    <tbody>\n",
       "        <tr>\n",
       "            <td>Back     </td>\n",
       "        </tr>\n",
       "        <tr>\n",
       "            <td>Bench    </td>\n",
       "        </tr>\n",
       "        <tr>\n",
       "            <td>Calves   </td>\n",
       "        </tr>\n",
       "        <tr>\n",
       "            <td>Squats   </td>\n",
       "        </tr>\n",
       "    </tbody>\n",
       "</table>"
      ],
      "text/plain": [
       "<IPython.core.display.HTML object>"
      ]
     },
     "metadata": {},
     "output_type": "display_data"
    },
    {
     "name": "stdout",
     "output_type": "stream",
     "text": [
      "Column Headers/Lables:  (\"Must Do's\",)\n"
     ]
    }
   ],
   "source": [
    "number_of_rows = mytop_movements.num_rows\n",
    "number_of_columns = mytop_movements.num_columns\n",
    "\n",
    "print('Number of rows: ', number_of_rows)\n",
    "print('Number of columns: ', number_of_columns)\n",
    "\n",
    "# showing data\n",
    "# mytop_movements.take(np.arange(3))\n",
    "# mytop_movements.take() # similar to table.head()\n",
    "mytop_movements.show() # shows ALL data\n",
    "print('Column Headers/Lables: ', mytop_movements.labels)\n"
   ]
  },
  {
   "cell_type": "code",
   "execution_count": null,
   "metadata": {},
   "outputs": [],
   "source": [
    "recent_curry = nba.where('name', 'Stephen Curry').where('season', are.between_or_equal_to(2016, 2020))\n",
    "\"\"\" .where('column name', 'what to search for').where('column name', <syntax>)\"\"\""
   ]
  }
 ],
 "metadata": {
  "kernelspec": {
   "display_name": "Python 3 (ipykernel)",
   "language": "python",
   "name": "python3"
  },
  "language_info": {
   "codemirror_mode": {
    "name": "ipython",
    "version": 3
   },
   "file_extension": ".py",
   "mimetype": "text/x-python",
   "name": "python",
   "nbconvert_exporter": "python",
   "pygments_lexer": "ipython3",
   "version": "3.11.8"
  }
 },
 "nbformat": 4,
 "nbformat_minor": 2
}
