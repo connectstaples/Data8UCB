{
 "cells": [
  {
   "cell_type": "markdown",
   "metadata": {},
   "source": [
    "# D8 Lec 17, Prof Sanchez \n",
    "## Sean Villegas\n",
    "\n",
    "\n",
    "**Comments on Midterm Prep**:\n",
    "- Discussions are relevant to midterm\n",
    "- **REVIEW PAST DISCUSSIONS**\n",
    "- make problems based on code\n",
    "\n",
    "**Review**\n",
    "- Null hypothesis\n",
    "    - well defined chance model that specifies how data is generated\n",
    "    - status quo\n",
    "\n",
    "- Alternative hypothesis\n",
    "    - a different view about how the data was generated.\n",
    "\n",
    "- Test statistic\n",
    "    - a quantity that helps us decide which hypothesis the data is more consistent with\n",
    "\n",
    "- What values of the statistic:\n",
    "    - lean towards the null?\n",
    "    - lean towards the alternative?\n",
    "\n",
    "- We should pick a test statistic so that:\n",
    "    - values in one direction lean toward the null\n",
    "    - values in the other lean toward the alternative.\n",
    "\n",
    "- Hypothesis to go with\n",
    "    - simulate a distribution of test statistics according to the null hypothesis and plot it\n",
    "    - place the observed test statistic on this plot \n",
    "    - If the observed test statistic is close to the simulated distribution of test statistics:\n",
    "        - this points to the null hypothesis\n",
    "    - If the observed test statistic is far away from the simulated distribution of test statistics:\n",
    "        - this points to the alternative hypothesis\n",
    "\n",
    "\n",
    "\n"
   ]
  }
 ],
 "metadata": {
  "language_info": {
   "name": "python"
  }
 },
 "nbformat": 4,
 "nbformat_minor": 2
}
