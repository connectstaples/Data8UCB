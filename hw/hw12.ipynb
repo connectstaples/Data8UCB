{
 "cells": [
  {
   "cell_type": "code",
   "execution_count": 1,
   "id": "62d5e3c7",
   "metadata": {
    "deletable": false,
    "editable": false
   },
   "outputs": [],
   "source": [
    "# Initialize Otter\n",
    "import otter\n",
    "grader = otter.Notebook(\"hw12.ipynb\")"
   ]
  },
  {
   "cell_type": "markdown",
   "id": "a03bb763",
   "metadata": {},
   "source": [
    "<img src=\"data8logo.png\" alt=\"Data 8 Logo\" style=\"width: 15%; float: right; padding: 1%; margin-right: 2%;\"/>\n",
    "\n",
    "# Homework 12: MLR\n",
    "\n",
    "**Helpful Resource:**\n",
    "\n",
    "- [Python Reference](http://data8.org/sp25/reference/): Cheat sheet of helpful array & table methods used in Data 8!\n",
    "\n",
    "**Recommended Reading**: \n",
    "\n",
    "* [Classification](https://www.inferentialthinking.com/chapters/17/Classification.html)\n",
    "* [Multiple Regression](https://inferentialthinking.com/chapters/17/6/Multiple_Regression.html)\n",
    "\n",
    "**Credits**:\n",
    "\n",
    "* **Conan Smallwood** + Fall 2024 Pedagogy Team\n",
    "* **Dagny Streit** + Spring 2025 Pedagogy Team\n",
    "* **Ella DeGuzman & Brandon Su** + Spring 2025 Content Team"
   ]
  },
  {
   "cell_type": "markdown",
   "id": "f5a64a93",
   "metadata": {},
   "source": [
    "Please complete this notebook by filling in the cells provided. **Before you begin, execute the cell below to setup the notebook by importing some helpful libraries.** Each time you start your server, you will need to execute this cell again.\n",
    "\n",
    "For all problems that you must write explanations and sentences for, you **must** provide your answer in the designated space. Moreover, throughout this homework and all future ones, **please be sure to not re-assign variables throughout the notebook!** For example, if you use `max_temperature` in your answer to one question, do not reassign it later on. Otherwise, you will fail tests that you thought you were passing previously!\n",
    "\n",
    "**Deadline:**\n",
    "\n",
    "This assignment is **due Sunday, 5/4 at 5:00pm PT**. Submissions after this time will be accepted for 24 hours and will incur a 20% penalty. Any submissions later than this 24 hour period will not be accepted unless an extension has been granted as per the [policies](http://data8.org/sp25/policies/) page. Turn it in by Saturday, 5/3 at 5:00pm PT for 5 extra credit points.\n",
    "\n",
    "<span style=\"color:red\">**Note: This homework has hidden tests on it. That means even though tests may say 100% passed, it doesn't mean your final grade will be 100%. We will be running more tests for correctness once everyone turns in the homework.**</span>\n",
    "\n",
    "Directly sharing answers is not okay, but discussing problems with the course staff or with other students is encouraged. Refer to the [policies](http://data8.org/sp25/policies/#learning-cooperatively) page to learn more about how to learn cooperatively.\n",
    "\n",
    "You should start early so that you have time to get help if you're stuck. Office hours are held Monday through Friday in [Warren Hall](https://www.berkeley.edu/map?warren) 101B. The office hours schedule appears [here](http://data8.org/sp25/schedule/)."
   ]
  },
  {
   "cell_type": "markdown",
   "id": "c0c8adcd",
   "metadata": {},
   "source": [
    "---\n",
    "\n",
    "The point breakdown for this assignment is given in the table below:\n",
    "| Category | Points |\n",
    "| --- | --- |\n",
    "| Autograder (Coding questions) | 87 |\n",
    "| Written | 13 |\n",
    "| **Total** | 100 |"
   ]
  },
  {
   "cell_type": "code",
   "execution_count": 2,
   "id": "a22e94dd-fb13-4095-b769-21b97fcb538d",
   "metadata": {},
   "outputs": [],
   "source": [
    "# Run this cell to set up the notebook, but please don't change it.\n",
    "\n",
    "import numpy as np\n",
    "from datascience import * \n",
    "import hashlib\n",
    "\n",
    "# These lines do some fancy plotting magic.\n",
    "%matplotlib inline\n",
    "import matplotlib.pyplot as plt\n",
    "plt.style.use('fivethirtyeight')\n",
    "import warnings\n",
    "warnings.simplefilter('ignore', FutureWarning)"
   ]
  },
  {
   "cell_type": "markdown",
   "id": "25b62371-ee02-4e89-8d9c-3db1f8477092",
   "metadata": {},
   "source": [
    "<hr style=\"border: 5px solid #003262;\" />\n",
    "<hr style=\"border: 1px solid #fdb515;\" />\n",
    "\n",
    "## 1. Exploration of CO2 Emissions Dataset"
   ]
  },
  {
   "cell_type": "markdown",
   "id": "2a1ee4d1-3fa6-40f7-9eb5-fada73ca0396",
   "metadata": {},
   "source": [
    "In the following exploration, we will be working with a dataset containing 7385 cars, their specifications, and their CO2 emissions (g/km). "
   ]
  },
  {
   "cell_type": "markdown",
   "id": "fa49fd13",
   "metadata": {},
   "source": [
    "Run the following cell to load information about `co2_raw` and preview the first few rows."
   ]
  },
  {
   "cell_type": "code",
   "execution_count": 3,
   "id": "4eb1f915-3fa7-4bdd-9a4f-cd2c5a3413d4",
   "metadata": {},
   "outputs": [
    {
     "data": {
      "text/html": [
       "<table border=\"1\" class=\"dataframe\">\n",
       "    <thead>\n",
       "        <tr>\n",
       "            <th>Make</th> <th>Model</th> <th>Engine Size(L)</th> <th>Cylinders</th> <th>Fuel Consumption City (L/100 km)</th> <th>Fuel Consumption Hwy (L/100 km)</th> <th>CO2 Emissions(g/km)</th>\n",
       "        </tr>\n",
       "    </thead>\n",
       "    <tbody>\n",
       "        <tr>\n",
       "            <td>ACURA</td> <td>ILX       </td> <td>2             </td> <td>4        </td> <td>9.9                             </td> <td>6.7                            </td> <td>196                </td>\n",
       "        </tr>\n",
       "        <tr>\n",
       "            <td>ACURA</td> <td>ILX       </td> <td>2.4           </td> <td>4        </td> <td>11.2                            </td> <td>7.7                            </td> <td>221                </td>\n",
       "        </tr>\n",
       "        <tr>\n",
       "            <td>ACURA</td> <td>ILX HYBRID</td> <td>1.5           </td> <td>4        </td> <td>6                               </td> <td>5.8                            </td> <td>136                </td>\n",
       "        </tr>\n",
       "        <tr>\n",
       "            <td>ACURA</td> <td>MDX 4WD   </td> <td>3.5           </td> <td>6        </td> <td>12.7                            </td> <td>9.1                            </td> <td>255                </td>\n",
       "        </tr>\n",
       "        <tr>\n",
       "            <td>ACURA</td> <td>RDX AWD   </td> <td>3.5           </td> <td>6        </td> <td>12.1                            </td> <td>8.7                            </td> <td>244                </td>\n",
       "        </tr>\n",
       "    </tbody>\n",
       "</table>\n",
       "<p>... (7380 rows omitted)</p>"
      ],
      "text/plain": [
       "<IPython.core.display.HTML object>"
      ]
     },
     "metadata": {},
     "output_type": "display_data"
    }
   ],
   "source": [
    "co2_raw = Table().read_table(\"CO2 Emissions.csv\").drop(2,5,6,9,10)\n",
    "co2_raw.show(5)"
   ]
  },
  {
   "cell_type": "markdown",
   "id": "30cc8891-5e71-4ee5-b684-eb0b80a13983",
   "metadata": {},
   "source": [
    "For the sake of our exploration, let's rename some of the columns and call this new table `co2`."
   ]
  },
  {
   "cell_type": "code",
   "execution_count": 4,
   "id": "5ef2ddf6-6cbb-4119-a04d-84e786d82ab6",
   "metadata": {},
   "outputs": [
    {
     "data": {
      "text/html": [
       "<table border=\"1\" class=\"dataframe\">\n",
       "    <thead>\n",
       "        <tr>\n",
       "            <th>Make</th> <th>Model</th> <th>Engine</th> <th>Cylinders</th> <th>Fuel (City)</th> <th>Fuel (Hwy)</th> <th>Emissions</th>\n",
       "        </tr>\n",
       "    </thead>\n",
       "    <tbody>\n",
       "        <tr>\n",
       "            <td>ACURA</td> <td>ILX       </td> <td>2     </td> <td>4        </td> <td>9.9        </td> <td>6.7       </td> <td>196      </td>\n",
       "        </tr>\n",
       "        <tr>\n",
       "            <td>ACURA</td> <td>ILX       </td> <td>2.4   </td> <td>4        </td> <td>11.2       </td> <td>7.7       </td> <td>221      </td>\n",
       "        </tr>\n",
       "        <tr>\n",
       "            <td>ACURA</td> <td>ILX HYBRID</td> <td>1.5   </td> <td>4        </td> <td>6          </td> <td>5.8       </td> <td>136      </td>\n",
       "        </tr>\n",
       "        <tr>\n",
       "            <td>ACURA</td> <td>MDX 4WD   </td> <td>3.5   </td> <td>6        </td> <td>12.7       </td> <td>9.1       </td> <td>255      </td>\n",
       "        </tr>\n",
       "        <tr>\n",
       "            <td>ACURA</td> <td>RDX AWD   </td> <td>3.5   </td> <td>6        </td> <td>12.1       </td> <td>8.7       </td> <td>244      </td>\n",
       "        </tr>\n",
       "    </tbody>\n",
       "</table>\n",
       "<p>... (7380 rows omitted)</p>"
      ],
      "text/plain": [
       "<IPython.core.display.HTML object>"
      ]
     },
     "metadata": {},
     "output_type": "display_data"
    }
   ],
   "source": [
    "co2 = co2_raw.relabeled(\n",
    "    \"Engine Size(L)\", \"Engine\").relabeled(\n",
    "    \"Fuel Consumption City (L/100 km)\", \"Fuel (City)\").relabeled(\n",
    "    \"Fuel Consumption Hwy (L/100 km)\", \"Fuel (Hwy)\").relabeled(\n",
    "    \"CO2 Emissions(g/km)\", \"Emissions\")\n",
    "co2.show(5)"
   ]
  },
  {
   "cell_type": "markdown",
   "id": "7db85436-c389-45d5-8cf3-22a5478ec0a2",
   "metadata": {},
   "source": [
    "We aim to predict the average CO2 emissions in grams per kilometer of an unseen car based on its __Engine__, __Cylinders__, __Fuel (City)__, and __Fuel (Hwy)__. To do this, we must first standardize and explore the data!"
   ]
  },
  {
   "cell_type": "markdown",
   "id": "50199e52-7eab-4fe3-abdc-4da0790c0f6b",
   "metadata": {
    "deletable": false,
    "editable": false
   },
   "source": [
    "---\n",
    "\n",
    "__Question 1.1__ Define a function `standardize` that takes in a column name `col` in a table `tbl`, and returns that column as an array in standard units. __(3 Points)__"
   ]
  },
  {
   "cell_type": "code",
   "execution_count": 5,
   "id": "dd94e1ed-1c29-49da-89a2-32f83d6feedc",
   "metadata": {
    "tags": []
   },
   "outputs": [],
   "source": [
    "def standardize(tbl, col):\n",
    "    arr = tbl.column(col)\n",
    "    su = (arr - np.mean(arr)) / np.std(arr) \n",
    "    return su "
   ]
  },
  {
   "cell_type": "code",
   "execution_count": 6,
   "id": "2c12dc9d",
   "metadata": {
    "deletable": false,
    "editable": false
   },
   "outputs": [
    {
     "data": {
      "text/html": [
       "<p><strong><pre style='display: inline;'>q1_1</pre></strong> passed! ✨</p>"
      ],
      "text/plain": [
       "q1_1 results: All test cases passed!"
      ]
     },
     "execution_count": 6,
     "metadata": {},
     "output_type": "execute_result"
    }
   ],
   "source": [
    "grader.check(\"q1_1\")"
   ]
  },
  {
   "cell_type": "markdown",
   "id": "fc2589d0-8146-4e30-b5e7-80da50f4e0ec",
   "metadata": {
    "deletable": false,
    "editable": false
   },
   "source": [
    "---\n",
    "\n",
    "__Question 1.2__ Define a function `correlation` that takes in the names of two columns (`x` and `y`) in a table `tbl`, and returns the correlation coefficient `r` between the two columns. __(3 Points)__"
   ]
  },
  {
   "cell_type": "code",
   "execution_count": 7,
   "id": "1130c7d0-cba6-4ed0-a773-6f88766315f2",
   "metadata": {
    "tags": []
   },
   "outputs": [
    {
     "data": {
      "text/plain": [
       "0.8511446437900011"
      ]
     },
     "execution_count": 7,
     "metadata": {},
     "output_type": "execute_result"
    }
   ],
   "source": [
    "def correlation(tbl, x, y):\n",
    "    # return np.mean(tbl.column(x) * tbl.column(y)) # returns 859.29689911983746\n",
    "    return np.mean(standardize(tbl, x) * standardize(tbl, y)) # we want in su \n",
    "\n",
    "correlation(co2, \"Engine\", \"Emissions\")"
   ]
  },
  {
   "cell_type": "code",
   "execution_count": 8,
   "id": "95e8f192",
   "metadata": {
    "deletable": false,
    "editable": false
   },
   "outputs": [
    {
     "data": {
      "text/html": [
       "<p><strong><pre style='display: inline;'>q1_2</pre></strong> passed! ✨</p>"
      ],
      "text/plain": [
       "q1_2 results: All test cases passed!"
      ]
     },
     "execution_count": 8,
     "metadata": {},
     "output_type": "execute_result"
    }
   ],
   "source": [
    "grader.check(\"q1_2\")"
   ]
  },
  {
   "cell_type": "markdown",
   "id": "48e276bb-9748-4652-b390-897e3cd6fb76",
   "metadata": {
    "deletable": false,
    "editable": false
   },
   "source": [
    "---\n",
    "\n",
    "__Question 1.3__ Using the function you previously defined, calculate the correlation coefficient between `Emissions` and all other _numerical_ columns in the `co2` table. __(3 Points)__\n",
    "\n",
    "Note: For the sake of passing the public tests, make sure `numerical_column_names` is an array of **strings**."
   ]
  },
  {
   "cell_type": "code",
   "execution_count": 9,
   "id": "814b3575-5192-42a5-89a2-12474eece37e",
   "metadata": {
    "tags": []
   },
   "outputs": [
    {
     "name": "stdout",
     "output_type": "stream",
     "text": [
      "Engine: 0.8511446437900011\n",
      "Cylinders: 0.8326436002237774\n",
      "Fuel (City): 0.9195924749024844\n",
      "Fuel (Hwy): 0.8835359454649433\n"
     ]
    }
   ],
   "source": [
    "numerical_column_names = make_array(\"Engine\", \"Cylinders\", \"Fuel (City)\", \"Fuel (Hwy)\")\n",
    "\n",
    "for col_name in numerical_column_names:\n",
    "    current_r = correlation(co2, col_name, \"Emissions\")\n",
    "    print(f\"{col_name}: {current_r}\")"
   ]
  },
  {
   "cell_type": "code",
   "execution_count": 10,
   "id": "9149674c",
   "metadata": {
    "deletable": false,
    "editable": false
   },
   "outputs": [
    {
     "data": {
      "text/html": [
       "<p><strong><pre style='display: inline;'>q1_3</pre></strong> passed! ✨</p>"
      ],
      "text/plain": [
       "q1_3 results: All test cases passed!"
      ]
     },
     "execution_count": 10,
     "metadata": {},
     "output_type": "execute_result"
    }
   ],
   "source": [
    "grader.check(\"q1_3\")"
   ]
  },
  {
   "cell_type": "markdown",
   "id": "9ca2f674-22b1-4a08-bc3b-ec4d50d2ff00",
   "metadata": {
    "deletable": false,
    "editable": false
   },
   "source": [
    "---\n",
    "\n",
    "__Question 1.4__ Which numerical column is most strongly correlated with __Emissions__? Assign `highest_correlation` to the integer corresponding to the correct column. __(3 Points)__\n",
    "\n",
    "1. Engine\n",
    "2. Cylinders\n",
    "3. Fuel (City)\n",
    "4. Fuel (Hwy)"
   ]
  },
  {
   "cell_type": "code",
   "execution_count": 11,
   "id": "4f269ddc",
   "metadata": {
    "tags": []
   },
   "outputs": [],
   "source": [
    "highest_correlation = 3"
   ]
  },
  {
   "cell_type": "code",
   "execution_count": 12,
   "id": "35f98508",
   "metadata": {
    "deletable": false,
    "editable": false
   },
   "outputs": [
    {
     "data": {
      "text/html": [
       "<p><strong><pre style='display: inline;'>q1_4</pre></strong> passed! 💯</p>"
      ],
      "text/plain": [
       "q1_4 results: All test cases passed!"
      ]
     },
     "execution_count": 12,
     "metadata": {},
     "output_type": "execute_result"
    }
   ],
   "source": [
    "grader.check(\"q1_4\")"
   ]
  },
  {
   "cell_type": "markdown",
   "id": "d6647f99-b3d7-4e8a-9f5f-72ae45c17249",
   "metadata": {
    "deletable": false,
    "editable": false
   },
   "source": [
    "<!-- BEGIN QUESTION -->\n",
    "\n",
    "---\n",
    "\n",
    "__Question 1.5__ Now, let's visualize the relationship between __Fuel (City)__ and __Emissions__. In the cell below, produce a scatter plot that plots the __Fuel (City)__ and __Emissions__ of every entry in the `co2` table with __Emissions__ on the y-axis. __(3 Points)__"
   ]
  },
  {
   "cell_type": "code",
   "execution_count": 13,
   "id": "d84c922f-5e0e-4db9-bed9-dd587d7ecb21",
   "metadata": {
    "tags": []
   },
   "outputs": [
    {
     "data": {
      "image/png": "[encoded data removed]",
      "text/plain": [
       "<Figure size 500x500 with 1 Axes>"
      ]
     },
     "metadata": {},
     "output_type": "display_data"
    }
   ],
   "source": [
    "co2.scatter(\"Fuel (City)\", \"Emissions\", fit_line=True)"
   ]
  },
  {
   "cell_type": "markdown",
   "id": "66ae56c7-86c6-4284-9abe-f5d9ea35dd09",
   "metadata": {
    "deletable": false,
    "editable": false
   },
   "source": [
    "<!-- END QUESTION -->\n",
    "\n",
    "Woah! It looks like the points are very tightly clustered around one line... or, two lines? What could be the cause of this? Let's take another look at our table and see which column could possibly explain what we see in the scatter plot."
   ]
  },
  {
   "cell_type": "markdown",
   "id": "43487ce9-6e6e-449c-a846-68b3b4cc9d50",
   "metadata": {
    "deletable": false,
    "editable": false
   },
   "source": [
    "---\n",
    "\n",
    "__Question 1.6__ Assign `unique_cylinders_values` to a two-column table: the first column should contain unique value in `Cylinders`; the second column should contain the number of times that each of these unique values appear in the `co2` table. __(3 Points)__"
   ]
  },
  {
   "cell_type": "markdown",
   "id": "c2b1cc2f-5ef8-4c73-b670-1567e1444d08",
   "metadata": {},
   "source": [
    "$\\text{Unique values}\\Rightarrow\\text{tbl.group}$"
   ]
  },
  {
   "cell_type": "code",
   "execution_count": 14,
   "id": "3f3072ad-4008-4682-ad47-ab97113509f1",
   "metadata": {
    "tags": []
   },
   "outputs": [
    {
     "data": {
      "text/html": [
       "<table border=\"1\" class=\"dataframe\">\n",
       "    <thead>\n",
       "        <tr>\n",
       "            <th>Cylinders</th> <th>count</th>\n",
       "        </tr>\n",
       "    </thead>\n",
       "    <tbody>\n",
       "        <tr>\n",
       "            <td>3        </td> <td>95   </td>\n",
       "        </tr>\n",
       "        <tr>\n",
       "            <td>4        </td> <td>3220 </td>\n",
       "        </tr>\n",
       "        <tr>\n",
       "            <td>5        </td> <td>26   </td>\n",
       "        </tr>\n",
       "        <tr>\n",
       "            <td>6        </td> <td>2446 </td>\n",
       "        </tr>\n",
       "        <tr>\n",
       "            <td>8        </td> <td>1402 </td>\n",
       "        </tr>\n",
       "        <tr>\n",
       "            <td>10       </td> <td>42   </td>\n",
       "        </tr>\n",
       "        <tr>\n",
       "            <td>12       </td> <td>151  </td>\n",
       "        </tr>\n",
       "        <tr>\n",
       "            <td>16       </td> <td>3    </td>\n",
       "        </tr>\n",
       "    </tbody>\n",
       "</table>"
      ],
      "text/plain": [
       "Cylinders | count\n",
       "3         | 95\n",
       "4         | 3220\n",
       "5         | 26\n",
       "6         | 2446\n",
       "8         | 1402\n",
       "10        | 42\n",
       "12        | 151\n",
       "16        | 3"
      ]
     },
     "execution_count": 14,
     "metadata": {},
     "output_type": "execute_result"
    }
   ],
   "source": [
    "unique_cylinders_values = co2.group(\"Cylinders\")\n",
    "unique_cylinders_values"
   ]
  },
  {
   "cell_type": "code",
   "execution_count": 15,
   "id": "6f1f159e",
   "metadata": {
    "deletable": false,
    "editable": false
   },
   "outputs": [
    {
     "data": {
      "text/html": [
       "<p><strong><pre style='display: inline;'>q1_6</pre></strong> passed! 🍀</p>"
      ],
      "text/plain": [
       "q1_6 results: All test cases passed!"
      ]
     },
     "execution_count": 15,
     "metadata": {},
     "output_type": "execute_result"
    }
   ],
   "source": [
    "grader.check(\"q1_6\")"
   ]
  },
  {
   "cell_type": "markdown",
   "id": "521f5546-b448-42db-a1ad-4699edac3b74",
   "metadata": {},
   "source": [
    "It seems that most of the cars in the table fall under one of few __Cylinders__ values. Could this explain the split we see in the scatter plot? "
   ]
  },
  {
   "cell_type": "markdown",
   "id": "fd722e47-3df2-43cf-89ea-1fbd552b891b",
   "metadata": {
    "deletable": false,
    "editable": false
   },
   "source": [
    "---\n",
    "\n",
    "__Question 1.7__ Create a table called `co2_new` by adding a new column `Cylinders_and_City` to the `co2` table that is the sum of the columns `Fuel (City)` and `Cylinders`. Then, find the correlation between this new column and `Emissions`. __(3 Points)__"
   ]
  },
  {
   "cell_type": "code",
   "execution_count": 16,
   "id": "b0c66721-22ce-4cab-bd69-8e74c23f88b9",
   "metadata": {
    "tags": []
   },
   "outputs": [
    {
     "data": {
      "text/plain": [
       "0.93263817235145607"
      ]
     },
     "execution_count": 16,
     "metadata": {},
     "output_type": "execute_result"
    }
   ],
   "source": [
    "co2_new = co2.with_columns(\"Cylinders_and_City\", co2.column(\"Fuel (City)\") + co2.column(\"Cylinders\")) # didnt like sum function because sum(iterable, start=0)\n",
    "# i.e. + adds each element wise in the array \n",
    "strong_correlation = correlation(co2_new, \"Cylinders_and_City\", \"Emissions\")\n",
    "strong_correlation"
   ]
  },
  {
   "cell_type": "code",
   "execution_count": 17,
   "id": "9e89de5d",
   "metadata": {
    "deletable": false,
    "editable": false
   },
   "outputs": [
    {
     "data": {
      "text/html": [
       "<p><strong><pre style='display: inline;'>q1_7</pre></strong> passed! 🙌</p>"
      ],
      "text/plain": [
       "q1_7 results: All test cases passed!"
      ]
     },
     "execution_count": 17,
     "metadata": {},
     "output_type": "execute_result"
    }
   ],
   "source": [
    "grader.check(\"q1_7\")"
   ]
  },
  {
   "cell_type": "markdown",
   "id": "99f941de-0f8e-4544-860f-f43610b998dd",
   "metadata": {
    "deletable": false,
    "editable": false
   },
   "source": [
    "---\n",
    "\n",
    "__Question 1.8__ True or False: The correlation coefficient between __Emissions__ and the sum of the __Cylinders__ and __Fuel (City)__ columns is _greater_ than the correlation coefficient between __Emissions__ and just the __Fuel (City)__ column. Assign `answer` to either `True` or `False`. __(3 Points)__"
   ]
  },
  {
   "cell_type": "code",
   "execution_count": 18,
   "id": "dd0ce8a5",
   "metadata": {
    "tags": []
   },
   "outputs": [],
   "source": [
    "answer = True # bool(1) :-) #  City 0.9195924749024844 < Sum 0.93263817235145607"
   ]
  },
  {
   "cell_type": "code",
   "execution_count": 19,
   "id": "a90a3406",
   "metadata": {
    "deletable": false,
    "editable": false
   },
   "outputs": [
    {
     "data": {
      "text/html": [
       "<p><strong><pre style='display: inline;'>q1_8</pre></strong> passed! 💯</p>"
      ],
      "text/plain": [
       "q1_8 results: All test cases passed!"
      ]
     },
     "execution_count": 19,
     "metadata": {},
     "output_type": "execute_result"
    }
   ],
   "source": [
    "grader.check(\"q1_8\")"
   ]
  },
  {
   "cell_type": "markdown",
   "id": "96596e31-790f-4568-8646-315bccb63aaf",
   "metadata": {},
   "source": [
    "Now, let's visualize this new column on a scatter plot."
   ]
  },
  {
   "cell_type": "code",
   "execution_count": 20,
   "id": "f456cf93-1895-4239-97b4-81eb6807379d",
   "metadata": {},
   "outputs": [
    {
     "data": {
      "image/png": "[encoded data removed]",
      "text/plain": [
       "<Figure size 500x500 with 1 Axes>"
      ]
     },
     "metadata": {},
     "output_type": "display_data"
    }
   ],
   "source": [
    "co2_new.scatter(\"Cylinders_and_City\", \"Emissions\", fit_line=True)"
   ]
  },
  {
   "cell_type": "markdown",
   "id": "65cd07c6-1ee7-4ace-8a73-cfbb51e173ae",
   "metadata": {},
   "source": [
    "This looks more like a scatter plot that we're used to seeing! **A lot of the time, there is more than one variable that contributes to the variable we are trying to predict.** Sure, we can just use fuel consumption in the city to predict a car's emission levels, but there are other variables that we aren't accounting for! Including _multiple_ variables in our regression increases our model's ability to capture more complex patterns, and account for multiple factors that may be affecting the variable we want to predict!"
   ]
  },
  {
   "cell_type": "markdown",
   "id": "1e431922-4b9a-4678-bc6b-abcf83d7e9f7",
   "metadata": {},
   "source": [
    "<hr style=\"border: 5px solid #003262;\" />\n",
    "<hr style=\"border: 1px solid #fdb515;\" />\n",
    "\n",
    "## 2. Multiple Linear Regression to Predict CO2 Emissions"
   ]
  },
  {
   "cell_type": "markdown",
   "id": "5b735cc1-0602-473d-8982-b860a3d42974",
   "metadata": {},
   "source": [
    "\n",
    "<div style=\"font-family: 'Times New Roman'; font-size: 18px;\">\n",
    "    \n",
    "**Notes:**\n",
    "1. In multiple linear regression, a numerical output is predicted from numerical input attributes by multiplying each attribute value by a different slope, then summing the results.\n",
    "2. Before we begin prediction, we split our data randomly into a training and test set of equal size.\n",
    "3. The slopes in multiple regression is an array that has one slope value for each attribute in an example.\n",
    "   - Predicting the x involves multiplying each attribute by the slope and summing the result\n",
    "   - Since the example_slopes above were chosen at random, we should not expect them to provide accurate predictions at all. (i.e. when comparing\n",
    "4. **next** step in performing multiple regression is to define the least squares objective\n",
    "   - perform the prediction for each row in the training set\n",
    "   - then compute the **RMSE** of the predictions from the actual x you test from.\n",
    "5. Lastly, use `minimize` function to find the slopes with the **lowest RMSE**. Since the function we want to minimize, rmse_train, takes an array instead of a number, we must pass the `array=True` argument to `minimize`\n",
    "   - speed up process with `smooth=True` attribute\n",
    "6. A residual plot for multiple regression typically compares the errors (residuals) to the actual values of the predicted variable.\n",
    "   - As with simple linear regression, interpreting the result of a predictor is at least as important as making predictions.\n",
    "7. Another approach to predicting x is to use a variable of similar x. This **nearest neighbor for regression** approach is very similar to our classifier.\n",
    "   - One simple method for predicting the x is to average the x's of the nearest neighbors $\\rightarrow$ then compare preediction with observed x for our one test example\n",
    "8. For some data, the errors of the two techniques could be similar.\n",
    "   - For different data sets, one technique might outperform another.\n",
    "    - By computing the RMSE of both techniques on the same data, we can compare methods fairly.\n",
    "    - One note of caution: the difference in performance might not be due to the technique at all:\n",
    "        - it might be due to the random variation due to sampling the training and test sets in the first place.\n",
    "    - Finally, we can draw a residual plot for these predictions using `with_columns` and `plot`\n",
    "</div>"
   ]
  },
  {
   "cell_type": "markdown",
   "id": "b89a30eb-e72a-4078-9c8c-94a32357595f",
   "metadata": {},
   "source": [
    "Before beginning this section of the homework, please read [this section of the textbook](https://inferentialthinking.com/chapters/17/6/Multiple_Regression.html) on Multiple Linear Regression!\n",
    "\n",
    "What we've done so far in this class is called Simple Linear Regression (SLR), which involves one attribute to estimate a single numerical outcome. Precisely, the equation for the regression line has the following form: $$y = \\text{slope} \\cdot x+\\text{intercept}$$ Here, $x$ is the attribute, and we predict the value of $y$ by applying a slope and adding an intercept.\n",
    "\n",
    "Now, we will extend this idea to Multiple Linear Regression (MLR), which uses multiple attributes instead of just one. We make the prediction by multiplying each attribute value by its corresponding slope and summing them all together. The equation for the regression line has the following form: $$y = \\text{slope}_1 \\cdot x_1 + \\text{slope}_2 \\cdot x_2+ ... +\\text{slope}_k \\cdot x_k$$ for $k$ predictor variables. Here, $x_1$, $x_2$, $\\cdots$, $x_k$ represent different numerical predictor variables from the dataset, and we still predict a single numerical output $y$. Each predictor variable gets its own slope. Note that in this homework, our equation for the regression line will not have an intercept, but in general, the equation for the regression line can have an intercept!\n",
    "\n",
    "We use MLR when we believe more than one attribute influences the outcome we are trying to predict. To build the model, we split the dataset into a training set and a testing set. We use the training set to find the best slopes, and then evaluate its performance using Root Mean Squared Error (RMSE) on the testing set.\n",
    "\n",
    "In this part of the homework, we will use MLR to predict the CO2 emissions of a car using its engine size, cylinders, city fuel consumption, and highway fuel consumption."
   ]
  },
  {
   "cell_type": "markdown",
   "id": "3513ae80-5ff2-44e8-9c05-53913547bead",
   "metadata": {
    "deletable": false,
    "editable": false
   },
   "source": [
    "---\n",
    "\n",
    "__Question 2.1__ In order to accurately assess how well a model can generalize and predict unseen data, it is important to first divide your dataset into a training set and a test set. Fill in the following code to first select the columns for engine size, cylinders, city fuel consumption, highway fuel consumption, and emissions. Then, to shuffle the data, reserve the first $1000$ data points for the test set, and assign the rest to the training set. __(6 Points)__\n",
    "\n",
    "Note: Do __not__ use `tbl.split` (you will not pass the autograder). Take a look at [Section 17.2.2](https://inferentialthinking.com/chapters/17/2/Training_and_Testing.html#generating-a-test-set) on how to get your training and test sets.\n",
    "\n",
    "Hint: `numerical_co2` should be a table of only the numerical columns from `co2`."
   ]
  },
  {
   "cell_type": "markdown",
   "id": "3ddfd8de-9598-42ef-a4a8-2eb79cc66e07",
   "metadata": {},
   "source": [
    "**Chapter 17, 2.2**\n",
    "\n",
    "```python\n",
    "shuffled_ckd = ckd.sample(with_replacement=False)\n",
    "training = shuffled_ckd.take(np.arange(79))\n",
    "testing = shuffled_ckd.take(np.arange(79, 158))\n",
    "```"
   ]
  },
  {
   "cell_type": "code",
   "execution_count": 21,
   "id": "9ff60ff5-03f1-4796-8e9c-61d16f4f6b6e",
   "metadata": {
    "tags": []
   },
   "outputs": [],
   "source": [
    "np.random.seed(8) #DO NOT CHANGE\n",
    "\n",
    "numerical_co2 = co2.select('Engine', 'Cylinders', 'Fuel (City)', 'Fuel (Hwy)', 'Emissions')\n",
    "total_rows = numerical_co2.num_rows # 7385 # may change thats why its defined\n",
    "shuffled_tbl = numerical_co2.sample(with_replacement=False)\n",
    "\n",
    "test_set = shuffled_tbl.take(np.arange(1000))\n",
    "training_set = shuffled_tbl.take(np.arange(1000, total_rows)) # use total_rows in case the func updates with new rows"
   ]
  },
  {
   "cell_type": "code",
   "execution_count": 22,
   "id": "199edb30",
   "metadata": {
    "deletable": false,
    "editable": false
   },
   "outputs": [
    {
     "data": {
      "text/html": [
       "<p><strong><pre style='display: inline;'>q2_1</pre></strong> passed! 💯</p>"
      ],
      "text/plain": [
       "q2_1 results: All test cases passed!"
      ]
     },
     "execution_count": 22,
     "metadata": {},
     "output_type": "execute_result"
    }
   ],
   "source": [
    "grader.check(\"q2_1\")"
   ]
  },
  {
   "cell_type": "markdown",
   "id": "ecdbc14d-2b03-41dd-82cb-f1f6cfff2814",
   "metadata": {},
   "source": [
    "Now the question is: How do we obtain the slopes ($\\text{slope}_1, \\text{slope}_2, ... \\text{slope}_k$) that minimizes the RMSE (reminder that the RMSE helps quantify the average size of the error our prediction model makes on any given testing observation). Well, our end result is going to look something like `minimize(fit)` where `fit` is a function that takes in an array of slopes and returns the RMSE of our predictions. However, there is a lot that goes into this calculation; let's take this one step at a time."
   ]
  },
  {
   "cell_type": "markdown",
   "id": "402ec49c-0182-44d0-8e10-3d85738df8bf",
   "metadata": {
    "deletable": false,
    "editable": false
   },
   "source": [
    "---\n",
    "\n",
    "__Question 2.2__ Define the function `predict` that takes in an array of slopes and a row object of attributes, and returns a number representing the corresponding prediction. You may assume that the array of slopes and the row object of attributes will be of the same length. __(3 Points)__\n",
    "\n",
    "Hint 1: Take a look at [Section 17.6.2](https://inferentialthinking.com/chapters/17/6/Multiple_Regression.html#multiple-linear-regression)\n",
    "\n",
    "Hint 2: You can perform array arithmetic on row objects as well!"
   ]
  },
  {
   "cell_type": "code",
   "execution_count": 23,
   "id": "2317a7a3-5c33-4d32-b938-8c27a2c06c68",
   "metadata": {
    "tags": []
   },
   "outputs": [],
   "source": [
    "def predict(slopes, attributes):\n",
    "    return sum(slopes * np.array(attributes))"
   ]
  },
  {
   "cell_type": "code",
   "execution_count": 24,
   "id": "30113400",
   "metadata": {
    "deletable": false,
    "editable": false
   },
   "outputs": [
    {
     "data": {
      "text/html": [
       "<p><strong><pre style='display: inline;'>q2_2</pre></strong> passed! 🚀</p>"
      ],
      "text/plain": [
       "q2_2 results: All test cases passed!"
      ]
     },
     "execution_count": 24,
     "metadata": {},
     "output_type": "execute_result"
    }
   ],
   "source": [
    "grader.check(\"q2_2\")"
   ]
  },
  {
   "cell_type": "markdown",
   "id": "cbc350c7-f365-4482-9989-b04374be6327",
   "metadata": {
    "deletable": false,
    "editable": false
   },
   "source": [
    "---\n",
    "\n",
    "__Question 2.3__ Now that we've defined a function that returns a prediction given an array of slopes and a row object of attributes, let's define `rmse` which takes in an array of slopes, a _table_ of attributes that we would like to use in our prediction, and an array of the _true_ values of y we want to predict. The function should return the RMSE of our predictions. __(10 Points)__\n",
    "\n",
    "Hint: Take a look at [Section 17.3](https://inferentialthinking.com/chapters/17/3/Rows_of_Tables.html) for a review on row objects"
   ]
  },
  {
   "cell_type": "markdown",
   "id": "3d34ac65-af7c-4cb9-af21-e6becfdc393b",
   "metadata": {},
   "source": [
    "<div style=\"font-family: 'Times New Roman'; font-size: 18px;\" >\n",
    "\n",
    "**Row Object:** \n",
    "1. Rows have their very own data type: they are row objects.\n",
    "2. Notice how the display shows not only the values in the row but also the labels of the corresponding columns.\n",
    "3. Rows are not arrays, $\\rightarrow$ we must convert with `np.array` when we have numerical data in a row\n",
    "   - However, rows share some characteristics with arrays. You can use item to access a particular element of a row.\n",
    "   - `tbl.row(0).item(3)` (valid)\n",
    "   - Rows whose elements are all numerical (or all strings) can be converted to arrays. Converting a row to an array gives us access to arithmetic operations and numpy module imports\n",
    "</div>\n",
    "\n",
    "\n",
    "<details>\n",
    "    <summary>Attempts at problem WWIW</summary>\n",
    "\n",
    "```python\n",
    "    def rmse(slopes, attributes, y):\n",
    "    \"\"\" Idea\n",
    "    1. rmse (arr) \n",
    "    2. tbl of attributes (rows) for predict() func\n",
    "    3. array of true values of y we want to predict \n",
    "    4. return rmse of our predict func \n",
    "    \"\"\"\n",
    "    error = np.array()  # wrong \n",
    "    for i in np.arange(len(y)):\n",
    "        attr_row = np.array(attributes) \n",
    "        pred = predicted(slopes, attr_row.row(i)) # technically right but could be more readable \n",
    "        actual = y.item(i)\n",
    "        err = pred - actual \n",
    "        rmse = np.sqrt(np.mean(np.square(res)))\n",
    "    return rmse # just returning and not appending to error array \n",
    "```\n",
    "</details>\n"
   ]
  },
  {
   "cell_type": "code",
   "execution_count": 25,
   "id": "75ff194d-7cc9-4085-b574-f1ac44b02ae3",
   "metadata": {
    "tags": []
   },
   "outputs": [],
   "source": [
    "# def rmse(slopes, attributes, y):\n",
    "#     ...\n",
    "#     for ...:\n",
    "#         ...\n",
    "#     return ...\n",
    "\n",
    "def rmse(slopes, attributes, y):\n",
    "    \"\"\" Idea\n",
    "    1. rmse (arr) \n",
    "    2. tbl of attributes (rows) for predict() func\n",
    "    3. array of true values of y we want to predict \n",
    "    4. return rmse of our predict func \n",
    "    \"\"\"\n",
    "    error = make_array() \n",
    "    for i in np.arange(len(y)):\n",
    "        attr_row = np.array(attributes.row(i))\n",
    "        pred = predict(slopes, attr_row)\n",
    "        actual = y.item(i)\n",
    "        error = np.append(error, np.square(pred - actual))\n",
    "    return np.sqrt(np.mean(error)) "
   ]
  },
  {
   "cell_type": "markdown",
   "id": "2179f57c-8aad-44b5-8248-c9cb66b6ad7f",
   "metadata": {
    "deletable": false,
    "editable": false
   },
   "source": [
    "Let's test out the `rmse` function we just defined on our training set with some made up slope values that definitely are not optimal."
   ]
  },
  {
   "cell_type": "code",
   "execution_count": 26,
   "id": "7dbd4704-ed3b-4e33-835f-d70bcc0563a4",
   "metadata": {
    "deletable": false,
    "editable": false
   },
   "outputs": [
    {
     "data": {
      "text/plain": [
       "225.80835062898427"
      ]
     },
     "execution_count": 26,
     "metadata": {},
     "output_type": "execute_result"
    }
   ],
   "source": [
    "train_attributes = training_set.drop(\"Emissions\")\n",
    "train_emissions = training_set.column(\"Emissions\")\n",
    "\n",
    "fake_slopes = make_array(1,1,1,1)\n",
    "rmse(fake_slopes, train_attributes, train_emissions)"
   ]
  },
  {
   "cell_type": "code",
   "execution_count": 27,
   "id": "ef9fa92b",
   "metadata": {
    "deletable": false,
    "editable": false
   },
   "outputs": [
    {
     "data": {
      "text/html": [
       "<p><strong><pre style='display: inline;'>q2_3</pre></strong> passed! 🌟</p>"
      ],
      "text/plain": [
       "q2_3 results: All test cases passed!"
      ]
     },
     "execution_count": 27,
     "metadata": {},
     "output_type": "execute_result"
    }
   ],
   "source": [
    "grader.check(\"q2_3\")"
   ]
  },
  {
   "cell_type": "markdown",
   "id": "02d1094d-93d9-4757-9614-4163b73d8dac",
   "metadata": {},
   "source": [
    "Those are some pretty big errors! It's quite clear that the optimal array of slopes is not just a bunch of 1's. However, now that we've defined `rmse`, we are finally ready to define `train_fit`!"
   ]
  },
  {
   "cell_type": "markdown",
   "id": "1d93a138-08d7-4963-a39b-9d8e73ab4dad",
   "metadata": {
    "deletable": false,
    "editable": false
   },
   "source": [
    "---\n",
    "\n",
    "__Question 2.4__ Define `train_fit`, which takes in an array of slopes and returns the RMSE on the <u>training set</u>. __(5 Points)__\n",
    "\n",
    "Hint: We're looking to predict emissions from our attributes!"
   ]
  },
  {
   "cell_type": "code",
   "execution_count": 28,
   "id": "7cd8e9fe-69a7-49be-83ee-ee0eb48e4cbe",
   "metadata": {
    "tags": []
   },
   "outputs": [],
   "source": [
    "def train_fit(slopes_array):\n",
    "    \"\"\"Idea: \n",
    "        1. take in slope arrays\n",
    "        2. return RMSE on training set (use our prev defined rmse func)\n",
    "    \"\"\"\n",
    "    return rmse(slopes_array, train_attributes, train_emissions)\n",
    "    "
   ]
  },
  {
   "cell_type": "code",
   "execution_count": 29,
   "id": "1896f13f",
   "metadata": {
    "deletable": false,
    "editable": false
   },
   "outputs": [
    {
     "data": {
      "text/html": [
       "<p><strong><pre style='display: inline;'>q2_4</pre></strong> passed! ✨</p>"
      ],
      "text/plain": [
       "q2_4 results: All test cases passed!"
      ]
     },
     "execution_count": 29,
     "metadata": {},
     "output_type": "execute_result"
    }
   ],
   "source": [
    "grader.check(\"q2_4\")"
   ]
  },
  {
   "cell_type": "markdown",
   "id": "5ea7206b-a2fe-40b6-a76a-29b0a53d20b3",
   "metadata": {
    "deletable": false,
    "editable": false
   },
   "source": [
    "---\n",
    "\n",
    "__Question 2.5__ Obtain the array of slopes that minimize the RMSE on the training set, and assign that to `best_slopes`. __(4 Points)__\n",
    "\n",
    "*Hint*: Make sure to use `fake_slopes` as one of your arguments. When the numerical optimization begins, the model might try out some inoptimal slopes first as it's searching for what will eventually be the right ones -- meaning, the ones that minimize RMSE!\n",
    "\n",
    "Note: Take a look at [Section 17.6.2](https://inferentialthinking.com/chapters/17/6/Multiple_Regression.html#multiple-linear-regression)"
   ]
  },
  {
   "cell_type": "markdown",
   "id": "392207fd-6f2d-4aa6-bd7b-a21949f928d5",
   "metadata": {},
   "source": [
    "<div style=\"font-family: 'Times New Roman'; font-size: 18px;\">\n",
    "\n",
    "<details>\n",
    "<summary>Code on Miniziming</summary>\n",
    "    \n",
    "- Lastly, use `minimize` function to find the slopes with the lowest RMSE.\n",
    "- Since the function we want to minimize, rmse_train, takes an array instead of a number, we must pass the array=True argument to minimize speed up process with `smooth=True` attribute\n",
    "\n",
    "    ```python\n",
    "    best_slopes = minimize(rmse_train, start=example_slopes, smooth=True, array=True)\n",
    "    print('The best slopes for the training set:')\n",
    "    Table(train_attributes.labels).with_row(list(best_slopes)).show()\n",
    "    print('RMSE of all training examples using the best slopes:', rmse_train(best_slopes))\n",
    "    ```\n",
    "- **WIWW Note:** Minimize expects a function as its first argument. Something it can repeatedly call with different slope arrays during optimization. When I passed in an argument to the `train_fit` function, it returns a data-tyoe that is no longer callable. \n",
    "</details>\n",
    "\n",
    "</div>"
   ]
  },
  {
   "cell_type": "code",
   "execution_count": 30,
   "id": "3475b1cd-4599-4476-9d51-a3dd5ce2e628",
   "metadata": {
    "tags": []
   },
   "outputs": [],
   "source": [
    "# This cell might take around one minute to run\n",
    "best_slopes = minimize(train_fit, start=fake_slopes, smooth=True, array=True) # do not pass in an element into train_fit\n",
    "# best_slopes returns array of optimizations "
   ]
  },
  {
   "cell_type": "code",
   "execution_count": 31,
   "id": "5612e6bf",
   "metadata": {
    "deletable": false,
    "editable": false
   },
   "outputs": [
    {
     "data": {
      "text/html": [
       "<p><strong><pre style='display: inline;'>q2_5</pre></strong> passed! 🍀</p>"
      ],
      "text/plain": [
       "q2_5 results: All test cases passed!"
      ]
     },
     "execution_count": 31,
     "metadata": {},
     "output_type": "execute_result"
    }
   ],
   "source": [
    "grader.check(\"q2_5\")"
   ]
  },
  {
   "cell_type": "markdown",
   "id": "97c7e69e-aeb7-4841-9297-5113fe4fc6dc",
   "metadata": {},
   "source": [
    "Let's see how well our optimal model performs on the training set."
   ]
  },
  {
   "cell_type": "code",
   "execution_count": 32,
   "id": "3d6797f9-899b-473c-8b06-5f81e8be25f7",
   "metadata": {},
   "outputs": [
    {
     "data": {
      "text/plain": [
       "22.753604146635826"
      ]
     },
     "execution_count": 32,
     "metadata": {},
     "output_type": "execute_result"
    }
   ],
   "source": [
    "train_fit(best_slopes)"
   ]
  },
  {
   "cell_type": "markdown",
   "id": "346780f9-b16b-4c74-a9ee-cf85cd0f1f0d",
   "metadata": {},
   "source": [
    "Not bad at all! "
   ]
  },
  {
   "cell_type": "markdown",
   "id": "5ef95fc9-ea34-4fd9-b784-f014447bc763",
   "metadata": {},
   "source": [
    "Let's take a look at the values in `best_slopes`"
   ]
  },
  {
   "cell_type": "code",
   "execution_count": 33,
   "id": "bc8409f7-f8a8-469a-aab4-1dbf00966508",
   "metadata": {},
   "outputs": [
    {
     "data": {
      "text/plain": [
       "array([ -5.43306185,  14.15067357,   5.22287989,  13.34996503])"
      ]
     },
     "execution_count": 33,
     "metadata": {},
     "output_type": "execute_result"
    }
   ],
   "source": [
    "best_slopes"
   ]
  },
  {
   "cell_type": "markdown",
   "id": "bd295239-6502-406e-bc02-0bfec36d2943",
   "metadata": {},
   "source": [
    "That seems a bit weird... doesn't it? Let's look at `train_attributes` again, the table of attributes we use to predict an emissions value."
   ]
  },
  {
   "cell_type": "code",
   "execution_count": 34,
   "id": "4dacc396-63c9-44d7-9188-965477867729",
   "metadata": {},
   "outputs": [
    {
     "data": {
      "text/html": [
       "<table border=\"1\" class=\"dataframe\">\n",
       "    <thead>\n",
       "        <tr>\n",
       "            <th>Engine</th> <th>Cylinders</th> <th>Fuel (City)</th> <th>Fuel (Hwy)</th>\n",
       "        </tr>\n",
       "    </thead>\n",
       "    <tbody>\n",
       "        <tr>\n",
       "            <td>3     </td> <td>6        </td> <td>12.2       </td> <td>8.5       </td>\n",
       "        </tr>\n",
       "        <tr>\n",
       "            <td>3     </td> <td>6        </td> <td>19.4       </td> <td>14.8      </td>\n",
       "        </tr>\n",
       "        <tr>\n",
       "            <td>5.7   </td> <td>8        </td> <td>14.7       </td> <td>9.4       </td>\n",
       "        </tr>\n",
       "        <tr>\n",
       "            <td>2     </td> <td>4        </td> <td>10.4       </td> <td>7.5       </td>\n",
       "        </tr>\n",
       "        <tr>\n",
       "            <td>1.6   </td> <td>4        </td> <td>8.9        </td> <td>6.9       </td>\n",
       "        </tr>\n",
       "    </tbody>\n",
       "</table>\n",
       "<p>... (6380 rows omitted)</p>"
      ],
      "text/plain": [
       "<IPython.core.display.HTML object>"
      ]
     },
     "metadata": {},
     "output_type": "display_data"
    }
   ],
   "source": [
    "train_attributes.show(5)"
   ]
  },
  {
   "cell_type": "markdown",
   "id": "9dead819-9c70-476f-899b-7f6ffc004f0f",
   "metadata": {},
   "source": [
    "You might have noticed something surprising: even though `Engine` and `Emissions` had a strong positive correlation (with an r value of around 0.85), the slope value for `Engine` obtained in MLR, which is denoted by the first element in the `best_slopes` array, is negative.\n",
    "\n",
    "**This happens when the `Engine` attribute is correlated with other attributes in the model!**"
   ]
  },
  {
   "cell_type": "markdown",
   "id": "e4a593cd-f4e8-4344-8b4a-b89e5f4cdbab",
   "metadata": {
    "deletable": false,
    "editable": false
   },
   "source": [
    "---\n",
    "\n",
    "__Question 2.6__ Now that we've obtained the array of slope values that minimize the RMSE, it's time to assess the performance of our model on the test set! Assign `test_rmse` to the RMSE obtained by using our regression line on the test set. __(3 Points)__"
   ]
  },
  {
   "cell_type": "markdown",
   "id": "c2a5e103-a0df-4bbc-a1cd-0c4991940f6e",
   "metadata": {},
   "source": [
    "<div style=\"font-family: 'Times New Roman'; font-size: 18px;\">\n",
    "\n",
    "<details>\n",
    "\n",
    "<summary>Code overview of step 7</summary>\n",
    "\n",
    "- A residual plot for multiple regression typically compares the errors (residuals) to the actual values of the predicted variable.\n",
    "    - As with simple linear regression, interpreting the result of a predictor is at least as important as making predictions.\n",
    "- Another approach to predicting x is to use a variable of similar x. This nearest neighbor for regression approach is very similar to our classifier.\n",
    "    - One simple method for predicting the x is to average the x's of the nearest neighbors  then compare preediction with observed x for our one test example\n",
    "\n",
    "    ```python\n",
    "    test_prices = test.column(0) \n",
    "    test_attributes = test.drop(0)\n",
    "    \n",
    "    def rmse_test(slopes):\n",
    "        return rmse(slopes, test_attributes, test_prices)\n",
    "    \n",
    "    rmse_linear = rmse_test(best_slopes)\n",
    "    print('Test set RMSE for multiple linear regression:', rmse_linear)\n",
    "    \n",
    "    ```\n",
    "</details>\n",
    "\n",
    "</div>"
   ]
  },
  {
   "cell_type": "code",
   "execution_count": 35,
   "id": "3b58591a-04cc-4b6b-b97f-a4ab2bf2d645",
   "metadata": {
    "tags": []
   },
   "outputs": [
    {
     "data": {
      "text/plain": [
       "22.751674695058089"
      ]
     },
     "execution_count": 35,
     "metadata": {},
     "output_type": "execute_result"
    }
   ],
   "source": [
    "test_attributes = test_set.drop(\"Emissions\") # drop emissions in table\n",
    "test_emissions = test_set.column(\"Emissions\")  # array we test agaisnt \n",
    "\n",
    "test_rmse = rmse(best_slopes, test_attributes, test_emissions)\n",
    "test_rmse"
   ]
  },
  {
   "cell_type": "code",
   "execution_count": 36,
   "id": "1c7e32fb",
   "metadata": {
    "deletable": false,
    "editable": false
   },
   "outputs": [
    {
     "data": {
      "text/html": [
       "<p><strong><pre style='display: inline;'>q2_6</pre></strong> passed! 🚀</p>"
      ],
      "text/plain": [
       "q2_6 results: All test cases passed!"
      ]
     },
     "execution_count": 36,
     "metadata": {},
     "output_type": "execute_result"
    }
   ],
   "source": [
    "grader.check(\"q2_6\")"
   ]
  },
  {
   "cell_type": "markdown",
   "id": "b8ef4eda-544d-445b-ae61-f6827e6dc42e",
   "metadata": {
    "deletable": false,
    "editable": false
   },
   "source": [
    "<!-- BEGIN QUESTION -->\n",
    "\n",
    "---\n",
    "\n",
    "__Question 2.7__ Compare the values of the training RMSE and testing RMSE. What do the values suggest about our model's ability to perform well on unseen data? __(5 Points)__ \n",
    "\n",
    "*Hint*: If the testing RMSE was much larger than the training RMSE, what would this say about our model's ability to perform well on unseen data?"
   ]
  },
  {
   "cell_type": "markdown",
   "id": "a7917691",
   "metadata": {},
   "source": [
    "This model performs well on unseen data based on the training we did with Mutliple Linear Regression. See below: \n",
    "```\n",
    "test rmse: 22.751674695058089\n",
    "train_fit rmse: 22.753604146635826\n",
    "train with fake slope: 225.80835062898427\n",
    "```\n",
    "When debugging the answer for 2.6, I accidently used `train_set` as the table for rmse which made me worry that now the model is trained on data with trained table and has the predictions, which is just fitting the training data. However, I believe that just resetting it to `test_set` will make it work with unseen data again, to allow us to come to the conclusion that our model generalizes well and is not overfitting because its performance on unseen data is similar to its performance on training data. "
   ]
  },
  {
   "cell_type": "markdown",
   "id": "96e919c9-1d5f-4279-8dc0-4f36e9ab0038",
   "metadata": {
    "deletable": false,
    "editable": false
   },
   "source": [
    "<!-- END QUESTION -->\n",
    "\n",
    "**Including many attributes in your Multiple Linear Regression can increase your model's ability to capture complex patterns, but at the same time, including _too_ many features can make your model prone to overfitting.** \n",
    "\n",
    "---\n",
    "\n",
    "Suppose that we're restricted to using _only three attributes_ for our predictions. Let's try _removing_ the `Fuel (City)` attribute, and only using `Engine`, `Cylinders`, and `Fuel (Hwy)` in our predictions!"
   ]
  },
  {
   "cell_type": "code",
   "execution_count": 37,
   "id": "a6d54835-7688-474b-b08c-fbdb9cd001b2",
   "metadata": {},
   "outputs": [
    {
     "data": {
      "text/plain": [
       "array([ -3.13067907,  15.28095049,  19.11691426])"
      ]
     },
     "execution_count": 37,
     "metadata": {},
     "output_type": "execute_result"
    }
   ],
   "source": [
    "def train_rmse_nocity(slopes):\n",
    "    return rmse(slopes, train_attributes.drop(\"Fuel (City)\"), train_emissions)\n",
    "\n",
    "best_slopes_nocity = minimize(train_rmse_nocity, start = make_array(1,1,1), smooth = True, array = True)\n",
    "best_slopes_nocity"
   ]
  },
  {
   "cell_type": "code",
   "execution_count": 38,
   "id": "90ec967e-a00c-4142-9c92-a338763b4273",
   "metadata": {},
   "outputs": [
    {
     "name": "stdout",
     "output_type": "stream",
     "text": [
      "Training RMSE excluding Fuel (City): 23.268303312168193\n",
      "Test RMSE excluding Fuel (City): 23.38293612188689\n"
     ]
    }
   ],
   "source": [
    "train_nocity_rmse = rmse(best_slopes_nocity, train_attributes.drop(\"Fuel (City)\"), train_emissions)\n",
    "test_nocity_rmse = rmse(best_slopes_nocity, test_attributes.drop(\"Fuel (City)\"), test_emissions)\n",
    "print(f\"Training RMSE excluding Fuel (City): {train_nocity_rmse}\")\n",
    "print(f\"Test RMSE excluding Fuel (City): {test_nocity_rmse}\")"
   ]
  },
  {
   "cell_type": "markdown",
   "id": "8384267c-eb42-4be5-afe0-f763a41a3ee8",
   "metadata": {
    "deletable": false,
    "editable": false
   },
   "source": [
    "<!-- BEGIN QUESTION -->\n",
    "\n",
    "---\n",
    "\n",
    "__Question 2.8__ Notice how both the Training RMSE and Test RMSE barely increased, even though we fully omitted one attribute from our predictions! Why could have removing `Fuel (City)` from our predictions led to a negligible decrease in the accuracy of our predictions? __(5 Points)__"
   ]
  },
  {
   "cell_type": "markdown",
   "id": "e9c7bc73",
   "metadata": {},
   "source": [
    "We find a similar rmse when predicting x on the test set (even with a dropped attribute), which indicates that our attributes are highly correlated with the other features. I.E. one of the attributes we have (e.g. `Fuel City`) carries similar information to `Fuel (Hwy)` and by dropping one of them we get a similar rmse because the _remaining_ attributes already captured the variability that `Fuel (City)` would have contributed "
   ]
  },
  {
   "cell_type": "markdown",
   "id": "ae5f64ae-4a5f-4a8e-9de5-94ee7f73f757",
   "metadata": {
    "deletable": false,
    "editable": false
   },
   "source": [
    "<!-- END QUESTION -->\n",
    "\n",
    "<hr style=\"border: 5px solid #003262;\" />\n",
    "<hr style=\"border: 1px solid #fdb515;\" />\n",
    "\n",
    "## 3. Exploration of SwingVision Dataset"
   ]
  },
  {
   "cell_type": "markdown",
   "id": "7b60503a-8768-40f0-be44-9845fa4d21f2",
   "metadata": {},
   "source": [
    "In this next exploration, we will be working with data from SwingVision that contains information about tennis shots hit by players. [SwingVision](https://swing.vision/) is a startup founded by previous Data 8 professor Swupnil Sahai that analyzes tennis and pickleball players' forms and playing statistics, providing feedback to improve their game!"
   ]
  },
  {
   "cell_type": "markdown",
   "id": "20976a10",
   "metadata": {},
   "source": [
    "Run the following cell to load information about the dataset and preview the first few rows."
   ]
  },
  {
   "cell_type": "code",
   "execution_count": 39,
   "id": "7f31d2ed",
   "metadata": {},
   "outputs": [
    {
     "data": {
      "text/html": [
       "<table border=\"1\" class=\"dataframe\">\n",
       "    <thead>\n",
       "        <tr>\n",
       "            <th>Unnamed: 0</th> <th>match_id</th> <th>set_id</th> <th>game_id</th> <th>player</th> <th>shot_type</th> <th>hit_court_side</th> <th>hit_type</th> <th>hit_location_long</th> <th>hit_location_lat</th> <th>hit_location</th> <th>hit_velocity</th> <th>hit_wing</th> <th>net_type</th> <th>bounce_court_side</th> <th>bounce_location_long</th> <th>bounce_location_lat</th> <th>bounce_location</th>\n",
       "        </tr>\n",
       "    </thead>\n",
       "    <tbody>\n",
       "        <tr>\n",
       "            <td>174       </td> <td>964239482519510429463795739407980857415734383373</td> <td>1     </td> <td>1      </td> <td>guest </td> <td>first_serve </td> <td>far           </td> <td>first_serve  </td> <td>no_mans_land     </td> <td>deuce           </td> <td>[0.1229827628, 24.0720206188, 2.1569755077]</td> <td>[-1.248131413, -41.1214424301, -3.428030963] </td> <td>top     </td> <td>over    </td> <td>near             </td> <td>service_box         </td> <td>ad                 </td> <td>[-0.376478821, 7.7085957527, 0.0] </td>\n",
       "        </tr>\n",
       "        <tr>\n",
       "            <td>175       </td> <td>964239482519510429463795739407980857415734383373</td> <td>1     </td> <td>1      </td> <td>host  </td> <td>second_serve</td> <td>near          </td> <td>second_serve </td> <td>service_box      </td> <td>deuce           </td> <td>[1.9205896854, 0.1496750674, 2.5336551666] </td> <td>[-8.6129967487, 29.8327273661, -1.4790031226]</td> <td>top     </td> <td>over    </td> <td>far              </td> <td>service_box         </td> <td>deuce              </td> <td>[-3.106541872, 17.1827024743, 0.0]</td>\n",
       "        </tr>\n",
       "        <tr>\n",
       "            <td>176       </td> <td>964239482519510429463795739407980857415734383373</td> <td>1     </td> <td>1      </td> <td>host  </td> <td>none        </td> <td>near          </td> <td>feed         </td> <td>service_box      </td> <td>ad              </td> <td>[-1.1604453325, 8.8734070221, 1.4452068806]</td> <td>[4.69392, 4.69392, 4.69392]                  </td> <td>right   </td> <td>net     </td> <td>near             </td> <td>service_box         </td> <td>ad                 </td> <td>[-1.580375433, 6.6705946922, 0.0] </td>\n",
       "        </tr>\n",
       "        <tr>\n",
       "            <td>177       </td> <td>964239482519510429463795739407980857415734383373</td> <td>1     </td> <td>1      </td> <td>host  </td> <td>none        </td> <td>near          </td> <td>ground_stroke</td> <td>no_mans_land     </td> <td>ad              </td> <td>[-2.2739932537, 1.3361984375, 1.4063504934]</td> <td>[0.8912320986, 12.3669831656, 4.0222139259]  </td> <td>right   </td> <td>net     </td> <td>near             </td> <td>service_box         </td> <td>ad                 </td> <td>[-1.2570004463, 5.6967316708, 0.0]</td>\n",
       "        </tr>\n",
       "        <tr>\n",
       "            <td>178       </td> <td>964239482519510429463795739407980857415734383373</td> <td>1     </td> <td>1      </td> <td>host  </td> <td>none        </td> <td>near          </td> <td>ground_stroke</td> <td>no_mans_land     </td> <td>deuce           </td> <td>[3.5308513641, 0.6495061996, 1.5623202324] </td> <td>[-2.8437199422, 14.6344555997, 4.0801657389] </td> <td>right   </td> <td>over    </td> <td>far              </td> <td>service_box         </td> <td>ad                 </td> <td>[0.3535721302, 16.2742938995, 0.0]</td>\n",
       "        </tr>\n",
       "    </tbody>\n",
       "</table>\n",
       "<p>... (55443 rows omitted)</p>"
      ],
      "text/plain": [
       "<IPython.core.display.HTML object>"
      ]
     },
     "metadata": {},
     "output_type": "display_data"
    }
   ],
   "source": [
    "Table().read_table(\"shots_cleaned.csv\").show(5)"
   ]
  },
  {
   "cell_type": "markdown",
   "id": "fed62aa7",
   "metadata": {},
   "source": [
    "For this exploration, we'll look at a cleaned version of this dataset and assign it to `shots`. Note that \"hit\" refers to when the ball is hit by the racket, and \"bounce\" refers to when the ball bounces on the court."
   ]
  },
  {
   "cell_type": "code",
   "execution_count": 40,
   "id": "b2f540d1-95c1-4a8e-ae80-2d037580a8e4",
   "metadata": {},
   "outputs": [
    {
     "data": {
      "text/html": [
       "<table border=\"1\" class=\"dataframe\">\n",
       "    <thead>\n",
       "        <tr>\n",
       "            <th>match_id</th> <th>set_id</th> <th>game_id</th> <th>hit_type</th> <th>hit_court_side</th> <th>hit_velocity</th> <th>bounce_court_side</th> <th>bounce_location_long</th> <th>bounce_location</th>\n",
       "        </tr>\n",
       "    </thead>\n",
       "    <tbody>\n",
       "        <tr>\n",
       "            <td>964239482519510429463795739407980857415734383373</td> <td>1     </td> <td>1      </td> <td>first_serve  </td> <td>far           </td> <td>[-1.248131413, -41.1214424301, -3.428030963] </td> <td>near             </td> <td>service_box         </td> <td>[-0.376478821, 7.7085957527, 0.0] </td>\n",
       "        </tr>\n",
       "        <tr>\n",
       "            <td>964239482519510429463795739407980857415734383373</td> <td>1     </td> <td>1      </td> <td>second_serve </td> <td>near          </td> <td>[-8.6129967487, 29.8327273661, -1.4790031226]</td> <td>far              </td> <td>service_box         </td> <td>[-3.106541872, 17.1827024743, 0.0]</td>\n",
       "        </tr>\n",
       "        <tr>\n",
       "            <td>964239482519510429463795739407980857415734383373</td> <td>1     </td> <td>1      </td> <td>feed         </td> <td>near          </td> <td>[4.69392, 4.69392, 4.69392]                  </td> <td>near             </td> <td>service_box         </td> <td>[-1.580375433, 6.6705946922, 0.0] </td>\n",
       "        </tr>\n",
       "        <tr>\n",
       "            <td>964239482519510429463795739407980857415734383373</td> <td>1     </td> <td>1      </td> <td>ground_stroke</td> <td>near          </td> <td>[0.8912320986, 12.3669831656, 4.0222139259]  </td> <td>near             </td> <td>service_box         </td> <td>[-1.2570004463, 5.6967316708, 0.0]</td>\n",
       "        </tr>\n",
       "        <tr>\n",
       "            <td>964239482519510429463795739407980857415734383373</td> <td>1     </td> <td>1      </td> <td>ground_stroke</td> <td>near          </td> <td>[-2.8437199422, 14.6344555997, 4.0801657389] </td> <td>far              </td> <td>service_box         </td> <td>[0.3535721302, 16.2742938995, 0.0]</td>\n",
       "        </tr>\n",
       "    </tbody>\n",
       "</table>\n",
       "<p>... (55443 rows omitted)</p>"
      ],
      "text/plain": [
       "<IPython.core.display.HTML object>"
      ]
     },
     "metadata": {},
     "output_type": "display_data"
    }
   ],
   "source": [
    "shots = Table().read_table(\"shots_cleaned.csv\").select(\"match_id\", \n",
    "                                                   \"set_id\", \n",
    "                                                   \"game_id\", \n",
    "                                                   \"hit_type\", \n",
    "                                                   \"hit_court_side\", \n",
    "                                                   \"hit_velocity\",\n",
    "                                                   \"bounce_court_side\", \n",
    "                                                   \"bounce_location_long\", \n",
    "                                                   \"bounce_location\")\n",
    "shots.show(5) # bounce_location_long has out in it"
   ]
  },
  {
   "cell_type": "markdown",
   "id": "b9a684d3-2c28-4374-abfb-14b113a08f91",
   "metadata": {
    "deletable": false,
    "editable": false
   },
   "source": [
    "---\n",
    "\n",
    "__Question 3.1__ In a game of tennis, keeping constant pressure on the opponent is very important. There's a lot of data in the table, let's limit our analysis to the following shots:\n",
    "\n",
    "* Shots that were considered as \"ground_stroke\"\n",
    "* Shots that were hit by the player closer to the camera (i.e., \"near\")\n",
    "* Shots that bounced on the other side of the court (i.e., \"far\")\n",
    "* Shots that were _not_ out.\n",
    "\n",
    "Name this new table `ground_strokes`, and only keep the columns `hit_velocity`, `bounce_location_long`, `bounce_location`. __(5 Points)__"
   ]
  },
  {
   "cell_type": "markdown",
   "id": "f064509d-6f75-4506-92a4-b64e9a082826",
   "metadata": {},
   "source": [
    "<Details>\n",
    "<summary>Work</summary>\n",
    "\n",
    "**WIWW:**\n",
    "1. Make sure to include sort by what you are trying to predict for the first try\n",
    "2. We need to filter the table based on certain conditions, using `where`. You can chain a bunch of where statements for filtering. Then we perform select to grab those certain columns and sample 10000 times without replacement \n",
    "\n",
    "```python\n",
    "\n",
    "# try 1 \n",
    "ground_strokes = shots.select('hit_velocity', 'bounce_location_long', 'bounce_location').sort('hit_velocity') # this grabs correct columns and sorts right, but does not have filtering\n",
    "ground_strokes = ground_strokes.sample(with_replacement = False).take(np.arange(1000))\n",
    "```\n",
    "</Details>"
   ]
  },
  {
   "cell_type": "code",
   "execution_count": 41,
   "id": "88ef99b0-934c-4236-90fc-4ca84391a99f",
   "metadata": {
    "tags": []
   },
   "outputs": [
    {
     "data": {
      "text/html": [
       "<table border=\"1\" class=\"dataframe\">\n",
       "    <thead>\n",
       "        <tr>\n",
       "            <th>hit_velocity</th> <th>bounce_location_long</th> <th>bounce_location</th>\n",
       "        </tr>\n",
       "    </thead>\n",
       "    <tbody>\n",
       "        <tr>\n",
       "            <td>[1.4083229416, 12.8075458967, 5.1749836838] </td> <td>service_box         </td> <td>[-1.3341933489, 14.9066944122, 0.0]</td>\n",
       "        </tr>\n",
       "        <tr>\n",
       "            <td>[-0.8100761938, 18.2128301421, 5.8621516097]</td> <td>no_mans_land        </td> <td>[1.7536623478, 22.1288852692, 0.0] </td>\n",
       "        </tr>\n",
       "        <tr>\n",
       "            <td>[5.4100311724, 13.2669073259, 6.3098028563] </td> <td>service_box         </td> <td>[2.3471977711, 15.1228713989, 0.0] </td>\n",
       "        </tr>\n",
       "        <tr>\n",
       "            <td>[1.8259921392, 25.3135029009, 3.3708373791] </td> <td>no_mans_land        </td> <td>[-1.0707683563, 20.9913902283, 0.0]</td>\n",
       "        </tr>\n",
       "        <tr>\n",
       "            <td>[1.644792777, 15.1130915668, 5.4663899194]  </td> <td>no_mans_land        </td> <td>[0.1345192045, 18.5611294698, 0.0] </td>\n",
       "        </tr>\n",
       "    </tbody>\n",
       "</table>\n",
       "<p>... (995 rows omitted)</p>"
      ],
      "text/plain": [
       "<IPython.core.display.HTML object>"
      ]
     },
     "metadata": {},
     "output_type": "display_data"
    }
   ],
   "source": [
    "np.random.seed(8) #DO NOT CHANGE\n",
    "\n",
    "ground_strokes = shots.where(\n",
    "    'hit_type', are.equal_to('ground_stroke')).where(\n",
    "        'hit_court_side', are.equal_to('near')).where(\n",
    "        'bounce_court_side', are.equal_to('far')).where(\n",
    "    'bounce_location_long', are.not_equal_to('out'))\n",
    "ground_strokes = ground_strokes.select('hit_velocity', 'bounce_location_long', 'bounce_location').sample(1000, with_replacement = False) #.take(np.arange(1000)) also works\n",
    "ground_strokes.show(5)"
   ]
  },
  {
   "cell_type": "code",
   "execution_count": 42,
   "id": "5a25ba9f",
   "metadata": {
    "deletable": false,
    "editable": false
   },
   "outputs": [
    {
     "data": {
      "text/html": [
       "<p><strong><pre style='display: inline;'>q3_1</pre></strong> passed! 🌈</p>"
      ],
      "text/plain": [
       "q3_1 results: All test cases passed!"
      ]
     },
     "execution_count": 42,
     "metadata": {},
     "output_type": "execute_result"
    }
   ],
   "source": [
    "grader.check(\"q3_1\")"
   ]
  },
  {
   "cell_type": "markdown",
   "id": "06bf4e1f-c219-4e13-a3dc-b7944dbd4f05",
   "metadata": {
    "deletable": false,
    "editable": false
   },
   "source": [
    "---\n",
    "\n",
    "__Question 3.2__ Assign `unique_bounce_locations` to a two-column table: the first column should contain each unique value in `bounce_location_long`; the second column should contain the number of times that each of these unique values appear in the `ground_strokes` table. __(3 Points)__"
   ]
  },
  {
   "cell_type": "code",
   "execution_count": 43,
   "id": "ae21658b-64f8-4196-82b4-b31143f38de9",
   "metadata": {
    "tags": []
   },
   "outputs": [
    {
     "data": {
      "text/html": [
       "<table border=\"1\" class=\"dataframe\">\n",
       "    <thead>\n",
       "        <tr>\n",
       "            <th>bounce_location_long</th> <th>count</th>\n",
       "        </tr>\n",
       "    </thead>\n",
       "    <tbody>\n",
       "        <tr>\n",
       "            <td>no_mans_land        </td> <td>637  </td>\n",
       "        </tr>\n",
       "        <tr>\n",
       "            <td>service_box         </td> <td>363  </td>\n",
       "        </tr>\n",
       "    </tbody>\n",
       "</table>"
      ],
      "text/plain": [
       "bounce_location_long | count\n",
       "no_mans_land         | 637\n",
       "service_box          | 363"
      ]
     },
     "execution_count": 43,
     "metadata": {},
     "output_type": "execute_result"
    }
   ],
   "source": [
    "unqiue_bounce_locations = ground_strokes.group(\"bounce_location_long\")\n",
    "unqiue_bounce_locations"
   ]
  },
  {
   "cell_type": "code",
   "execution_count": 44,
   "id": "e1abf81a",
   "metadata": {
    "deletable": false,
    "editable": false
   },
   "outputs": [
    {
     "data": {
      "text/html": [
       "<p><strong><pre style='display: inline;'>q3_2</pre></strong> passed! 🌟</p>"
      ],
      "text/plain": [
       "q3_2 results: All test cases passed!"
      ]
     },
     "execution_count": 44,
     "metadata": {},
     "output_type": "execute_result"
    }
   ],
   "source": [
    "grader.check(\"q3_2\")"
   ]
  },
  {
   "cell_type": "markdown",
   "id": "f4edcc04-815a-4aeb-b50d-b0dc90c0ec4e",
   "metadata": {},
   "source": [
    "Notice that the _hit_velocity_ and _bounce_location_ columns don't contain ordinary integers or strings like we're used to seeing. In fact, each value in _hit_velocity_ and _bounce_location_ is a _list_ of coordinates (x, y, z)! If you don't know what a list is, you can think of it as something similar to an array. Let's add columns to the `ground_strokes` table that contains the _individual coordinates_ as floats.\n",
    "\n",
    "**Difference between array and lists: lists can store many data types and arrays can only store one type of data type. Arrays are faster with larger datasets**"
   ]
  },
  {
   "cell_type": "code",
   "execution_count": 45,
   "id": "05c951e0-41d6-423c-8cf2-7412cbcb68c0",
   "metadata": {},
   "outputs": [
    {
     "data": {
      "text/html": [
       "<table border=\"1\" class=\"dataframe\">\n",
       "    <thead>\n",
       "        <tr>\n",
       "            <th>bounce_location_long</th> <th>hit_velocity_x</th> <th>hit_velocity_y</th> <th>hit_velocity_z</th> <th>bounce_x</th> <th>bounce_y</th> <th>bounce_z</th>\n",
       "        </tr>\n",
       "    </thead>\n",
       "    <tbody>\n",
       "        <tr>\n",
       "            <td>service_box         </td> <td>1.40832       </td> <td>12.8075       </td> <td>5.17498       </td> <td>-1.33419 </td> <td>14.9067 </td> <td>0       </td>\n",
       "        </tr>\n",
       "        <tr>\n",
       "            <td>no_mans_land        </td> <td>-0.810076     </td> <td>18.2128       </td> <td>5.86215       </td> <td>1.75366  </td> <td>22.1289 </td> <td>0       </td>\n",
       "        </tr>\n",
       "        <tr>\n",
       "            <td>service_box         </td> <td>5.41003       </td> <td>13.2669       </td> <td>6.3098        </td> <td>2.3472   </td> <td>15.1229 </td> <td>0       </td>\n",
       "        </tr>\n",
       "        <tr>\n",
       "            <td>no_mans_land        </td> <td>1.82599       </td> <td>25.3135       </td> <td>3.37084       </td> <td>-1.07077 </td> <td>20.9914 </td> <td>0       </td>\n",
       "        </tr>\n",
       "        <tr>\n",
       "            <td>no_mans_land        </td> <td>1.64479       </td> <td>15.1131       </td> <td>5.46639       </td> <td>0.134519 </td> <td>18.5611 </td> <td>0       </td>\n",
       "        </tr>\n",
       "        <tr>\n",
       "            <td>no_mans_land        </td> <td>0.801622      </td> <td>13.0564       </td> <td>8.61039       </td> <td>1.02459  </td> <td>22.2292 </td> <td>0       </td>\n",
       "        </tr>\n",
       "        <tr>\n",
       "            <td>no_mans_land        </td> <td>5.9389        </td> <td>23.7188       </td> <td>3.80192       </td> <td>2.11768  </td> <td>21.8173 </td> <td>0       </td>\n",
       "        </tr>\n",
       "        <tr>\n",
       "            <td>no_mans_land        </td> <td>-0.654208     </td> <td>12.8425       </td> <td>8.75972       </td> <td>-0.579308</td> <td>23.2327 </td> <td>0       </td>\n",
       "        </tr>\n",
       "        <tr>\n",
       "            <td>no_mans_land        </td> <td>0.309825      </td> <td>10.9835       </td> <td>7.99474       </td> <td>-1.14151 </td> <td>18.5877 </td> <td>0       </td>\n",
       "        </tr>\n",
       "        <tr>\n",
       "            <td>service_box         </td> <td>1.17871       </td> <td>13.2838       </td> <td>6.44372       </td> <td>-1.51517 </td> <td>16.7797 </td> <td>0       </td>\n",
       "        </tr>\n",
       "    </tbody>\n",
       "</table>\n",
       "<p>... (986 rows omitted)</p>"
      ],
      "text/plain": [
       "bounce_location_long | hit_velocity_x | hit_velocity_y | hit_velocity_z | bounce_x  | bounce_y | bounce_z\n",
       "service_box          | 1.40832        | 12.8075        | 5.17498        | -1.33419  | 14.9067  | 0\n",
       "no_mans_land         | -0.810076      | 18.2128        | 5.86215        | 1.75366   | 22.1289  | 0\n",
       "service_box          | 5.41003        | 13.2669        | 6.3098         | 2.3472    | 15.1229  | 0\n",
       "no_mans_land         | 1.82599        | 25.3135        | 3.37084        | -1.07077  | 20.9914  | 0\n",
       "no_mans_land         | 1.64479        | 15.1131        | 5.46639        | 0.134519  | 18.5611  | 0\n",
       "no_mans_land         | 0.801622       | 13.0564        | 8.61039        | 1.02459   | 22.2292  | 0\n",
       "no_mans_land         | 5.9389         | 23.7188        | 3.80192        | 2.11768   | 21.8173  | 0\n",
       "no_mans_land         | -0.654208      | 12.8425        | 8.75972        | -0.579308 | 23.2327  | 0\n",
       "no_mans_land         | 0.309825       | 10.9835        | 7.99474        | -1.14151  | 18.5877  | 0\n",
       "service_box          | 1.17871        | 13.2838        | 6.44372        | -1.51517  | 16.7797  | 0\n",
       "... (986 rows omitted)"
      ]
     },
     "execution_count": 45,
     "metadata": {},
     "output_type": "execute_result"
    }
   ],
   "source": [
    "#Run this cell\n",
    "import ast\n",
    "def extract_x(lst):\n",
    "    return ast.literal_eval(lst)[0]\n",
    "\n",
    "def extract_y(lst):\n",
    "    return ast.literal_eval(lst)[1]\n",
    "\n",
    "def extract_z(lst):\n",
    "    return ast.literal_eval(lst)[2]\n",
    "\n",
    "hit_velocity_x = make_array()\n",
    "hit_velocity_y = make_array()\n",
    "hit_velocity_z = make_array()\n",
    "\n",
    "for coordinates in ground_strokes.column(\"hit_velocity\"):\n",
    "    hit_velocity_x = np.append(hit_velocity_x, extract_x(coordinates))\n",
    "    hit_velocity_y = np.append(hit_velocity_y, extract_y(coordinates))\n",
    "    hit_velocity_z = np.append(hit_velocity_z, extract_z(coordinates))\n",
    "\n",
    "bounce_x = make_array()\n",
    "bounce_y = make_array()\n",
    "bounce_z = make_array()\n",
    "\n",
    "for coordinates in ground_strokes.column(\"bounce_location\"):\n",
    "    bounce_x = np.append(bounce_x, extract_x(coordinates))\n",
    "    bounce_y = np.append(bounce_y, extract_y(coordinates))\n",
    "    bounce_z = np.append(bounce_z, extract_z(coordinates))\n",
    "\n",
    "coords = ground_strokes.with_columns(\n",
    "    \"hit_velocity_x\", hit_velocity_x, \"hit_velocity_y\", hit_velocity_y, \"hit_velocity_z\", hit_velocity_z).with_columns(\n",
    "    \"bounce_x\", bounce_x, \"bounce_y\", bounce_y, \"bounce_z\", bounce_z).drop(\"hit_velocity\", \"bounce_location\").where(\n",
    "    \"hit_velocity_z\", are.below(15))\n",
    "\n",
    "coords"
   ]
  },
  {
   "cell_type": "markdown",
   "id": "d6f07443-ef8c-4b9e-8927-0623a4cb4168",
   "metadata": {},
   "source": [
    "In this exploration, we want to predict or classify how _deep_ a shot lands, based on the initial velocity of the ball when it is hit by a player. To describe the coordinates (x,y,z):\n",
    "\n",
    "* _x_ describes left/right (right being positive)\n",
    "* _y_ describes forward/backward (forward being positive)\n",
    "* _z_ describes up/down (up being positive)"
   ]
  },
  {
   "cell_type": "code",
   "execution_count": 46,
   "id": "7c79f582-d24a-4fa9-bfcd-0ed7e27380c7",
   "metadata": {},
   "outputs": [
    {
     "data": {
      "image/png": "[encoded data removed]",
      "text/plain": [
       "<Figure size 640x480 with 1 Axes>"
      ]
     },
     "metadata": {},
     "output_type": "display_data"
    }
   ],
   "source": [
    "#Run this cell\n",
    "colors = {'service_box': 'orange', 'no_mans_land': 'blue'}\n",
    "color_list = [colors[group] for group in coords['bounce_location_long']]\n",
    "plt.scatter(data = coords.where('bounce_location_long', 'service_box'), x = \"hit_velocity_y\", y = \"hit_velocity_z\", s = 2, color = 'orange', label='service_box')\n",
    "plt.scatter(data = coords.where('bounce_location_long', 'no_mans_land'), x = \"hit_velocity_y\", y = \"hit_velocity_z\", s = 2, color = 'blue', label='no_mans_land')\n",
    "plt.xlabel(\"Hit Velocity (y coordinate)\")\n",
    "plt.ylabel(\"Hit Velocity (z coordinate)\")\n",
    "plt.legend();"
   ]
  },
  {
   "cell_type": "markdown",
   "id": "f69dbda8-8ce5-4293-be0b-54c79532475b",
   "metadata": {},
   "source": [
    "We can see a fairly clear decision boundary between shots that land in \"no_mans_land\", colored in blue, and shots that land in the \"service_box\", colored in orange."
   ]
  },
  {
   "cell_type": "markdown",
   "id": "9ccb24a6-adb7-46b3-b628-a218b4f3d61f",
   "metadata": {},
   "source": [
    "<hr style=\"border: 5px solid #003262;\" />\n",
    "<hr style=\"border: 1px solid #fdb515;\" />\n",
    "\n",
    "## 4. k-Nearest Regression with SwingVision Dataset"
   ]
  },
  {
   "cell_type": "markdown",
   "id": "a2cf00e7-53d0-4281-af83-2aeae3eacea8",
   "metadata": {},
   "source": [
    "For a refresher on kNN, review [Chapter 17](https://inferentialthinking.com/chapters/17/Classification.html) from the textbook!\n",
    "\n",
    "**kNN regression is a method used to predict a numerical value based on nearby data points**\n",
    "\n",
    "To make a prediction:\n",
    "1. First calculate the Euclidean distance between the point we are trying to predict and each point in the data set.\n",
    "2. Then find the k closest points, known as the nearest neighbors.\n",
    "    - Instead of taking a majority vote like we did in kNN classificaiton, we take the average of the values we are trying to predict from the nearest neighbors. This average value becomes our prediction.\n",
    "3. We can classify (with some degree of accuracy) whether a shot we hit will land in the _service_box_ or _no_mans_land_ based on it's initial velocity, but maybe we would want to be more specific about how _deep_ our shot will land on the opponent's side.\n",
    "    - After all, the deeper the shot lands, the more pressure you put on the opponent!\n",
    "    - This is where kNN regression is useful — rather than labeling the bounce location, we can use it to predict the depth (numerical position) where the ball is likely to bounce.\n",
    "\n",
    "<details>\n",
    "<summary>Notes:</summary>\n",
    "        \n",
    "- Say you are trying to predict x given x's y. The intuition is that if two points are near each other in the scatterplot, then the corresponding measurements are pretty similar, so we might expect them to receive the same prediction (more likely than not).\n",
    "    - E.g. we don’t know Alice’s diagnosis, but we do know the diagnosis of all the patients in the training set, so we find the patient in the training set who is most similar to Alice, and use that patient’s diagnosis to predict Alice’s diagnosis.\n",
    "\n",
    "</details>\n"
   ]
  },
  {
   "cell_type": "markdown",
   "id": "b570678f-fc4f-4d76-95a6-9654afeba597",
   "metadata": {
    "deletable": false,
    "editable": false
   },
   "source": [
    "---\n",
    "\n",
    "__Question 4.1__ Again, let's split our `coords` dataset into a training set and a test set, reserving the first $200$ shots for the test set and putting the rest into the training set. __(6 Points)__\n",
    "\n",
    "Note: Do __not__ use `tbl.split`."
   ]
  },
  {
   "cell_type": "code",
   "execution_count": 47,
   "id": "ed24494d-6ad3-4b9a-8c67-51b7e1d04e3f",
   "metadata": {},
   "outputs": [
    {
     "data": {
      "text/html": [
       "<table border=\"1\" class=\"dataframe\">\n",
       "    <thead>\n",
       "        <tr>\n",
       "            <th>bounce_location_long</th> <th>hit_velocity_x</th> <th>hit_velocity_y</th> <th>hit_velocity_z</th> <th>bounce_x</th> <th>bounce_y</th> <th>bounce_z</th>\n",
       "        </tr>\n",
       "    </thead>\n",
       "    <tbody>\n",
       "        <tr>\n",
       "            <td>service_box         </td> <td>1.40832       </td> <td>12.8075       </td> <td>5.17498       </td> <td>-1.33419</td> <td>14.9067 </td> <td>0       </td>\n",
       "        </tr>\n",
       "        <tr>\n",
       "            <td>no_mans_land        </td> <td>-0.810076     </td> <td>18.2128       </td> <td>5.86215       </td> <td>1.75366 </td> <td>22.1289 </td> <td>0       </td>\n",
       "        </tr>\n",
       "        <tr>\n",
       "            <td>service_box         </td> <td>5.41003       </td> <td>13.2669       </td> <td>6.3098        </td> <td>2.3472  </td> <td>15.1229 </td> <td>0       </td>\n",
       "        </tr>\n",
       "        <tr>\n",
       "            <td>no_mans_land        </td> <td>1.82599       </td> <td>25.3135       </td> <td>3.37084       </td> <td>-1.07077</td> <td>20.9914 </td> <td>0       </td>\n",
       "        </tr>\n",
       "        <tr>\n",
       "            <td>no_mans_land        </td> <td>1.64479       </td> <td>15.1131       </td> <td>5.46639       </td> <td>0.134519</td> <td>18.5611 </td> <td>0       </td>\n",
       "        </tr>\n",
       "    </tbody>\n",
       "</table>\n",
       "<p>... (991 rows omitted)</p>"
      ],
      "text/plain": [
       "<IPython.core.display.HTML object>"
      ]
     },
     "metadata": {},
     "output_type": "display_data"
    },
    {
     "name": "stdout",
     "output_type": "stream",
     "text": [
      "996\n"
     ]
    }
   ],
   "source": [
    "coords.show(5)\n",
    "num_shots = coords.num_rows\n",
    "print(num_shots)"
   ]
  },
  {
   "cell_type": "code",
   "execution_count": 48,
   "id": "c0177803-8763-4ccc-a5ca-59dd66aca547",
   "metadata": {
    "tags": []
   },
   "outputs": [],
   "source": [
    "np.random.seed(8) #DO NOT CHANGE\n",
    "\n",
    "num_shots = coords.num_rows\n",
    "shuffled_coords = coords.sample(with_replacement=False)\n",
    "\n",
    "test_coords = shuffled_coords.take(np.arange(200))\n",
    "training_coords = shuffled_coords.take(np.arange(200, num_shots))"
   ]
  },
  {
   "cell_type": "code",
   "execution_count": 49,
   "id": "c6a299e1",
   "metadata": {
    "deletable": false,
    "editable": false
   },
   "outputs": [
    {
     "data": {
      "text/html": [
       "<p><strong><pre style='display: inline;'>q4_1</pre></strong> passed! 🍀</p>"
      ],
      "text/plain": [
       "q4_1 results: All test cases passed!"
      ]
     },
     "execution_count": 49,
     "metadata": {},
     "output_type": "execute_result"
    }
   ],
   "source": [
    "grader.check(\"q4_1\")"
   ]
  },
  {
   "cell_type": "markdown",
   "id": "ff6eb585-9b4f-4eeb-b8b4-aeedafe35d99",
   "metadata": {
    "deletable": false,
    "editable": false
   },
   "source": [
    "---\n",
    "\n",
    "__Question 4.2__ As always, let's define a function that calculates the distance between two points according to the relevant attributes. Complete the `distance` function that takes in two rows, and calculates the Euclidean distance using `hit_velocity_y` and `hit_velocity_z`. __(3 Points)__\n",
    "\n",
    "Note: The formula for Euclidean distance is $\\sqrt{(x_1 - x_2)^2 + (y_1 - y_2)^2}$"
   ]
  },
  {
   "cell_type": "markdown",
   "id": "ddce320d-9309-4386-80e1-da07de22772d",
   "metadata": {},
   "source": [
    "<details>\n",
    "<summary>Notes on Euclidean distance vs RMSE && WIWW</summary>\n",
    "    \n",
    "- RMSE is essentially the average Euclidean distance per point (for one-dimensional errors). Its why we have `np.mean` in it \n",
    "- The Euclidean Distance measures the straight-line distance between two points in space.\n",
    "\n",
    "```python\n",
    "## you need to grab x y and z respective rows, and their item to compute it Euclidean distance for each column \n",
    "def distance(row1, row2):\n",
    "    y_diff = np.array(row1)\n",
    "    z_diff = np.array(row2)\n",
    "    return np.sqrt(np.sum((y_diff - z_diff)**2))\n",
    "```\n",
    "</details>"
   ]
  },
  {
   "cell_type": "code",
   "execution_count": 50,
   "id": "6632077e-22d8-46fe-90d3-1e5cab5cb921",
   "metadata": {
    "tags": []
   },
   "outputs": [],
   "source": [
    "def distance(row1, row2):\n",
    "    y_diff = row1.item('hit_velocity_y') # indexing works but to be safe use column name \n",
    "    z_diff = row1.item('hit_velocity_z')\n",
    "    y2_diff = row2.item('hit_velocity_y')\n",
    "    z2_diff = row2.item('hit_velocity_z')\n",
    "    return np.sqrt((y_diff - y2_diff)**2 + (z_diff - z2_diff)**2)"
   ]
  },
  {
   "cell_type": "code",
   "execution_count": 51,
   "id": "e4db3e1c",
   "metadata": {
    "deletable": false,
    "editable": false
   },
   "outputs": [
    {
     "data": {
      "text/html": [
       "<p><strong><pre style='display: inline;'>q4_2</pre></strong> passed! 🚀</p>"
      ],
      "text/plain": [
       "q4_2 results: All test cases passed!"
      ]
     },
     "execution_count": 51,
     "metadata": {},
     "output_type": "execute_result"
    }
   ],
   "source": [
    "grader.check(\"q4_2\")"
   ]
  },
  {
   "cell_type": "markdown",
   "id": "a177fb1a-85c0-419f-b5a0-27625ee81977",
   "metadata": {
    "deletable": false,
    "editable": false
   },
   "source": [
    "---\n",
    "\n",
    "__Question 4.3__ Define a function `predict_nn` that takes in a row, and returns the predicted _y_ coordinate of where the ball landed based on the k nearest neighbors. __(10 Points)__\n",
    "\n",
    "*Hint*: Make sure to read the introduction of Question 4 carefully before approaching this problem!"
   ]
  },
  {
   "cell_type": "code",
   "execution_count": 52,
   "id": "fd03644c-0ef9-423c-a90c-1e3b7d5c1847",
   "metadata": {
    "tags": []
   },
   "outputs": [],
   "source": [
    "def predict_nn(point, k):\n",
    "    num_training = training_coords.num_rows # training tbl that you want (num_rows) \n",
    "    dists = make_array() \n",
    "    for i in np.arange(num_training):\n",
    "        compu = distance(point, training_coords.row(i))\n",
    "        dists = np.append(dists, compu)\n",
    "    train_dists = training_coords.with_columns('Distance', dists).sort('Distance', descending=False).column('bounce_y')\n",
    "    return np.mean(train_dists.take(np.arange(k)))\n",
    "    # return np.mean(train_dists.column('Distance').take(0) * train_dists.column('bounce_y').take(0)) "
   ]
  },
  {
   "cell_type": "code",
   "execution_count": 53,
   "id": "caebf2cb",
   "metadata": {
    "deletable": false,
    "editable": false
   },
   "outputs": [
    {
     "data": {
      "text/html": [
       "<p><strong><pre style='display: inline;'>q4_3</pre></strong> passed! 🌈</p>"
      ],
      "text/plain": [
       "q4_3 results: All test cases passed!"
      ]
     },
     "execution_count": 53,
     "metadata": {},
     "output_type": "execute_result"
    }
   ],
   "source": [
    "grader.check(\"q4_3\")"
   ]
  },
  {
   "cell_type": "markdown",
   "id": "1f46e1aa-5540-49c0-bd78-26f27e51865d",
   "metadata": {
    "deletable": false,
    "editable": false
   },
   "source": [
    "---\n",
    "__Question 4.4__ Now, perform kNN regression with $k = 7$ on the test set defined earlier. Calculate the RMSE of our predictions. __(8 Points)__"
   ]
  },
  {
   "cell_type": "code",
   "execution_count": 54,
   "id": "55014b7e-cef1-4718-a29b-48b0d89615a4",
   "metadata": {},
   "outputs": [],
   "source": [
    "# redo rmse code for problem \n",
    "\n",
    "def rmse_new(predictions, actual_values):\n",
    "    \"\"\"Function to calculate RMSE given predicted and actual values.\"\"\"\n",
    "    error = make_array() \n",
    "    for i in np.arange(len(actual_values)):\n",
    "        error = np.append(error, np.square(predictions[i] - actual_values[i]))\n",
    "    return np.sqrt(np.mean(error))"
   ]
  },
  {
   "cell_type": "code",
   "execution_count": 55,
   "id": "ba5f88f8-df32-4299-a038-a30b1a0835c7",
   "metadata": {
    "tags": []
   },
   "outputs": [
    {
     "data": {
      "text/plain": [
       "1.6714115910389151"
      ]
     },
     "execution_count": 55,
     "metadata": {},
     "output_type": "execute_result"
    }
   ],
   "source": [
    "nn_predictions = make_array() \n",
    "num_test = test_coords.num_rows\n",
    "\n",
    "for i in np.arange(num_test):\n",
    "    preds = predict_nn(test_coords.row(i), 7)\n",
    "    nn_predictions = np.append(nn_predictions, preds)\n",
    "    actual_y_vals = test_coords.column('bounce_y')\n",
    "\n",
    "knn_regression_rmse = rmse_new(nn_predictions, actual_y_vals)\n",
    "knn_regression_rmse\n",
    "\n",
    "\n"
   ]
  },
  {
   "cell_type": "code",
   "execution_count": 56,
   "id": "2be27fb3",
   "metadata": {
    "deletable": false,
    "editable": false
   },
   "outputs": [
    {
     "data": {
      "text/html": [
       "<p><strong><pre style='display: inline;'>q4_4</pre></strong> passed! 🙌</p>"
      ],
      "text/plain": [
       "q4_4 results: All test cases passed!"
      ]
     },
     "execution_count": 56,
     "metadata": {},
     "output_type": "execute_result"
    }
   ],
   "source": [
    "grader.check(\"q4_4\")"
   ]
  },
  {
   "cell_type": "markdown",
   "id": "113316b1-8530-4e99-b369-ba217bf4be36",
   "metadata": {},
   "source": [
    "<hr style=\"border: 5px solid #003262;\" />\n",
    "<hr style=\"border: 1px solid #fdb515;\" />\n",
    "\n",
    "## 5. **(OPTIONAL)** kNN Classification with SwingVision Dataset"
   ]
  },
  {
   "cell_type": "markdown",
   "id": "4ff454b2",
   "metadata": {},
   "source": [
    "Now, we will develop a k-Nearest Neighbors (kNN) classifier to classify how deep a shot lands by predicting whether it bounces in the \"service_box\" or in \"no_mans_land\", using the ball's inital velocity in the forward/backward (`hit_velocity_y`) and up/down directions (`hit_velocity_z`)."
   ]
  },
  {
   "cell_type": "markdown",
   "id": "8a367df3-b371-4237-99f6-b5d080bf19b2",
   "metadata": {
    "deletable": false,
    "editable": false
   },
   "source": [
    "---\n",
    "\n",
    "__Question 5.1__ Define the function `classify` that takes in a point (a row object) and `k`, and classifies that point using the data in the training set.\n",
    "\n",
    "*Hint*: Take a look at [Section 17.4.5](https://inferentialthinking.com/chapters/17/4/Implementing_the_Classifier.html#implementation-step-1) on how to implement this function.\n",
    "\n",
    "Note: You don't need to follow the skeleton code to answer this question!"
   ]
  },
  {
   "cell_type": "code",
   "execution_count": 57,
   "id": "1bbeec10-54ff-4aca-8fed-722dd5f1e6e1",
   "metadata": {},
   "outputs": [
    {
     "data": {
      "text/html": [
       "<table border=\"1\" class=\"dataframe\">\n",
       "    <thead>\n",
       "        <tr>\n",
       "            <th>bounce_location_long</th> <th>hit_velocity_x</th> <th>hit_velocity_y</th> <th>hit_velocity_z</th> <th>bounce_x</th> <th>bounce_y</th> <th>bounce_z</th>\n",
       "        </tr>\n",
       "    </thead>\n",
       "    <tbody>\n",
       "        <tr>\n",
       "            <td>no_mans_land        </td> <td>-3.40236      </td> <td>19.9837       </td> <td>5.61746       </td> <td>-0.788821</td> <td>23.105  </td> <td>0       </td>\n",
       "        </tr>\n",
       "        <tr>\n",
       "            <td>service_box         </td> <td>4.58208       </td> <td>16.0012       </td> <td>5.24553       </td> <td>2.25722  </td> <td>18.102  </td> <td>0       </td>\n",
       "        </tr>\n",
       "        <tr>\n",
       "            <td>no_mans_land        </td> <td>-3.99735      </td> <td>23.066        </td> <td>4.07888       </td> <td>-2.93728 </td> <td>23.5398 </td> <td>0       </td>\n",
       "        </tr>\n",
       "        <tr>\n",
       "            <td>no_mans_land        </td> <td>1.58964       </td> <td>23.9826       </td> <td>3.31317       </td> <td>1.42308  </td> <td>21.1854 </td> <td>0       </td>\n",
       "        </tr>\n",
       "        <tr>\n",
       "            <td>no_mans_land        </td> <td>-1.2964       </td> <td>16.4902       </td> <td>6.18872       </td> <td>0.552014 </td> <td>21.2223 </td> <td>0       </td>\n",
       "        </tr>\n",
       "    </tbody>\n",
       "</table>\n",
       "<p>... (791 rows omitted)</p>"
      ],
      "text/plain": [
       "<IPython.core.display.HTML object>"
      ]
     },
     "metadata": {},
     "output_type": "display_data"
    }
   ],
   "source": [
    "training_coords.show(5)\n",
    "\n",
    "def distance(row1, row2):\n",
    "    y_diff = row1.item('hit_velocity_y') # indexing works but to be safe use column name \n",
    "    z_diff = row1.item('hit_velocity_z')\n",
    "    y2_diff = row2.item('hit_velocity_y')\n",
    "    z2_diff = row2.item('hit_velocity_z')\n",
    "    return np.sqrt((y_diff - y2_diff)**2 + (z_diff - z2_diff)**2)\n",
    "    "
   ]
  },
  {
   "cell_type": "markdown",
   "id": "f695aa4f-5019-494a-812d-175c2a6bc0d9",
   "metadata": {},
   "source": [
    "<details>\n",
    "\n",
    "- The function `predict_nn` is for predicting a continuous bounce_y value — but you're doing classification now, based on categories like \"service_box\" or \"no_mans_land\"\n",
    "\n",
    "```python\n",
    "\n",
    "# skeleton\n",
    "# def classify(point, k):\n",
    "#     num_training = ...\n",
    "#     dists = ...\n",
    "#     for ...:\n",
    "#         ...\n",
    "#     train_dists = ...\n",
    "#     return ...\n",
    "\n",
    "# attempt 1\n",
    "def classify(point, k):\n",
    "    num_training = training_coords.num_rows\n",
    "    dists = make_array()\n",
    "    for i in np.arange(num_training): \n",
    "        preds = predict_nn(training_coords.row(i), preds)\n",
    "        dists = np.append(dists, preds)\n",
    "    train_dists = training_coords.with_columns('Distance', dists).sort('Distance', descending=False).column('bounce_location_long')\n",
    "    return np.mean(train_dists.take(np.arange(k)))\n",
    "```\n",
    "</details>"
   ]
  },
  {
   "cell_type": "code",
   "execution_count": 63,
   "id": "502d36f9-a609-4295-8b44-29907d34685c",
   "metadata": {
    "tags": []
   },
   "outputs": [],
   "source": [
    "dict_major = {'no_mans_land': 0, 'service_box': 1}\n",
    "reverse_dict_major = {0: 'no_mans_land', 1: 'service_box'} # key looks up only work based on value, not value to key; there are user def funcs that work tho\n",
    "\n",
    "def classify(point, k):\n",
    "    num_training = training_coords.num_rows\n",
    "    dists = make_array()\n",
    "    for i in np.arange(num_training): \n",
    "        # compute distance between point and every row in training_coords\n",
    "        row = training_coords.row(i)\n",
    "        dist = distance(point, row)\n",
    "        dists = np.append(dists, dist)\n",
    "    train_dists = training_coords.with_columns('Classified Distances', dists).sort('Classified Distances', descending=False).take(np.arange(k)).column('bounce_location_long')\n",
    "    binary_vote = np.array([dict_major[label] for label in train_dists]) # no trabajo porque train_dists es una mesa # train_dists.apply(dict_major)\n",
    "    num_one = np.count_nonzero(binary_vote)\n",
    "    num_zero = k - num_one  # count num of 0s\n",
    "    \n",
    "    # if logic\n",
    "    if num_one > num_zero: \n",
    "        return reverse_dict_major[1]\n",
    "    else: \n",
    "        return reverse_dict_major[0]\n",
    "\n",
    "\n",
    "# works but the problem wants a string as answer\n",
    "# and we cant `apply` the dictionary  because train_dists is now a column (i.e. array). So use np.array to with list comprenhension to convert\n"
   ]
  },
  {
   "cell_type": "code",
   "execution_count": 64,
   "id": "95a55e4b",
   "metadata": {
    "deletable": false,
    "editable": false
   },
   "outputs": [
    {
     "data": {
      "text/html": [
       "<p><strong><pre style='display: inline;'>q5_1</pre></strong> passed! 🌟</p>"
      ],
      "text/plain": [
       "q5_1 results: All test cases passed!"
      ]
     },
     "execution_count": 64,
     "metadata": {},
     "output_type": "execute_result"
    }
   ],
   "source": [
    "grader.check(\"q5_1\")"
   ]
  },
  {
   "cell_type": "markdown",
   "id": "48909686",
   "metadata": {},
   "source": [
    "Let's test our classifier on the first data point in our test set with $k = 7$!"
   ]
  },
  {
   "cell_type": "code",
   "execution_count": 65,
   "id": "e050599a-e073-4e15-a2b7-b41c30e6cec6",
   "metadata": {},
   "outputs": [
    {
     "data": {
      "text/plain": [
       "'no_mans_land'"
      ]
     },
     "execution_count": 65,
     "metadata": {},
     "output_type": "execute_result"
    }
   ],
   "source": [
    "classify(test_coords.row(0), 7)"
   ]
  },
  {
   "cell_type": "code",
   "execution_count": 66,
   "id": "f9862bec-950b-4d15-87ed-45a5cbbeeb27",
   "metadata": {},
   "outputs": [
    {
     "data": {
      "text/html": [
       "<table border=\"1\" class=\"dataframe\">\n",
       "    <thead>\n",
       "        <tr>\n",
       "            <th>bounce_location_long</th> <th>hit_velocity_x</th> <th>hit_velocity_y</th> <th>hit_velocity_z</th> <th>bounce_x</th> <th>bounce_y</th> <th>bounce_z</th>\n",
       "        </tr>\n",
       "    </thead>\n",
       "    <tbody>\n",
       "        <tr>\n",
       "            <td>no_mans_land        </td> <td>3.79479       </td> <td>16.46         </td> <td>7.08293       </td> <td>0.554779</td> <td>19.0179 </td> <td>1.72116 </td>\n",
       "        </tr>\n",
       "    </tbody>\n",
       "</table>\n",
       "<p>... (199 rows omitted)</p>"
      ],
      "text/plain": [
       "<IPython.core.display.HTML object>"
      ]
     },
     "metadata": {},
     "output_type": "display_data"
    }
   ],
   "source": [
    "test_coords.show(1)"
   ]
  },
  {
   "cell_type": "markdown",
   "id": "8d269348-5cc9-4d37-9c2c-03fa5aea078c",
   "metadata": {
    "deletable": false,
    "editable": false
   },
   "source": [
    "---\n",
    "\n",
    "__Question 5.2__ Define a function `accuracy` which takes in an array of predictions (an array of actual values) and returns the proportion of correct predictions."
   ]
  },
  {
   "cell_type": "code",
   "execution_count": 69,
   "id": "2e1c3ed4-9be3-4bff-bf0b-6a0da3a491e3",
   "metadata": {
    "tags": []
   },
   "outputs": [],
   "source": [
    "def accuracy(preds, y):\n",
    "    \"\"\"Func calculates accuracy which is defined as\n",
    "\n",
    "        num of correct predict / total num of predic\n",
    "    \"\"\"\n",
    "    correct_array = np.count_nonzero(preds == y) # correct array returns number of correct => no need for len \n",
    "    accuracy = correct_array / len(y) # use len instead of num_rows because we are working with arr v.s. table\n",
    "    return accuracy"
   ]
  },
  {
   "cell_type": "code",
   "execution_count": 70,
   "id": "33deccd9",
   "metadata": {
    "deletable": false,
    "editable": false
   },
   "outputs": [
    {
     "data": {
      "text/html": [
       "<p><strong><pre style='display: inline;'>q5_2</pre></strong> passed! 🚀</p>"
      ],
      "text/plain": [
       "q5_2 results: All test cases passed!"
      ]
     },
     "execution_count": 70,
     "metadata": {},
     "output_type": "execute_result"
    }
   ],
   "source": [
    "grader.check(\"q5_2\")"
   ]
  },
  {
   "cell_type": "markdown",
   "id": "88972746-eb2f-4681-a197-b3de08715ee3",
   "metadata": {
    "deletable": false,
    "editable": false
   },
   "source": [
    "---\n",
    "\n",
    "__Question 5.3__ Now, determine the accuracy of the kNN classifier we developed on the test set we defined earlier, using $k = 7$.\n",
    "\n",
    "**Hint**: Consider using a for loop to store the prediction of each shot from `test_coords` in the array `predictions`."
   ]
  },
  {
   "cell_type": "markdown",
   "id": "61fc1301-87a7-42ee-99aa-1a850928ef24",
   "metadata": {},
   "source": [
    "<details><summary>Code</summary>\n",
    "\n",
    "```python\n",
    "nn_predictions = make_array() \n",
    "num_test = test_coords.num_rows\n",
    "\n",
    "for i in np.arange(num_test):\n",
    "    preds = predict_nn(test_coords.row(i), 7)\n",
    "    nn_predictions = np.append(nn_predictions, preds)\n",
    "    actual_y_vals = test_coords.column('bounce_y')\n",
    "\n",
    "knn_regression_rmse = rmse_new(nn_predictions, actual_y_vals)\n",
    "knn_regression_rmse\n",
    "```\n",
    "</details>"
   ]
  },
  {
   "cell_type": "code",
   "execution_count": 74,
   "id": "0fa7a2a3-648d-4576-bb02-0d2c845c9e0a",
   "metadata": {
    "tags": []
   },
   "outputs": [
    {
     "data": {
      "text/plain": [
       "0.8"
      ]
     },
     "execution_count": 74,
     "metadata": {},
     "output_type": "execute_result"
    }
   ],
   "source": [
    "# my work\n",
    "num_test = test_coords.num_rows \n",
    "predictions = make_array() \n",
    "\n",
    "for i in np.arange(num_test): \n",
    "    classifier = classify(test_coords.row(i), 7) # you are testing classification not regression\n",
    "    predictions = np.append(predictions, classifier) \n",
    "accuracy(predictions, test_coords.column(\"bounce_location_long\"))"
   ]
  },
  {
   "cell_type": "markdown",
   "id": "b999c339-06e9-45ef-8dab-3e511b1d145b",
   "metadata": {},
   "source": [
    "**An accuracy of 0.8 means your kNN classifier correctly predicted the shot depth 80% of the time on the test set.**\n",
    "\n",
    "### Improving classification next steps: \n",
    "1. Looking at a `confusion matrix` to see which class is being misclassified more often.\n",
    "2. Trying other values of k (e.g. 3, 5, 9...) to see if accuracy improves.\n",
    "3. Comparing with a baseline classifier that always picks the majority class."
   ]
  },
  {
   "cell_type": "code",
   "execution_count": 75,
   "id": "0948fd85",
   "metadata": {
    "deletable": false,
    "editable": false
   },
   "outputs": [
    {
     "data": {
      "text/html": [
       "<p><strong><pre style='display: inline;'>q5_3</pre></strong> passed! 🌟</p>"
      ],
      "text/plain": [
       "q5_3 results: All test cases passed!"
      ]
     },
     "execution_count": 75,
     "metadata": {},
     "output_type": "execute_result"
    }
   ],
   "source": [
    "grader.check(\"q5_3\")"
   ]
  },
  {
   "cell_type": "markdown",
   "id": "180198fc",
   "metadata": {},
   "source": [
    "You're done with Homework 12!"
   ]
  },
  {
   "attachments": {},
   "cell_type": "markdown",
   "id": "81e1c67e",
   "metadata": {},
   "source": [
    "## Pets of Data 8\n",
    "\n",
    "Boba thinks you should treat yourself to a boba!\n",
    "\n",
    "<img src=\"boba.jpeg\" width=\"40%\" alt=\"Shorthair cat smirking at camera\"/>\n",
    "\n",
    "Congrats on finishing the final homework!"
   ]
  },
  {
   "cell_type": "markdown",
   "id": "0026ac12",
   "metadata": {},
   "source": [
    "<hr style=\"border: 5px solid #003262;\" />\n",
    "<hr style=\"border: 1px solid #fdb515;\" />\n",
    "\n",
    "## Written Work Submission\n",
    "\n",
    "Below, you will see two cells. Running the first cell will automatically generate a PDF of all questions that need to be manually graded, and running the second cell will automatically generate a zip with your autograded answers. You are responsible for submitting both the coding portion (the zip) and the written portion (the PDF) to their respective Gradescope portals. **Please save before exporting!**\n",
    "\n",
    "> **Important: You must correctly assign the pages of your PDF after you submit to the correct gradescope assignment. If your pages are not correctly assigned and/or not in the correct PDF format by the deadline, we reserve the right to award no points for your written work.**\n",
    "\n",
    "If there are issues with automatically generating the PDF in the first cell, you can try downloading the notebook as a PDF by clicking on `File -> Save and Export Notebook As... -> Webpdf`. If that doesn't work either, you can manually take screenshots of your answers to the manually graded questions and submit one single PDF of your screenshots. Either way, **you are responsible for ensuring your submission follows our requirements, we will NOT be granting regrade requests for submissions that don't follow instructions.**\n",
    "\n",
    "**You must submit the PDF generated via one of these methods, we will not accept screenshots or Word documents.**"
   ]
  },
  {
   "cell_type": "code",
   "execution_count": null,
   "id": "9df14e51",
   "metadata": {},
   "outputs": [],
   "source": [
    "from otter.export import export_notebook\n",
    "from os import path\n",
    "from IPython.display import display, HTML\n",
    "name = 'hw12'\n",
    "export_notebook(f\"{name}.ipynb\", filtering=True, pagebreaks=True)\n",
    "if(path.exists(f'{name}.pdf')):\n",
    "    display(HTML(f\"Download your PDF <a href='{name}.pdf' download>here</a>.\"))\n",
    "else:\n",
    "    print(\"\\n Pdf generation failed, please try the other methods described above\")"
   ]
  },
  {
   "cell_type": "markdown",
   "id": "d4a92158",
   "metadata": {
    "deletable": false,
    "editable": false
   },
   "source": [
    "---\n",
    "\n",
    "To double-check your work, the cell below will rerun all of the autograder tests."
   ]
  },
  {
   "cell_type": "code",
   "execution_count": 76,
   "id": "a77f998a",
   "metadata": {
    "deletable": false,
    "editable": false
   },
   "outputs": [
    {
     "data": {
      "text/plain": [
       "q1_1 results: All test cases passed!\n",
       "\n",
       "q1_2 results: All test cases passed!\n",
       "\n",
       "q1_3 results: All test cases passed!\n",
       "\n",
       "q1_4 results: All test cases passed!\n",
       "\n",
       "q1_6 results: All test cases passed!\n",
       "\n",
       "q1_7 results: All test cases passed!\n",
       "\n",
       "q1_8 results: All test cases passed!\n",
       "\n",
       "q2_1 results: All test cases passed!\n",
       "\n",
       "q2_2 results: All test cases passed!\n",
       "\n",
       "q2_3 results: All test cases passed!\n",
       "\n",
       "q2_4 results: All test cases passed!\n",
       "\n",
       "q2_5 results: All test cases passed!\n",
       "\n",
       "q2_6 results: All test cases passed!\n",
       "\n",
       "q3_1 results: All test cases passed!\n",
       "\n",
       "q3_2 results: All test cases passed!\n",
       "\n",
       "q4_1 results: All test cases passed!\n",
       "\n",
       "q4_2 results: All test cases passed!\n",
       "\n",
       "q4_3 results: All test cases passed!\n",
       "\n",
       "q4_4 results: All test cases passed!\n",
       "\n",
       "q5_1 results: All test cases passed!\n",
       "\n",
       "q5_2 results: All test cases passed!\n",
       "\n",
       "q5_3 results: All test cases passed!"
      ]
     },
     "execution_count": 76,
     "metadata": {},
     "output_type": "execute_result"
    }
   ],
   "source": [
    "grader.check_all()"
   ]
  },
  {
   "cell_type": "markdown",
   "id": "87b359cb",
   "metadata": {
    "deletable": false,
    "editable": false
   },
   "source": [
    "## Submission\n",
    "\n",
    "Make sure you have run all cells in your notebook in order before running the cell below, so that all images/graphs appear in the output. The cell below will generate a zip file for you to submit. **Please save before exporting!**"
   ]
  },
  {
   "cell_type": "code",
   "execution_count": null,
   "id": "46734b91",
   "metadata": {
    "deletable": false,
    "editable": false
   },
   "outputs": [],
   "source": [
    "# Save your notebook first, then run this cell to export your submission.\n",
    "grader.export(pdf=False)"
   ]
  },
  {
   "cell_type": "markdown",
   "id": "ed6ad444",
   "metadata": {},
   "source": [
    " "
   ]
  }
 ],
 "metadata": {
  "kernelspec": {
   "display_name": "Python 3 (ipykernel)",
   "language": "python",
   "name": "python3"
  },
  "language_info": {
   "codemirror_mode": {
    "name": "ipython",
    "version": 3
   },
   "file_extension": ".py",
   "mimetype": "text/x-python",
   "name": "python",
   "nbconvert_exporter": "python",
   "pygments_lexer": "ipython3",
   "version": "3.11.12"
  },
  "otter": {
   "OK_FORMAT": true,
   "tests": {
    "q1_1": {
     "name": "q1_1",
     "points": [
      0,
      0,
      3
     ],
     "suites": [
      {
       "cases": [
        {
         "code": ">>> isinstance(standardize(co2, 'Engine'), np.ndarray)\nTrue",
         "hidden": false,
         "locked": false
        },
        {
         "code": ">>> type(standardize(co2, 'Engine').item(0)) in set([float, np.float64])\nTrue",
         "hidden": false,
         "locked": false
        },
        {
         "code": ">>> def get_hash(num):\n...     \"\"\"Helper function for assessing correctness.\"\"\"\n...     return hashlib.md5(str(num).encode()).hexdigest()\n>>> get_hash(np.round(standardize(co2, 'Engine').item(0), 4)) == '6eb876585034f98e94657ca747d7d1cc'\nTrue",
         "hidden": false,
         "locked": false
        }
       ],
       "scored": true,
       "setup": "",
       "teardown": "",
       "type": "doctest"
      }
     ]
    },
    "q1_2": {
     "name": "q1_2",
     "points": [
      0,
      3
     ],
     "suites": [
      {
       "cases": [
        {
         "code": ">>> -1 <= correlation(co2, 'Engine', 'Emissions') <= 1\nTrue",
         "hidden": false,
         "locked": false
        },
        {
         "code": ">>> def get_hash(num):\n...     \"\"\"Helper function for assessing correctness.\"\"\"\n...     return hashlib.md5(str(num).encode()).hexdigest()\n>>> get_hash(np.round(correlation(co2, 'Engine', 'Emissions'), 4)) == '3a02549881dc0cb05bc1d7baf1685fff'\nTrue",
         "hidden": false,
         "locked": false
        }
       ],
       "scored": true,
       "setup": "",
       "teardown": "",
       "type": "doctest"
      }
     ]
    },
    "q1_3": {
     "name": "q1_3",
     "points": [
      0,
      0,
      3
     ],
     "suites": [
      {
       "cases": [
        {
         "code": ">>> -1 <= correlation(co2, 'Engine', 'Emissions') <= 1\nTrue",
         "hidden": false,
         "locked": false
        },
        {
         "code": ">>> np.all(numerical_column_names == make_array('Engine', 'Cylinders', 'Fuel (City)', 'Fuel (Hwy)'))\nTrue",
         "hidden": false,
         "locked": false
        },
        {
         "code": ">>> def get_hash(num):\n...     \"\"\"Helper function for assessing correctness.\"\"\"\n...     return hashlib.md5(str(num).encode()).hexdigest()\n>>> get_hash(np.round(current_r, 4)) == '99156cd6931a2455506ab6d5c31b62a9'\nTrue",
         "hidden": false,
         "locked": false
        }
       ],
       "scored": true,
       "setup": "",
       "teardown": "",
       "type": "doctest"
      }
     ]
    },
    "q1_4": {
     "name": "q1_4",
     "points": [
      0
     ],
     "suites": [
      {
       "cases": [
        {
         "code": ">>> type(highest_correlation) == int and 1 <= highest_correlation <= 4\nTrue",
         "hidden": false,
         "locked": false
        }
       ],
       "scored": true,
       "setup": "",
       "teardown": "",
       "type": "doctest"
      }
     ]
    },
    "q1_6": {
     "name": "q1_6",
     "points": [
      0,
      0,
      0,
      3
     ],
     "suites": [
      {
       "cases": [
        {
         "code": ">>> unique_cylinders_values.num_rows == 8\nTrue",
         "hidden": false,
         "locked": false
        },
        {
         "code": ">>> unique_cylinders_values.column(1).item(3)\n2446",
         "hidden": false,
         "locked": false
        },
        {
         "code": ">>> unique_cylinders_values.column(0).item(0)\n3",
         "hidden": false,
         "locked": false
        },
        {
         "code": ">>> def get_hash(num):\n...     \"\"\"Helper function for assessing correctness.\"\"\"\n...     return hashlib.md5(str(num).encode()).hexdigest()\n>>> get_hash(unique_cylinders_values.column(1).item(4)) == '28fc2782ea7ef51c1104ccf7b9bea13d'\nTrue",
         "hidden": false,
         "locked": false
        }
       ],
       "scored": true,
       "setup": "",
       "teardown": "",
       "type": "doctest"
      }
     ]
    },
    "q1_7": {
     "name": "q1_7",
     "points": [
      0,
      1.5,
      1.5
     ],
     "suites": [
      {
       "cases": [
        {
         "code": ">>> 'Cylinders_and_City' in co2_new.labels\nTrue",
         "hidden": false,
         "locked": false
        },
        {
         "code": ">>> co2_new.column('Cylinders_and_City').item(4)\n18.1",
         "hidden": false,
         "locked": false
        },
        {
         "code": ">>> def get_hash(num):\n...     \"\"\"Helper function for assessing correctness.\"\"\"\n...     return hashlib.md5(str(num).encode()).hexdigest()\n>>> get_hash(np.round(strong_correlation, 4)) == '79591d2930dca681c78d688dfc32af32'\nTrue",
         "hidden": false,
         "locked": false
        }
       ],
       "scored": true,
       "setup": "",
       "teardown": "",
       "type": "doctest"
      }
     ]
    },
    "q1_8": {
     "name": "q1_8",
     "points": [
      0
     ],
     "suites": [
      {
       "cases": [
        {
         "code": ">>> type(answer) == bool\nTrue",
         "hidden": false,
         "locked": false
        }
       ],
       "scored": true,
       "setup": "",
       "teardown": "",
       "type": "doctest"
      }
     ]
    },
    "q2_1": {
     "name": "q2_1",
     "points": [
      0,
      0,
      0,
      0,
      6
     ],
     "suites": [
      {
       "cases": [
        {
         "code": ">>> np.all(numerical_co2.labels == make_array('Engine', 'Cylinders', 'Fuel (City)', 'Fuel (Hwy)', 'Emissions'))\nTrue",
         "hidden": false,
         "locked": false
        },
        {
         "code": ">>> np.all(test_set.labels == make_array('Engine', 'Cylinders', 'Fuel (City)', 'Fuel (Hwy)', 'Emissions'))\nTrue",
         "hidden": false,
         "locked": false
        },
        {
         "code": ">>> np.all(test_set.labels == make_array('Engine', 'Cylinders', 'Fuel (City)', 'Fuel (Hwy)', 'Emissions'))\nTrue",
         "hidden": false,
         "locked": false
        },
        {
         "code": ">>> shuffled_tbl.num_rows == 7385\nTrue",
         "hidden": false,
         "locked": false
        },
        {
         "code": ">>> test_set.column('Fuel (Hwy)').item(0) == 10.1\nTrue",
         "hidden": false,
         "locked": false
        }
       ],
       "scored": true,
       "setup": "",
       "teardown": "",
       "type": "doctest"
      }
     ]
    },
    "q2_2": {
     "name": "q2_2",
     "points": [
      0,
      3
     ],
     "suites": [
      {
       "cases": [
        {
         "code": ">>> slopes = make_array(1, 2, 3)\n>>> attributes = make_array(4, 5, 6)\n>>> predict(slopes, attributes) == 32\nTrue",
         "hidden": false,
         "locked": false
        },
        {
         "code": ">>> slopes = make_array(0, 1, 2)\n>>> attributes = make_array(7, 8, 9)\n>>> predict(slopes, attributes) == 26\nTrue",
         "hidden": false,
         "locked": false
        }
       ],
       "scored": true,
       "setup": "",
       "teardown": "",
       "type": "doctest"
      }
     ]
    },
    "q2_3": {
     "name": "q2_3",
     "points": [
      0,
      10
     ],
     "suites": [
      {
       "cases": [
        {
         "code": ">>> type(rmse(fake_slopes, train_attributes, train_emissions)) in set([float, np.float64])\nTrue",
         "hidden": false,
         "locked": false
        },
        {
         "code": ">>> def get_hash(num):\n...     \"\"\"Helper function for assessing correctness.\"\"\"\n...     return hashlib.md5(str(num).encode()).hexdigest()\n>>> get_hash(np.round(rmse(fake_slopes, train_attributes, train_emissions), 4)) == '476915be7ef34cd4334ccaed88c212b2'\nTrue",
         "hidden": false,
         "locked": false
        }
       ],
       "scored": true,
       "setup": "",
       "teardown": "",
       "type": "doctest"
      }
     ]
    },
    "q2_4": {
     "name": "q2_4",
     "points": [
      0,
      5
     ],
     "suites": [
      {
       "cases": [
        {
         "code": ">>> type(train_fit(make_array(8, 8, 8, 8))) in set([float, np.float64])\nTrue",
         "hidden": false,
         "locked": false
        },
        {
         "code": ">>> def get_hash(num):\n...     \"\"\"Helper function for assessing correctness.\"\"\"\n...     return hashlib.md5(str(num).encode()).hexdigest()\n>>> get_hash(np.round(train_fit(make_array(8, 8, 8, 8)), 4)) == '2084462bf54dcd204bf26206428c01c4'\nTrue",
         "hidden": false,
         "locked": false
        }
       ],
       "scored": true,
       "setup": "",
       "teardown": "",
       "type": "doctest"
      }
     ]
    },
    "q2_5": {
     "name": "q2_5",
     "points": [
      1,
      1,
      2
     ],
     "suites": [
      {
       "cases": [
        {
         "code": ">>> np.isclose(train_fit(best_slopes), 22.753604146634835)\nTrue",
         "hidden": false,
         "locked": false
        },
        {
         "code": ">>> def get_hash(num):\n...     \"\"\"Helper function for assessing correctness.\"\"\"\n...     return hashlib.md5(str(num).encode()).hexdigest()\n>>> get_hash(np.round(best_slopes.item(0), 4)) == 'fcf6a9732c9e8eabb3f99b5d2de6c92e'\nTrue",
         "hidden": false,
         "locked": false
        },
        {
         "code": ">>> def get_hash(num):\n...     \"\"\"Helper function for assessing correctness.\"\"\"\n...     return hashlib.md5(str(num).encode()).hexdigest()\n>>> get_hash(np.round(best_slopes.item(1), 4)) == '69fca06fd6ab7330b32d310716051dba'\nTrue",
         "hidden": false,
         "locked": false
        }
       ],
       "scored": true,
       "setup": "",
       "teardown": "",
       "type": "doctest"
      }
     ]
    },
    "q2_6": {
     "name": "q2_6",
     "points": [
      0,
      3
     ],
     "suites": [
      {
       "cases": [
        {
         "code": ">>> type(test_rmse) in set([float, np.float64])\nTrue",
         "hidden": false,
         "locked": false
        },
        {
         "code": ">>> def get_hash(num):\n...     \"\"\"Helper function for assessing correctness.\"\"\"\n...     return hashlib.md5(str(num).encode()).hexdigest()\n>>> get_hash(np.round(test_rmse, 4)) == 'd45b282417ae86b295a7bfa3edaad8b1'\nTrue",
         "hidden": false,
         "locked": false
        }
       ],
       "scored": true,
       "setup": "",
       "teardown": "",
       "type": "doctest"
      }
     ]
    },
    "q3_1": {
     "name": "q3_1",
     "points": [
      0,
      2,
      3
     ],
     "suites": [
      {
       "cases": [
        {
         "code": ">>> ground_strokes.num_rows == 1000\nTrue",
         "hidden": false,
         "locked": false
        },
        {
         "code": ">>> np.all(ground_strokes.labels == make_array('hit_velocity', 'bounce_location_long', 'bounce_location'))\nTrue",
         "hidden": false,
         "locked": false
        },
        {
         "code": ">>> ground_strokes.column(1).item(4)\n'no_mans_land'",
         "hidden": false,
         "locked": false
        }
       ],
       "scored": true,
       "setup": "",
       "teardown": "",
       "type": "doctest"
      }
     ]
    },
    "q3_2": {
     "name": "q3_2",
     "points": [
      0,
      3
     ],
     "suites": [
      {
       "cases": [
        {
         "code": ">>> unqiue_bounce_locations.num_rows == 2\nTrue",
         "hidden": false,
         "locked": false
        },
        {
         "code": ">>> unqiue_bounce_locations.column('count').item(0) + unqiue_bounce_locations.column('count').item(1) == 1000\nTrue",
         "hidden": false,
         "locked": false
        }
       ],
       "scored": true,
       "setup": "",
       "teardown": "",
       "type": "doctest"
      }
     ]
    },
    "q4_1": {
     "name": "q4_1",
     "points": [
      0,
      6
     ],
     "suites": [
      {
       "cases": [
        {
         "code": ">>> shuffled_coords.num_rows == 996\nTrue",
         "hidden": false,
         "locked": false
        },
        {
         "code": ">>> def get_hash(num):\n...     \"\"\"Helper function for assessing correctness.\"\"\"\n...     return hashlib.md5(str(num).encode()).hexdigest()\n>>> get_hash(np.round(test_coords.column('hit_velocity_x').item(0), 4)) == '3ba81a508ad7c81fbe46780facf9d3a5'\nTrue",
         "hidden": false,
         "locked": false
        }
       ],
       "scored": true,
       "setup": "",
       "teardown": "",
       "type": "doctest"
      }
     ]
    },
    "q4_2": {
     "name": "q4_2",
     "points": [
      3
     ],
     "suites": [
      {
       "cases": [
        {
         "code": ">>> def get_hash(num):\n...     \"\"\"Helper function for assessing correctness.\"\"\"\n...     return hashlib.md5(str(num).encode()).hexdigest()\n>>> get_hash(np.round(distance(training_coords.row(0), training_coords.row(1)), 4)) == '9728b30cb5dca6c44fd8293f804a5fbe'\nTrue",
         "hidden": false,
         "locked": false
        }
       ],
       "scored": true,
       "setup": "",
       "teardown": "",
       "type": "doctest"
      }
     ]
    },
    "q4_3": {
     "name": "q4_3",
     "points": [
      0,
      10
     ],
     "suites": [
      {
       "cases": [
        {
         "code": ">>> type(predict_nn(test_coords.row(0), 3)) in set([float, np.float64])\nTrue",
         "hidden": false,
         "locked": false
        },
        {
         "code": ">>> def get_hash(num):\n...     \"\"\"Helper function for assessing correctness.\"\"\"\n...     return hashlib.md5(str(num).encode()).hexdigest()\n>>> get_hash(np.round(predict_nn(test_coords.row(0), 3), 4)) == 'cdcada915d0258f9b9e7b37252418a00'\nTrue",
         "hidden": false,
         "locked": false
        }
       ],
       "scored": true,
       "setup": "",
       "teardown": "",
       "type": "doctest"
      }
     ]
    },
    "q4_4": {
     "name": "q4_4",
     "points": [
      0,
      8
     ],
     "suites": [
      {
       "cases": [
        {
         "code": ">>> len(nn_predictions) == 200\nTrue",
         "hidden": false,
         "locked": false
        },
        {
         "code": ">>> def get_hash(num):\n...     \"\"\"Helper function for assessing correctness.\"\"\"\n...     return hashlib.md5(str(num).encode()).hexdigest()\n>>> get_hash(np.round(knn_regression_rmse, 4)) == '26e36142112bb6ff28252841573b1c0f'\nTrue",
         "hidden": false,
         "locked": false
        }
       ],
       "scored": true,
       "setup": "",
       "teardown": "",
       "type": "doctest"
      }
     ]
    },
    "q5_1": {
     "name": "q5_1",
     "points": [
      0,
      0
     ],
     "suites": [
      {
       "cases": [
        {
         "code": ">>> type(classify(test_coords.row(0), 7)) == str\nTrue",
         "hidden": false,
         "locked": false
        },
        {
         "code": ">>> classify(test_coords.row(0), 7)\n'no_mans_land'",
         "hidden": false,
         "locked": false
        }
       ],
       "scored": true,
       "setup": "",
       "teardown": "",
       "type": "doctest"
      }
     ]
    },
    "q5_2": {
     "name": "q5_2",
     "points": [
      0,
      0,
      0
     ],
     "suites": [
      {
       "cases": [
        {
         "code": ">>> type(accuracy(make_array(4, 3, 2), make_array(1, 2, 4))) in set([float, np.float64])\nTrue",
         "hidden": false,
         "locked": false
        },
        {
         "code": ">>> 0 <= accuracy(make_array(4, 3, 2), make_array(1, 3, 4)) <= 1\nTrue",
         "hidden": false,
         "locked": false
        },
        {
         "code": ">>> def get_hash(num):\n...     \"\"\"Helper function for assessing correctness.\"\"\"\n...     return hashlib.md5(str(num).encode()).hexdigest()\n>>> get_hash(np.round(accuracy(make_array(4, 3, 2), make_array(1, 3, 4)), 4)) == 'd80cd8a9bc59ca0c1f479e4eca3c64be'\nTrue",
         "hidden": false,
         "locked": false
        }
       ],
       "scored": true,
       "setup": "",
       "teardown": "",
       "type": "doctest"
      }
     ]
    },
    "q5_3": {
     "name": "q5_3",
     "points": [
      0,
      0
     ],
     "suites": [
      {
       "cases": [
        {
         "code": ">>> 0 <= accuracy(predictions, test_coords.column('bounce_location_long')) <= 1\nTrue",
         "hidden": false,
         "locked": false
        },
        {
         "code": ">>> def get_hash(num):\n...     \"\"\"Helper function for assessing correctness.\"\"\"\n...     return hashlib.md5(str(num).encode()).hexdigest()\n>>> get_hash(np.round(accuracy(predictions, test_coords.column('bounce_location_long')), 4)) == '57eeec0a6974ecb4e9fcf68fab052f7b'\nTrue",
         "hidden": false,
         "locked": false
        }
       ],
       "scored": true,
       "setup": "",
       "teardown": "",
       "type": "doctest"
      }
     ]
    }
   }
  }
 },
 "nbformat": 4,
 "nbformat_minor": 5
}
