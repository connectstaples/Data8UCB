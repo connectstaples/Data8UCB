{
 "cells": [
  {
   "cell_type": "code",
   "execution_count": 6,
   "id": "19c100fb",
   "metadata": {
    "deletable": false,
    "editable": false
   },
   "outputs": [],
   "source": [
    "# Initialize Otter\n",
    "import otter\n",
    "grader = otter.Notebook(\"lab04.ipynb\")"
   ]
  },
  {
   "cell_type": "markdown",
   "id": "4cd8a7f9",
   "metadata": {},
   "source": [
    "<img src=\"data8logo.png\" alt=\"Data 8 Logo\" style=\"width: 15%; float: right; padding: 1%; margin-right: 2%;\"/>\n",
    "\n",
    "# Lab 4: Functions and Visualizations\n",
    "\n",
    "Welcome to Lab 4! This week, we'll learn about functions, table methods such as `apply`, and how to generate visualizations! \n",
    "\n",
    "**Recommended Reading**:\n",
    "\n",
    "* [Applying a Function to a Column](https://inferentialthinking.com/chapters/08/1/Applying_a_Function_to_a_Column.html)\n",
    "* [Visualizations](https://inferentialthinking.com/chapters/07/Visualization.html)\n",
    "* [Python Reference](https://www.data8.org/fa24/reference/)\n",
    "\n",
    "**Lab Submission Deadline: Friday, February 14th at 5pm**"
   ]
  },
  {
   "attachments": {},
   "cell_type": "markdown",
   "id": "f20592a4",
   "metadata": {},
   "source": [
    "**Getting help on lab**: Whenever you feel stuck or need some further clarification, find a GSI or tutor, and they'll be happy to help!\n",
    "\n",
    "As a reminder, here are the policies for getting full credit:\n",
    "\n",
    "1. For students enrolled in in-person <span style=\"color: #BC412B\">**Regular Labs**</span>, you will receive 80% lab credit by **attending** lab discussion and 20% lab credit for passing all test cases and submitting it to Gradescope by **5pm on the Friday the same week it was released**.\n",
    "\n",
    "2. For students enrolled in <span style=\"color: #04888B\">**Self Service**</span>, you will receive full lab credit by **completing** the notebook, passing all test cases, and **submitting** it to Gradescope by **5pm on the Friday the same week it was released**.\n",
    "\n",
    "**Submission**: Once you’re finished, run all cells besides the last one, select File > Save Notebook, and then execute the final cell. The result will contain a zip file that you can use to submit on Gradescope.\n",
    "\n",
    "Let's begin by setting up the tests and imports by running the cell below."
   ]
  },
  {
   "cell_type": "markdown",
   "id": "0929eca8",
   "metadata": {},
   "source": [
    "First, set up the notebook by running the cell below."
   ]
  },
  {
   "cell_type": "code",
   "execution_count": 7,
   "id": "949cebe1",
   "metadata": {},
   "outputs": [],
   "source": [
    "import numpy as np\n",
    "from datascience import *\n",
    "\n",
    "# These lines set up graphing capabilities.\n",
    "import matplotlib\n",
    "%matplotlib inline\n",
    "import matplotlib.pyplot as plt\n",
    "plt.style.use('fivethirtyeight')\n",
    "import warnings\n",
    "warnings.simplefilter('ignore', FutureWarning)"
   ]
  },
  {
   "cell_type": "markdown",
   "id": "aa70d929",
   "metadata": {},
   "source": [
    "<hr style=\"border: 5px solid #003262;\" />\n",
    "<hr style=\"border: 1px solid #fdb515;\" />\n",
    "\n",
    "## 1. Defining functions\n",
    "\n",
    "Let's start off by writing a function that converts a proportion to a percentage by multiplying it by 100.  For example, the value of `to_percentage(.5)` should be the number 50 (no percent sign).\n",
    "\n",
    "A function definition has a few parts."
   ]
  },
  {
   "attachments": {},
   "cell_type": "markdown",
   "id": "10280da5",
   "metadata": {},
   "source": [
    "##### `def`\n",
    "We create a function with a `def` statement (short for **def**ine):\n",
    "\n",
    "<br>\n",
    "<pre style=\"margin-left: 40px; font-family: 'Courier New';\"><code><span style=\"font-weight: bold; color: green\">def</span></code>\n",
    "</pre>"
   ]
  },
  {
   "cell_type": "markdown",
   "id": "ee467af1",
   "metadata": {},
   "source": [
    "##### Name\n",
    "Next comes the name of the function.  Like other names we've defined, it can't start with a number or contain spaces. Let's call our function `to_percentage`:\n",
    "    \n",
    "<br>\n",
    "<pre style=\"margin-left: 40px; font-family: 'Courier New';\"><code><span style=\"font-weight: bold; color: green\">def</span> <span style=\"color: blue\">to_percentage</span></code>\n",
    "</pre>"
   ]
  },
  {
   "attachments": {},
   "cell_type": "markdown",
   "id": "5bc51c1c",
   "metadata": {},
   "source": [
    "##### Signature\n",
    "Next comes the ___signature___ of the function.  This tells Python the number of **arguments** in the function and the names of those arguments. An argument is a value that is _passed into_ the function when it is used/called. A function can have any number of arguments (including 0!). \n",
    "\n",
    "`to_percentage` should take one argument, and we'll call that argument `proportion` since it should be a proportion.\n",
    "\n",
    "<br>\n",
    "<pre style=\"margin-left: 40px; font-family: 'Courier New';\"><code><span style=\"font-weight: bold; color: green\">def</span> <span style=\"color: blue\">to_percentage</span>(proportion)</code>\n",
    "</pre>\n",
    "    \n",
    "If we want our function to take more than one argument, we add a comma between each argument name i.e to_percentage(proportion, decimals). Note that if we had zero arguments, we'd still place the parentheses () after that name. \n",
    "\n",
    "We put a **colon** after the signature to tell Python that the next indented lines are the body of the function. Make sure you remember the colon!\n",
    "\n",
    "<br>\n",
    "<pre style=\"margin-left: 40px; font-family: 'Courier New';\"><code><span style=\"font-weight: bold; color: green\">def</span> <span style=\"color: blue\">to_percentage</span>(proportion):</code>\n",
    "</pre>"
   ]
  },
  {
   "cell_type": "markdown",
   "id": "ef8f765a",
   "metadata": {},
   "source": [
    "##### Documentation\n",
    "Functions can do complicated things, so you should write an explanation of what your function does.  For small functions, this is less important, but it's a good habit to learn from the start (although documentation isn't strictly required).  Conventionally, Python functions are documented by writing an **indented** triple-quoted string:\n",
    "\n",
    "<br>\n",
    "<pre style=\"margin-left: 40px; font-family: 'Courier New';\"><code><span style=\"font-weight: bold; color: green\">def</span> <span style=\"color: blue\">to_percentage</span>(proportion):<br><span style=\"padding-left: 40px\"><span style=\"color: red\">\"\"\"Converts a proportion to a percentage.\"\"\"</span></span></code>\n",
    "</pre>"
   ]
  },
  {
   "cell_type": "markdown",
   "id": "f4ccbef7",
   "metadata": {},
   "source": [
    "##### Body\n",
    "Now we start writing code that runs when the function is called.  This is called the *body* of the function and every line **must be indented with a tab**.  Any lines that are *not* indented and left-aligned with the def statement are considered outside the function. \n",
    "\n",
    "Some notes about the body of the function:\n",
    "- We can write code that we would write anywhere else.  \n",
    "- We use the arguments defined in the function signature. We can do this because values are assigned to those arguments when we call the function.\n",
    "- We generally avoid referencing variables defined *outside* the function. If you would like to reference variables outside of the function, pass them through as arguments!\n",
    "\n",
    "\n",
    "Now, let's give a name to the number we multiply a proportion by to get a percentage:\n",
    "\n",
    "<br>\n",
    "<pre style=\"margin-left: 40px; font-family: 'Courier New';\"><code><span style=\"font-weight: bold; color: green\">def</span> <span style=\"color: blue\">to_percentage</span>(proportion):<br><span style=\"padding-left: 40px\"><span style=\"color: red\">\"\"\"Converts a proportion to a percentage.\"\"\"</span></span>\n",
    "<span style=\"padding-left: 40px\">factor <span style=\"color: purple\">=</span> <span style=\"color: green\">100</span></span></code>\n",
    "</pre>"
   ]
  },
  {
   "cell_type": "markdown",
   "id": "d4e921a8",
   "metadata": {},
   "source": [
    "##### `return`\n",
    "The special instruction `return` is part of the function's body and tells Python to make the value of the function call equal to whatever comes right after `return`.  We want the value of `to_percentage(.5)` to be the proportion .5 times the factor 100, so we write:\n",
    "\n",
    "<br>\n",
    "<pre style=\"margin-left: 40px; font-family: 'Courier New';\"><code><span style=\"font-weight: bold; color: green\">def</span> <span style=\"color: blue\">to_percentage</span>(proportion):<br><span style=\"padding-left: 40px\"><span style=\"color: red\">\"\"\"Converts a proportion to a percentage.\"\"\"</span></span>\n",
    "<span style=\"padding-left: 40px\">factor <span style=\"color: purple\">=</span> <span style=\"color: green\">100</span></span>\n",
    "<span style=\"padding-left: 40px\"><span style=\"font-weight: bold; color: green\">return</span> proportion <span style=\"color: purple\">*</span> factor</span>\n",
    "</code>\n",
    "</pre>\n",
    "        \n",
    "`return` only makes sense in the context of a function, and **can never be used outside of a function**. `return` is always the last line of the function because Python stops executing the body of a function once it hits a `return` statement. Make sure to include a return statement unless you don't expect the function to return anything. \n",
    "\n",
    "*Note:*  `return` inside a function tells Python what value the function evaluates to. However, there are other functions, like `print`, that have no `return` value. For example, `print` simply prints a certain value out to the console. \n",
    "\n",
    "In short, `return` is used when you want to tell the *computer* what the value of some variable is, while `print` is used to tell you, a *human*, its value."
   ]
  },
  {
   "cell_type": "markdown",
   "id": "02f1cf91",
   "metadata": {
    "deletable": false,
    "editable": false
   },
   "source": [
    "---\n",
    "\n",
    "**Question 1.1.** Define `to_percentage` in the cell below.  Call your function to convert the proportion .2 to a percentage.  Name that percentage `twenty_percent`.\n"
   ]
  },
  {
   "cell_type": "code",
   "execution_count": 18,
   "id": "2ccf23a1",
   "metadata": {
    "tags": []
   },
   "outputs": [
    {
     "data": {
      "text/plain": [
       "20.0"
      ]
     },
     "execution_count": 18,
     "metadata": {},
     "output_type": "execute_result"
    }
   ],
   "source": [
    "def to_percentage(proportion):\n",
    "    ''' no thanks '''\n",
    "    factor = 100\n",
    "    return proportion * factor\n",
    "twenty_percent = to_percentage(.2)\n",
    "twenty_percent"
   ]
  },
  {
   "cell_type": "code",
   "execution_count": 19,
   "id": "8fa3af7b",
   "metadata": {
    "deletable": false,
    "editable": false
   },
   "outputs": [
    {
     "data": {
      "text/html": [
       "<p><strong><pre style='display: inline;'>q11</pre></strong> passed! 🎉</p>"
      ],
      "text/plain": [
       "q11 results: All test cases passed!"
      ]
     },
     "execution_count": 19,
     "metadata": {},
     "output_type": "execute_result"
    }
   ],
   "source": [
    "grader.check(\"q11\")"
   ]
  },
  {
   "cell_type": "markdown",
   "id": "b799269a",
   "metadata": {},
   "source": [
    "Here's something important about functions: **the names assigned *within* a function body are only accessible within the function body**. Once the function has returned, those names are gone.  So even if you created a variable called `factor` and defined `factor = 100` inside of the body of the `to_percentage` function and then called `to_percentage`, `factor` would not have a value assigned to it outside of the body of `to_percentage`:\n",
    "\n",
    "**Note**: Below, you should see a `NameError` error message indicating that the `name 'factor' is not defined`. Python  throws this error because `factor` has not been defined outside of the body of the `to_percentage` function."
   ]
  },
  {
   "cell_type": "code",
   "execution_count": null,
   "id": "e502d5b9",
   "metadata": {
    "deletable": false,
    "tags": [
     "raises-exception"
    ]
   },
   "outputs": [],
   "source": [
    "# You should get an error when you run this.  (If you don't, \n",
    "# you might have defined factor somewhere above.)\n",
    "factor"
   ]
  },
  {
   "cell_type": "markdown",
   "id": "cf2ebb63",
   "metadata": {
    "deletable": false,
    "editable": false
   },
   "source": [
    "Like you’ve done with built-in functions in previous labs (max, abs, etc.), you can pass in named values as arguments to your function.\n",
    "\n",
    "---\n",
    "\n",
    "**Question 1.2.** Use `to_percentage` again to convert the proportion named `a_proportion` (defined below) to a percentage called `a_percentage`.\n",
    "\n",
    "*Note:* You don't need to define `to_percentage` again!  Like other named values, functions stick around after you define them.\n"
   ]
  },
  {
   "cell_type": "code",
   "execution_count": 20,
   "id": "c890b858",
   "metadata": {
    "tags": []
   },
   "outputs": [
    {
     "data": {
      "text/plain": [
       "70.71067811865476"
      ]
     },
     "execution_count": 20,
     "metadata": {},
     "output_type": "execute_result"
    }
   ],
   "source": [
    "a_proportion = 2**(0.5) / 2\n",
    "a_percentage = to_percentage(a_proportion)\n",
    "a_percentage"
   ]
  },
  {
   "cell_type": "code",
   "execution_count": 21,
   "id": "9c844db3",
   "metadata": {
    "deletable": false,
    "editable": false
   },
   "outputs": [
    {
     "data": {
      "text/html": [
       "<p><strong><pre style='display: inline;'>q12</pre></strong> passed! 🙌</p>"
      ],
      "text/plain": [
       "q12 results: All test cases passed!"
      ]
     },
     "execution_count": 21,
     "metadata": {},
     "output_type": "execute_result"
    }
   ],
   "source": [
    "grader.check(\"q12\")"
   ]
  },
  {
   "cell_type": "markdown",
   "id": "5da2b422",
   "metadata": {},
   "source": [
    "In the following cell, we will define a function called `disemvowel`.  It takes in a single string as its argument. It returns a copy of that string, but with all the characters that are vowels removed.  (In English, the vowels are the characters \"a\", \"e\", \"i\", \"o\", and \"u\".) \n",
    "\n",
    "To remove all the \"a\"s from a string, we used `a_string.replace(\"a\", \"\")`.  The `.replace` method for strings returns a new string, so we can call `replace` multiple times, one after the other. "
   ]
  },
  {
   "cell_type": "code",
   "execution_count": 22,
   "id": "1819abdb",
   "metadata": {},
   "outputs": [
    {
     "data": {
      "text/plain": [
       "'Cn y rd ths wtht vwls?'"
      ]
     },
     "execution_count": 22,
     "metadata": {},
     "output_type": "execute_result"
    }
   ],
   "source": [
    "def disemvowel(a_string):\n",
    "    \"\"\" I guess it removes all vowels from a string.\"\"\"\n",
    "    return a_string.replace(\"a\", \"\").replace(\"e\", \"\").replace(\"i\", \"\").replace(\"o\", \"\").replace(\"u\", \"\")\n",
    "\n",
    "# An example call to the function.  (It's often helpful to run\n",
    "# an example call from time to time while we're writing a function,\n",
    "# to see how it currently works.)\n",
    "disemvowel(\"Can you read this without vowels?\")"
   ]
  },
  {
   "cell_type": "markdown",
   "id": "7014a30d",
   "metadata": {
    "deletable": false,
    "editable": false
   },
   "source": [
    "##### Calls on calls on calls\n",
    "Just as you write a series of lines to build up a complex computation, it's useful to define a series of small functions that build on each other.  Since you can write any code inside a function's body, you can call other functions you've written.\n",
    "\n",
    "If a function is like a recipe, defining a function in terms of other functions is like having a recipe for cake telling you to follow another recipe to make the frosting, and another to make the jam filling.  This makes the cake recipe shorter and clearer, and it avoids having a bunch of duplicated frosting recipes.  It's a foundation of productive programming.\n",
    "\n",
    "For example, suppose you want to count the number of characters *that aren't vowels* in a piece of text.  One way to do this is to remove all the vowels and count the size of the remaining string.\n",
    "\n",
    "---\n",
    "\n",
    "**Question 1.3.** Write a function called `num_non_vowels`.  It should take a string as its argument and return a number.  That number should be the number of characters in the argument string that aren't vowels. You should use the `disemvowel` function we provided above inside of the `num_non_vowels` function.\n",
    "\n",
    "*Hint:* The function `len` takes a string as its argument and returns the number of characters in it.\n"
   ]
  },
  {
   "cell_type": "code",
   "execution_count": 23,
   "id": "5c12bdd0",
   "metadata": {
    "tags": []
   },
   "outputs": [],
   "source": [
    "def num_non_vowels(a_string):\n",
    "    \"\"\"The number of characters in a string, minus the vowels.\"\"\"\n",
    "    return len(disemvowel(a_string))\n",
    "\n",
    "# Try calling your function yourself to make sure the output is what\n",
    "# you expect. "
   ]
  },
  {
   "cell_type": "code",
   "execution_count": 29,
   "id": "2506dd60",
   "metadata": {
    "deletable": false,
    "editable": false
   },
   "outputs": [
    {
     "data": {
      "text/html": [
       "<p><strong><pre style='display: inline;'>q13</pre></strong> passed! ✨</p>"
      ],
      "text/plain": [
       "q13 results: All test cases passed!"
      ]
     },
     "execution_count": 29,
     "metadata": {},
     "output_type": "execute_result"
    }
   ],
   "source": [
    "grader.check(\"q13\")"
   ]
  },
  {
   "cell_type": "markdown",
   "id": "876c722e",
   "metadata": {},
   "source": [
    "Functions can also encapsulate code that *displays output* instead of computing a value. For example, if you call `print` inside a function, and then call that function, something will get printed.\n",
    "\n",
    "The `movies_by_year` dataset in the textbook has information about movie sales in recent years.  Suppose you'd like to display the year with the 5th-highest total gross movie sales, printed within a sentence.  You might do this:"
   ]
  },
  {
   "cell_type": "code",
   "execution_count": 30,
   "id": "e51572fd",
   "metadata": {},
   "outputs": [
    {
     "name": "stdout",
     "output_type": "stream",
     "text": [
      "Year number 5 for total gross movie sales was: 2010\n"
     ]
    }
   ],
   "source": [
    "movies_by_year = Table.read_table(\"movies_by_year.csv\")\n",
    "rank = 5\n",
    "fifth_from_top_movie_year = movies_by_year.sort(\"Total Gross\", descending=True).column(\"Year\").item(rank-1)\n",
    "print(\"Year number\", rank, \"for total gross movie sales was:\", fifth_from_top_movie_year)"
   ]
  },
  {
   "cell_type": "markdown",
   "id": "4967fb54",
   "metadata": {
    "deletable": false,
    "editable": false
   },
   "source": [
    "After writing this, you realize you also wanted to print out the 2nd and 3rd-highest years.  Instead of copying your code, you decide to put it in a function.  Since the rank varies, you make that an argument to your function.\n",
    "\n",
    "---\n",
    "\n",
    "**Question 1.4.** Write a function called `print_kth_top_movie_year`.  It should take a single argument, the rank of the year (like 2, 3, or 5 in the above examples) and should use the table `movies_by_year`. It should print out a message like the one above.  \n",
    "\n",
    "*Note:* Your function shouldn't have a `return` statement.\n"
   ]
  },
  {
   "cell_type": "code",
   "execution_count": 33,
   "id": "03ac2e05",
   "metadata": {
    "tags": []
   },
   "outputs": [
    {
     "name": "stdout",
     "output_type": "stream",
     "text": [
      "Year number 2 for total gross movie sales was: 2013\n",
      "Year number 3 for total gross movie sales was: 2012\n"
     ]
    }
   ],
   "source": [
    "def print_kth_top_movie_year(k):\n",
    "    fifth_from_top_movie_year = movies_by_year.sort(\"Total Gross\", descending=True).column(\"Year\").item(k-1)\n",
    "    print(\"Year number\", k, \"for total gross movie sales was:\", fifth_from_top_movie_year)\n",
    "\n",
    "\n",
    "# Example calls to your function:\n",
    "print_kth_top_movie_year(2)\n",
    "print_kth_top_movie_year(3)"
   ]
  },
  {
   "cell_type": "code",
   "execution_count": 34,
   "id": "fe3ecbfd",
   "metadata": {
    "deletable": false,
    "editable": false
   },
   "outputs": [
    {
     "data": {
      "text/html": [
       "<p><strong><pre style='display: inline;'>q14</pre></strong> passed! 🌟</p>"
      ],
      "text/plain": [
       "q14 results: All test cases passed!"
      ]
     },
     "execution_count": 34,
     "metadata": {},
     "output_type": "execute_result"
    }
   ],
   "source": [
    "grader.check(\"q14\")"
   ]
  },
  {
   "cell_type": "markdown",
   "id": "8104d65d",
   "metadata": {},
   "source": [
    "### `print` is not the same as `return`\n",
    "The `print_kth_top_movie_year(k)` function prints the total gross movie sales for the year that was provided! However, since we did not return any value in this function, we can not use it after we call it. Let's look at an example of another function that prints a value but does not return it."
   ]
  },
  {
   "cell_type": "code",
   "execution_count": 35,
   "id": "2e948e76",
   "metadata": {},
   "outputs": [],
   "source": [
    "def print_number_five():\n",
    "    print(5)"
   ]
  },
  {
   "cell_type": "code",
   "execution_count": 36,
   "id": "09f9c747",
   "metadata": {},
   "outputs": [
    {
     "name": "stdout",
     "output_type": "stream",
     "text": [
      "5\n"
     ]
    }
   ],
   "source": [
    "print_number_five()"
   ]
  },
  {
   "cell_type": "markdown",
   "id": "783304ec",
   "metadata": {},
   "source": [
    "However, if we try to use the output of `print_number_five()`, we see that the value `5` is printed but we get a TypeError when we try to add the number 2 to it!"
   ]
  },
  {
   "cell_type": "code",
   "execution_count": 37,
   "id": "c2f5cf4c",
   "metadata": {
    "tags": [
     "raises-exception"
    ]
   },
   "outputs": [
    {
     "name": "stdout",
     "output_type": "stream",
     "text": [
      "5\n"
     ]
    },
    {
     "ename": "TypeError",
     "evalue": "unsupported operand type(s) for +: 'NoneType' and 'int'",
     "output_type": "error",
     "traceback": [
      "\u001b[0;31m---------------------------------------------------------------------------\u001b[0m",
      "\u001b[0;31mTypeError\u001b[0m                                 Traceback (most recent call last)",
      "Cell \u001b[0;32mIn[37], line 2\u001b[0m\n\u001b[1;32m      1\u001b[0m print_number_five_output \u001b[38;5;241m=\u001b[39m print_number_five()\n\u001b[0;32m----> 2\u001b[0m \u001b[43mprint_number_five_output\u001b[49m\u001b[43m \u001b[49m\u001b[38;5;241;43m+\u001b[39;49m\u001b[43m \u001b[49m\u001b[38;5;241;43m2\u001b[39;49m\n",
      "\u001b[0;31mTypeError\u001b[0m: unsupported operand type(s) for +: 'NoneType' and 'int'"
     ]
    }
   ],
   "source": [
    "print_number_five_output = print_number_five()\n",
    "print_number_five_output + 2"
   ]
  },
  {
   "cell_type": "markdown",
   "id": "2d33c43b",
   "metadata": {},
   "source": [
    "It may seem that `print_number_five()` is returning a value, 5. In reality, it just displays the number 5 to you without giving you the actual value! If your function prints out a value **without returning it** and you try to use that value, you will run into errors, so be careful!\n",
    "\n",
    "Think about how you might add a line of code to the `print_number_five` function (after `print(5)`) so that the code `print_number_five_output + 5` would result in the value `10`, rather than an error."
   ]
  },
  {
   "cell_type": "markdown",
   "id": "1a9a2028",
   "metadata": {},
   "source": [
    "<hr style=\"border: 5px solid #003262;\" />\n",
    "<hr style=\"border: 1px solid #fdb515;\" />\n",
    "\n",
    "## 2. Functions and CEO Incomes\n",
    "\n",
    "In this question, we'll look at the 2015 compensation of CEOs at the 100 largest companies in California. The data was compiled from a [Los Angeles Times analysis](http://spreadsheets.latimes.com/california-ceo-compensation/), and ultimately came from [filings](https://www.sec.gov/answers/proxyhtf.htm) mandated by the SEC from all publicly-traded companies. Two companies have two CEOs, so there are 102 CEOs in the dataset.\n",
    "\n",
    "We've copied the raw data from the LA Times page into a file called `raw_compensation.csv`. (The page notes that all dollar amounts are in **millions of dollars**.)"
   ]
  },
  {
   "cell_type": "code",
   "execution_count": 38,
   "id": "427df3e0",
   "metadata": {},
   "outputs": [
    {
     "data": {
      "text/html": [
       "<table border=\"1\" class=\"dataframe\">\n",
       "    <thead>\n",
       "        <tr>\n",
       "            <th>Rank</th> <th>Name</th> <th>Company (Headquarters)</th> <th>Total Pay</th> <th>% Change</th> <th>Cash Pay</th> <th>Equity Pay</th> <th>Other Pay</th> <th>Ratio of CEO pay to average industry worker pay</th>\n",
       "        </tr>\n",
       "    </thead>\n",
       "    <tbody>\n",
       "        <tr>\n",
       "            <td>1   </td> <td>Mark V. Hurd*     </td> <td>Oracle (Redwood City)         </td> <td>$53.25   </td> <td>(No previous year)</td> <td>$0.95   </td> <td>$52.27    </td> <td>$0.02    </td> <td>362                                            </td>\n",
       "        </tr>\n",
       "        <tr>\n",
       "            <td>2   </td> <td>Safra A. Catz*    </td> <td>Oracle (Redwood City)         </td> <td>$53.24   </td> <td>(No previous year)</td> <td>$0.95   </td> <td>$52.27    </td> <td>$0.02    </td> <td>362                                            </td>\n",
       "        </tr>\n",
       "        <tr>\n",
       "            <td>3   </td> <td>Robert A. Iger    </td> <td>Walt Disney (Burbank)         </td> <td>$44.91   </td> <td>-3%               </td> <td>$24.89  </td> <td>$17.28    </td> <td>$2.74    </td> <td>477                                            </td>\n",
       "        </tr>\n",
       "        <tr>\n",
       "            <td>4   </td> <td>Marissa A. Mayer  </td> <td>Yahoo! (Sunnyvale)            </td> <td>$35.98   </td> <td>-15%              </td> <td>$1.00   </td> <td>$34.43    </td> <td>$0.55    </td> <td>342                                            </td>\n",
       "        </tr>\n",
       "        <tr>\n",
       "            <td>5   </td> <td>Marc Benioff      </td> <td>salesforce.com (San Francisco)</td> <td>$33.36   </td> <td>-16%              </td> <td>$4.65   </td> <td>$27.26    </td> <td>$1.45    </td> <td>338                                            </td>\n",
       "        </tr>\n",
       "        <tr>\n",
       "            <td>6   </td> <td>John H. Hammergren</td> <td>McKesson (San Francisco)      </td> <td>$24.84   </td> <td>-4%               </td> <td>$12.10  </td> <td>$12.37    </td> <td>$0.37    </td> <td>222                                            </td>\n",
       "        </tr>\n",
       "        <tr>\n",
       "            <td>7   </td> <td>John S. Watson    </td> <td>Chevron (San Ramon)           </td> <td>$22.04   </td> <td>-15%              </td> <td>$4.31   </td> <td>$14.68    </td> <td>$3.05    </td> <td>183                                            </td>\n",
       "        </tr>\n",
       "        <tr>\n",
       "            <td>8   </td> <td>Jeffrey Weiner    </td> <td>LinkedIn (Mountain View)      </td> <td>$19.86   </td> <td>27%               </td> <td>$2.47   </td> <td>$17.26    </td> <td>$0.13    </td> <td>182                                            </td>\n",
       "        </tr>\n",
       "        <tr>\n",
       "            <td>9   </td> <td>John T. Chambers**</td> <td>Cisco Systems (San Jose)      </td> <td>$19.62   </td> <td>19%               </td> <td>$5.10   </td> <td>$14.51    </td> <td>$0.01    </td> <td>170                                            </td>\n",
       "        </tr>\n",
       "        <tr>\n",
       "            <td>10  </td> <td>John G. Stumpf    </td> <td>Wells Fargo  (San Francisco)  </td> <td>$19.32   </td> <td>-10%              </td> <td>$6.80   </td> <td>$12.50    </td> <td>$0.02    </td> <td>256                                            </td>\n",
       "        </tr>\n",
       "    </tbody>\n",
       "</table>\n",
       "<p>... (91 rows omitted)</p>"
      ],
      "text/plain": [
       "Rank | Name               | Company (Headquarters)         | Total Pay | % Change           | Cash Pay | Equity Pay | Other Pay | Ratio of CEO pay to average industry worker pay\n",
       "1    | Mark V. Hurd*      | Oracle (Redwood City)          | $53.25    | (No previous year) | $0.95    | $52.27     | $0.02     | 362\n",
       "2    | Safra A. Catz*     | Oracle (Redwood City)          | $53.24    | (No previous year) | $0.95    | $52.27     | $0.02     | 362\n",
       "3    | Robert A. Iger     | Walt Disney (Burbank)          | $44.91    | -3%                | $24.89   | $17.28     | $2.74     | 477\n",
       "4    | Marissa A. Mayer   | Yahoo! (Sunnyvale)             | $35.98    | -15%               | $1.00    | $34.43     | $0.55     | 342\n",
       "5    | Marc Benioff       | salesforce.com (San Francisco) | $33.36    | -16%               | $4.65    | $27.26     | $1.45     | 338\n",
       "6    | John H. Hammergren | McKesson (San Francisco)       | $24.84    | -4%                | $12.10   | $12.37     | $0.37     | 222\n",
       "7    | John S. Watson     | Chevron (San Ramon)            | $22.04    | -15%               | $4.31    | $14.68     | $3.05     | 183\n",
       "8    | Jeffrey Weiner     | LinkedIn (Mountain View)       | $19.86    | 27%                | $2.47    | $17.26     | $0.13     | 182\n",
       "9    | John T. Chambers** | Cisco Systems (San Jose)       | $19.62    | 19%                | $5.10    | $14.51     | $0.01     | 170\n",
       "10   | John G. Stumpf     | Wells Fargo  (San Francisco)   | $19.32    | -10%               | $6.80    | $12.50     | $0.02     | 256\n",
       "... (91 rows omitted)"
      ]
     },
     "execution_count": 38,
     "metadata": {},
     "output_type": "execute_result"
    }
   ],
   "source": [
    "raw_compensation = Table.read_table('raw_compensation.csv')\n",
    "raw_compensation"
   ]
  },
  {
   "cell_type": "markdown",
   "id": "f066a64a",
   "metadata": {},
   "source": [
    "We want to compute the average of the CEOs' pay. Try running the cell below."
   ]
  },
  {
   "cell_type": "code",
   "execution_count": 39,
   "id": "1757edc0",
   "metadata": {
    "tags": [
     "raises-exception"
    ]
   },
   "outputs": [
    {
     "ename": "UFuncTypeError",
     "evalue": "ufunc 'add' did not contain a loop with signature matching types (dtype('<U7'), dtype('<U7')) -> None",
     "output_type": "error",
     "traceback": [
      "\u001b[0;31m---------------------------------------------------------------------------\u001b[0m",
      "\u001b[0;31mUFuncTypeError\u001b[0m                            Traceback (most recent call last)",
      "Cell \u001b[0;32mIn[39], line 1\u001b[0m\n\u001b[0;32m----> 1\u001b[0m \u001b[43mnp\u001b[49m\u001b[38;5;241;43m.\u001b[39;49m\u001b[43maverage\u001b[49m\u001b[43m(\u001b[49m\u001b[43mraw_compensation\u001b[49m\u001b[38;5;241;43m.\u001b[39;49m\u001b[43mcolumn\u001b[49m\u001b[43m(\u001b[49m\u001b[38;5;124;43m\"\u001b[39;49m\u001b[38;5;124;43mTotal Pay\u001b[39;49m\u001b[38;5;124;43m\"\u001b[39;49m\u001b[43m)\u001b[49m\u001b[43m)\u001b[49m\n",
      "File \u001b[0;32m/srv/conda/envs/notebook/lib/python3.11/site-packages/numpy/lib/function_base.py:520\u001b[0m, in \u001b[0;36maverage\u001b[0;34m(a, axis, weights, returned, keepdims)\u001b[0m\n\u001b[1;32m    517\u001b[0m     keepdims_kw \u001b[38;5;241m=\u001b[39m {\u001b[38;5;124m'\u001b[39m\u001b[38;5;124mkeepdims\u001b[39m\u001b[38;5;124m'\u001b[39m: keepdims}\n\u001b[1;32m    519\u001b[0m \u001b[38;5;28;01mif\u001b[39;00m weights \u001b[38;5;129;01mis\u001b[39;00m \u001b[38;5;28;01mNone\u001b[39;00m:\n\u001b[0;32m--> 520\u001b[0m     avg \u001b[38;5;241m=\u001b[39m \u001b[43ma\u001b[49m\u001b[38;5;241;43m.\u001b[39;49m\u001b[43mmean\u001b[49m\u001b[43m(\u001b[49m\u001b[43maxis\u001b[49m\u001b[43m,\u001b[49m\u001b[43m \u001b[49m\u001b[38;5;241;43m*\u001b[39;49m\u001b[38;5;241;43m*\u001b[39;49m\u001b[43mkeepdims_kw\u001b[49m\u001b[43m)\u001b[49m\n\u001b[1;32m    521\u001b[0m     avg_as_array \u001b[38;5;241m=\u001b[39m np\u001b[38;5;241m.\u001b[39masanyarray(avg)\n\u001b[1;32m    522\u001b[0m     scl \u001b[38;5;241m=\u001b[39m avg_as_array\u001b[38;5;241m.\u001b[39mdtype\u001b[38;5;241m.\u001b[39mtype(a\u001b[38;5;241m.\u001b[39msize\u001b[38;5;241m/\u001b[39mavg_as_array\u001b[38;5;241m.\u001b[39msize)\n",
      "File \u001b[0;32m/srv/conda/envs/notebook/lib/python3.11/site-packages/numpy/core/_methods.py:118\u001b[0m, in \u001b[0;36m_mean\u001b[0;34m(a, axis, dtype, out, keepdims, where)\u001b[0m\n\u001b[1;32m    115\u001b[0m         dtype \u001b[38;5;241m=\u001b[39m mu\u001b[38;5;241m.\u001b[39mdtype(\u001b[38;5;124m'\u001b[39m\u001b[38;5;124mf4\u001b[39m\u001b[38;5;124m'\u001b[39m)\n\u001b[1;32m    116\u001b[0m         is_float16_result \u001b[38;5;241m=\u001b[39m \u001b[38;5;28;01mTrue\u001b[39;00m\n\u001b[0;32m--> 118\u001b[0m ret \u001b[38;5;241m=\u001b[39m \u001b[43mumr_sum\u001b[49m\u001b[43m(\u001b[49m\u001b[43marr\u001b[49m\u001b[43m,\u001b[49m\u001b[43m \u001b[49m\u001b[43maxis\u001b[49m\u001b[43m,\u001b[49m\u001b[43m \u001b[49m\u001b[43mdtype\u001b[49m\u001b[43m,\u001b[49m\u001b[43m \u001b[49m\u001b[43mout\u001b[49m\u001b[43m,\u001b[49m\u001b[43m \u001b[49m\u001b[43mkeepdims\u001b[49m\u001b[43m,\u001b[49m\u001b[43m \u001b[49m\u001b[43mwhere\u001b[49m\u001b[38;5;241;43m=\u001b[39;49m\u001b[43mwhere\u001b[49m\u001b[43m)\u001b[49m\n\u001b[1;32m    119\u001b[0m \u001b[38;5;28;01mif\u001b[39;00m \u001b[38;5;28misinstance\u001b[39m(ret, mu\u001b[38;5;241m.\u001b[39mndarray):\n\u001b[1;32m    120\u001b[0m     \u001b[38;5;28;01mwith\u001b[39;00m _no_nep50_warning():\n",
      "\u001b[0;31mUFuncTypeError\u001b[0m: ufunc 'add' did not contain a loop with signature matching types (dtype('<U7'), dtype('<U7')) -> None"
     ]
    }
   ],
   "source": [
    "np.average(raw_compensation.column(\"Total Pay\"))"
   ]
  },
  {
   "cell_type": "markdown",
   "id": "b7992257",
   "metadata": {},
   "source": [
    "You should see a `TypeError`. Let's examine why this error occurred by looking at the values in the `Total Pay` column. To do so, we can use the `type` function. This function tells us the data type of the object that we pass into it. Run the following cells to see what happens when we pass in `23`, `3.5`, and `\"Hello\"` to the `type` function. Do their outputs make sense?"
   ]
  },
  {
   "cell_type": "code",
   "execution_count": 40,
   "id": "763ae8cf",
   "metadata": {},
   "outputs": [
    {
     "data": {
      "text/plain": [
       "int"
      ]
     },
     "execution_count": 40,
     "metadata": {},
     "output_type": "execute_result"
    }
   ],
   "source": [
    "type(23)"
   ]
  },
  {
   "cell_type": "code",
   "execution_count": 41,
   "id": "d8e9c190",
   "metadata": {},
   "outputs": [
    {
     "data": {
      "text/plain": [
       "float"
      ]
     },
     "execution_count": 41,
     "metadata": {},
     "output_type": "execute_result"
    }
   ],
   "source": [
    "type(3.5)"
   ]
  },
  {
   "cell_type": "code",
   "execution_count": 42,
   "id": "cc0f119a",
   "metadata": {},
   "outputs": [
    {
     "data": {
      "text/plain": [
       "str"
      ]
     },
     "execution_count": 42,
     "metadata": {},
     "output_type": "execute_result"
    }
   ],
   "source": [
    "type(\"Hello\")"
   ]
  },
  {
   "cell_type": "markdown",
   "id": "29a0ec68",
   "metadata": {
    "deletable": false,
    "editable": false
   },
   "source": [
    "---\n",
    "\n",
    "**Question 2.1.** Use the `type` function and set `total_pay_type` to the type of the first value in the \"Total Pay\" column.\n"
   ]
  },
  {
   "cell_type": "code",
   "execution_count": 45,
   "id": "01c02b6e",
   "metadata": {
    "tags": []
   },
   "outputs": [
    {
     "data": {
      "text/plain": [
       "str"
      ]
     },
     "execution_count": 45,
     "metadata": {},
     "output_type": "execute_result"
    }
   ],
   "source": [
    "#total_pay_type = type(float) # didnt work \n",
    "total_pay_type = type('Total Pay')\n",
    "total_pay_type"
   ]
  },
  {
   "cell_type": "code",
   "execution_count": 46,
   "id": "f90718a9",
   "metadata": {
    "deletable": false,
    "editable": false
   },
   "outputs": [
    {
     "data": {
      "text/html": [
       "<p><strong><pre style='display: inline;'>q21</pre></strong> passed! 🚀</p>"
      ],
      "text/plain": [
       "q21 results: All test cases passed!"
      ]
     },
     "execution_count": 46,
     "metadata": {},
     "output_type": "execute_result"
    }
   ],
   "source": [
    "grader.check(\"q21\")"
   ]
  },
  {
   "cell_type": "markdown",
   "id": "bf74dc7e",
   "metadata": {
    "deletable": false,
    "editable": false
   },
   "source": [
    "---\n",
    "\n",
    "**Question 2.2.** You should have found that the values in the `Total Pay` column are strings. It doesn't make sense to take the average of string values, so we need to convert them to numbers. Extract the first value in `Total Pay`.  It's Mark Hurd's pay in 2015, in *millions* of dollars.  Call it `mark_hurd_pay_string`.\n"
   ]
  },
  {
   "cell_type": "code",
   "execution_count": 47,
   "id": "6ce57233",
   "metadata": {
    "tags": []
   },
   "outputs": [
    {
     "data": {
      "text/plain": [
       "'$53.25 '"
      ]
     },
     "execution_count": 47,
     "metadata": {},
     "output_type": "execute_result"
    }
   ],
   "source": [
    "mark_hurd_pay_string = raw_compensation.column(\"Total Pay\").item(0)\n",
    "mark_hurd_pay_string"
   ]
  },
  {
   "cell_type": "code",
   "execution_count": 48,
   "id": "1a00a585",
   "metadata": {
    "deletable": false,
    "editable": false
   },
   "outputs": [
    {
     "data": {
      "text/html": [
       "<p><strong><pre style='display: inline;'>q22</pre></strong> passed! 🌈</p>"
      ],
      "text/plain": [
       "q22 results: All test cases passed!"
      ]
     },
     "execution_count": 48,
     "metadata": {},
     "output_type": "execute_result"
    }
   ],
   "source": [
    "grader.check(\"q22\")"
   ]
  },
  {
   "cell_type": "markdown",
   "id": "f72e2f42",
   "metadata": {
    "deletable": false,
    "editable": false
   },
   "source": [
    "---\n",
    "\n",
    "**Question 2.3.** Convert `mark_hurd_pay_string` to a number of *dollars*. \n",
    "\n",
    "Some hints, as this question requires multiple steps:\n",
    "- The string method `strip` will be useful for removing the dollar sign; it removes a specified character from the start or end of a string.  For example, the value of `\"100%\".strip(\"%\")` is the string `\"100\"`.  \n",
    "- You'll also need the function `float`, which converts a string that looks like a number to an actual number. Don't worry about the whitespace at the end of the string; the `float` function will ignore this.\n",
    "- Finally, remember that the answer should be in dollars, not millions of dollars.\n"
   ]
  },
  {
   "cell_type": "code",
   "execution_count": 49,
   "id": "8bae4b5a",
   "metadata": {
    "tags": []
   },
   "outputs": [
    {
     "data": {
      "text/plain": [
       "53250000.0"
      ]
     },
     "execution_count": 49,
     "metadata": {},
     "output_type": "execute_result"
    }
   ],
   "source": [
    "mark_hurd_pay = float((\"$53.25\").strip(\"$\"))*1000000\n",
    "mark_hurd_pay"
   ]
  },
  {
   "cell_type": "code",
   "execution_count": 50,
   "id": "ce330b14",
   "metadata": {
    "deletable": false,
    "editable": false
   },
   "outputs": [
    {
     "data": {
      "text/html": [
       "<p><strong><pre style='display: inline;'>q23</pre></strong> passed! 🍀</p>"
      ],
      "text/plain": [
       "q23 results: All test cases passed!"
      ]
     },
     "execution_count": 50,
     "metadata": {},
     "output_type": "execute_result"
    }
   ],
   "source": [
    "grader.check(\"q23\")"
   ]
  },
  {
   "cell_type": "markdown",
   "id": "4341fb06",
   "metadata": {
    "deletable": false,
    "editable": false
   },
   "source": [
    "To compute the average pay, we need to do this for every CEO.  But that looks like it would involve copying this code 102 times.\n",
    "\n",
    "We'll instead use functions to perform this computation. Later in this lab, we'll see the payoff: we can call that function on every pay string in the dataset at once.\n",
    "\n",
    "---\n",
    "\n",
    "**Question 2.4.** Copy the expression you used to compute `mark_hurd_pay`, and use it as the return expression of the function below. But make sure you replace the specific `mark_hurd_pay_string` with the generic `pay_string` name specified in the first line in the `def` statement.\n",
    "\n",
    "*Hint*: When dealing with functions, you should generally not be referencing any variable outside of the function. Usually, you want to be working with the arguments that are passed into it, such as `pay_string` for this function. If you're using `mark_hurd_pay_string` within your function, you're referencing an outside variable!\n"
   ]
  },
  {
   "cell_type": "code",
   "execution_count": 51,
   "id": "f02da459",
   "metadata": {
    "tags": []
   },
   "outputs": [],
   "source": [
    "def convert_pay_string_to_number(pay_string):\n",
    "    \"\"\"Converts a pay string like '$100' (in millions) to a number of dollars.\"\"\"\n",
    "    return (float((pay_string).strip(\"$\"))*1000000)"
   ]
  },
  {
   "cell_type": "code",
   "execution_count": 52,
   "id": "6299d89f",
   "metadata": {
    "deletable": false,
    "editable": false
   },
   "outputs": [
    {
     "data": {
      "text/html": [
       "<p><strong><pre style='display: inline;'>q24</pre></strong> passed! 🚀</p>"
      ],
      "text/plain": [
       "q24 results: All test cases passed!"
      ]
     },
     "execution_count": 52,
     "metadata": {},
     "output_type": "execute_result"
    }
   ],
   "source": [
    "grader.check(\"q24\")"
   ]
  },
  {
   "cell_type": "markdown",
   "id": "21a77559",
   "metadata": {},
   "source": [
    "Running that cell doesn't convert any particular pay string. Instead, it creates a function called `convert_pay_string_to_number` that can convert *any* string with the right format to a number representing millions of dollars.\n",
    "\n",
    "We can call our function just like we call the built-in functions we've seen. It takes one argument, *a string*, and it returns a float."
   ]
  },
  {
   "cell_type": "code",
   "execution_count": 53,
   "id": "a692cbb2",
   "metadata": {},
   "outputs": [
    {
     "data": {
      "text/plain": [
       "42000000.0"
      ]
     },
     "execution_count": 53,
     "metadata": {},
     "output_type": "execute_result"
    }
   ],
   "source": [
    "convert_pay_string_to_number('$42')"
   ]
  },
  {
   "cell_type": "code",
   "execution_count": 54,
   "id": "46be23fd",
   "metadata": {},
   "outputs": [
    {
     "data": {
      "text/plain": [
       "53250000.0"
      ]
     },
     "execution_count": 54,
     "metadata": {},
     "output_type": "execute_result"
    }
   ],
   "source": [
    "convert_pay_string_to_number(mark_hurd_pay_string)"
   ]
  },
  {
   "cell_type": "code",
   "execution_count": 55,
   "id": "1632d16b",
   "metadata": {},
   "outputs": [
    {
     "data": {
      "text/plain": [
       "53240000.0"
      ]
     },
     "execution_count": 55,
     "metadata": {},
     "output_type": "execute_result"
    }
   ],
   "source": [
    "# We can also compute Safra Catz's pay in the same way:\n",
    "convert_pay_string_to_number(raw_compensation.where(\"Name\", are.containing(\"Safra\")).column(\"Total Pay\").item(0))"
   ]
  },
  {
   "cell_type": "markdown",
   "id": "79d86b9a",
   "metadata": {},
   "source": [
    "With this function, we don't have to copy the code that converts a pay string to a number each time we wanted to convert a pay string.  Now we just call a function whose name says exactly what it's doing."
   ]
  },
  {
   "cell_type": "markdown",
   "id": "7687e0c2",
   "metadata": {},
   "source": [
    "<hr style=\"border: 5px solid #003262;\" />\n",
    "<hr style=\"border: 1px solid #fdb515;\" />\n",
    "\n",
    "## 3. `apply`ing functions\n",
    "\n",
    "Defining a function is a lot like giving a name to a value with `=`.  In fact, a function is a value just like the number 1 or the text \"data\"!\n",
    "\n",
    "For example, we can make a new name for the built-in function `max` if we want:"
   ]
  },
  {
   "cell_type": "code",
   "execution_count": 56,
   "id": "885be09d",
   "metadata": {},
   "outputs": [
    {
     "data": {
      "text/plain": [
       "6"
      ]
     },
     "execution_count": 56,
     "metadata": {},
     "output_type": "execute_result"
    }
   ],
   "source": [
    "our_name_for_max = max\n",
    "our_name_for_max(2, 6)"
   ]
  },
  {
   "cell_type": "markdown",
   "id": "fc5df566",
   "metadata": {},
   "source": [
    "The old name for `max` is still around:"
   ]
  },
  {
   "cell_type": "code",
   "execution_count": 57,
   "id": "0ced6d26",
   "metadata": {},
   "outputs": [
    {
     "data": {
      "text/plain": [
       "6"
      ]
     },
     "execution_count": 57,
     "metadata": {},
     "output_type": "execute_result"
    }
   ],
   "source": [
    "max(2, 6)"
   ]
  },
  {
   "cell_type": "markdown",
   "id": "a9ec10a4",
   "metadata": {},
   "source": [
    "Try just writing `max` or `our_name_for_max` (or the name of any other function) in a cell, and run that cell.  Python will print out a (very brief) description of the function."
   ]
  },
  {
   "cell_type": "code",
   "execution_count": 58,
   "id": "18ccdb59",
   "metadata": {},
   "outputs": [
    {
     "data": {
      "text/plain": [
       "<function max>"
      ]
     },
     "execution_count": 58,
     "metadata": {},
     "output_type": "execute_result"
    }
   ],
   "source": [
    "max"
   ]
  },
  {
   "cell_type": "markdown",
   "id": "8b7bd549",
   "metadata": {},
   "source": [
    "Now try writing `max?` or `our_name_for_max?` (or the name of any other function) in a cell, and run that cell.  A information box should show up at the bottom of your screen a longer description of the function\n",
    "\n",
    "*Note: You can also press Shift+Tab after clicking on a name to see similar information!*"
   ]
  },
  {
   "cell_type": "code",
   "execution_count": 59,
   "id": "ce2ed80a",
   "metadata": {},
   "outputs": [
    {
     "data": {
      "text/plain": [
       "\u001b[0;31mDocstring:\u001b[0m\n",
       "max(iterable, *[, default=obj, key=func]) -> value\n",
       "max(arg1, arg2, *args, *[, key=func]) -> value\n",
       "\n",
       "With a single iterable argument, return its biggest item. The\n",
       "default keyword-only argument specifies an object to return if\n",
       "the provided iterable is empty.\n",
       "With two or more arguments, return the largest argument.\n",
       "\u001b[0;31mType:\u001b[0m      builtin_function_or_method"
      ]
     },
     "metadata": {},
     "output_type": "display_data"
    }
   ],
   "source": [
    "our_name_for_max?"
   ]
  },
  {
   "cell_type": "markdown",
   "id": "b2868b1a",
   "metadata": {},
   "source": [
    "Let's look at what happens when we set `max`to a non-function value. Python now thinks you're trying to use a number like a function, which causes an error. Look out for any functions that might have been renamed when you encounter this type of error."
   ]
  },
  {
   "cell_type": "code",
   "execution_count": 60,
   "id": "ebb10e9b",
   "metadata": {
    "tags": [
     "raises-exception"
    ]
   },
   "outputs": [
    {
     "ename": "TypeError",
     "evalue": "'int' object is not callable",
     "output_type": "error",
     "traceback": [
      "\u001b[0;31m---------------------------------------------------------------------------\u001b[0m",
      "\u001b[0;31mTypeError\u001b[0m                                 Traceback (most recent call last)",
      "Cell \u001b[0;32mIn[60], line 2\u001b[0m\n\u001b[1;32m      1\u001b[0m \u001b[38;5;28mmax\u001b[39m \u001b[38;5;241m=\u001b[39m \u001b[38;5;241m6\u001b[39m\n\u001b[0;32m----> 2\u001b[0m \u001b[38;5;28;43mmax\u001b[39;49m\u001b[43m(\u001b[49m\u001b[38;5;241;43m2\u001b[39;49m\u001b[43m,\u001b[49m\u001b[43m \u001b[49m\u001b[38;5;241;43m6\u001b[39;49m\u001b[43m)\u001b[49m\n",
      "\u001b[0;31mTypeError\u001b[0m: 'int' object is not callable"
     ]
    }
   ],
   "source": [
    "max = 6\n",
    "max(2, 6)"
   ]
  },
  {
   "cell_type": "code",
   "execution_count": 61,
   "id": "c8bf92f8",
   "metadata": {},
   "outputs": [],
   "source": [
    "# This cell resets max to the built-in function. Just run this cell, don't change its contents\n",
    "import builtins\n",
    "max = builtins.max"
   ]
  },
  {
   "cell_type": "markdown",
   "id": "f105cdbc",
   "metadata": {},
   "source": [
    "Why is this useful?  Since functions are just values, it's possible to pass them as arguments to other functions.  Here's a simple but not-so-practical example: we can make an array of functions."
   ]
  },
  {
   "cell_type": "code",
   "execution_count": 62,
   "id": "8b43f2b6",
   "metadata": {},
   "outputs": [
    {
     "data": {
      "text/plain": [
       "array([<built-in function max>, <function average at 0x781f60489430>,\n",
       "       <function are.equal_to at 0x781f10de7380>], dtype=object)"
      ]
     },
     "execution_count": 62,
     "metadata": {},
     "output_type": "execute_result"
    }
   ],
   "source": [
    "make_array(max, np.average, are.equal_to)"
   ]
  },
  {
   "cell_type": "markdown",
   "id": "df012b7d",
   "metadata": {
    "deletable": false,
    "editable": false
   },
   "source": [
    "---\n",
    "\n",
    "**Question 3.1.** Make an array containing any 3 other functions you've seen.  Call it `some_functions`.\n"
   ]
  },
  {
   "cell_type": "code",
   "execution_count": 63,
   "id": "ef7eb5ae",
   "metadata": {
    "tags": []
   },
   "outputs": [
    {
     "data": {
      "text/plain": [
       "array([<built-in function min>, <function round at 0x781f605a54f0>,\n",
       "       <function are.equal_to at 0x781f10de7380>], dtype=object)"
      ]
     },
     "execution_count": 63,
     "metadata": {},
     "output_type": "execute_result"
    }
   ],
   "source": [
    "some_functions = make_array(min, np.round, are.equal_to)\n",
    "some_functions"
   ]
  },
  {
   "cell_type": "code",
   "execution_count": 64,
   "id": "948711ff",
   "metadata": {
    "deletable": false,
    "editable": false
   },
   "outputs": [
    {
     "data": {
      "text/html": [
       "<p><strong><pre style='display: inline;'>q31</pre></strong> passed! 🙌</p>"
      ],
      "text/plain": [
       "q31 results: All test cases passed!"
      ]
     },
     "execution_count": 64,
     "metadata": {},
     "output_type": "execute_result"
    }
   ],
   "source": [
    "grader.check(\"q31\")"
   ]
  },
  {
   "cell_type": "markdown",
   "id": "b001e2df",
   "metadata": {},
   "source": [
    "Working with functions as values can lead to some funny-looking code. For example, see if you can figure out why the following code works."
   ]
  },
  {
   "cell_type": "code",
   "execution_count": 65,
   "id": "ff7cf74f",
   "metadata": {},
   "outputs": [
    {
     "data": {
      "text/plain": [
       "7"
      ]
     },
     "execution_count": 65,
     "metadata": {},
     "output_type": "execute_result"
    }
   ],
   "source": [
    "make_array(max, np.average, are.equal_to).item(0)(4, -2, 7)"
   ]
  },
  {
   "cell_type": "markdown",
   "id": "e950b781",
   "metadata": {},
   "source": [
    "A more useful example of passing functions to other functions as arguments is the table method `apply`.\n",
    "\n",
    "`apply` calls a function many times, once on *each* element in a column of a table.  It produces an *array* of the results.  Here we use `apply` to convert every CEO's pay to a number, using the function you defined:\n",
    "\n",
    "*Note:* You'll see an array of numbers like `5.325e+07`. This is Python's way of representing **scientific notation**. We interpret `5.325e+07` as `5.325 * 10**7`, or `53,250,000`."
   ]
  },
  {
   "cell_type": "code",
   "execution_count": 66,
   "id": "1d5b5f97",
   "metadata": {},
   "outputs": [
    {
     "data": {
      "text/plain": [
       "array([  5.32500000e+07,   5.32400000e+07,   4.49100000e+07,\n",
       "         3.59800000e+07,   3.33600000e+07,   2.48400000e+07,\n",
       "         2.20400000e+07,   1.98600000e+07,   1.96200000e+07,\n",
       "         1.93200000e+07,   1.87600000e+07,   1.86100000e+07,\n",
       "         1.83600000e+07,   1.80900000e+07,   1.71000000e+07,\n",
       "         1.66300000e+07,   1.63300000e+07,   1.61400000e+07,\n",
       "         1.61000000e+07,   1.60200000e+07,   1.51000000e+07,\n",
       "         1.49800000e+07,   1.46300000e+07,   1.45100000e+07,\n",
       "         1.44400000e+07,   1.43600000e+07,   1.43100000e+07,\n",
       "         1.40900000e+07,   1.40000000e+07,   1.36700000e+07,\n",
       "         1.23400000e+07,   1.22000000e+07,   1.21800000e+07,\n",
       "         1.21300000e+07,   1.20500000e+07,   1.18400000e+07,\n",
       "         1.17100000e+07,   1.16300000e+07,   1.11600000e+07,\n",
       "         1.11100000e+07,   1.11100000e+07,   1.07300000e+07,\n",
       "         1.05000000e+07,   1.04300000e+07,   1.03700000e+07,\n",
       "         1.02800000e+07,   1.02700000e+07,   1.01800000e+07,\n",
       "         1.01600000e+07,   9.97000000e+06,   9.96000000e+06,\n",
       "         9.86000000e+06,   9.74000000e+06,   9.42000000e+06,\n",
       "         9.39000000e+06,   9.22000000e+06,   9.06000000e+06,\n",
       "         9.03000000e+06,   8.86000000e+06,   8.76000000e+06,\n",
       "         8.57000000e+06,   8.38000000e+06,   8.36000000e+06,\n",
       "         8.35000000e+06,   8.23000000e+06,   7.86000000e+06,\n",
       "         7.70000000e+06,   7.58000000e+06,   7.51000000e+06,\n",
       "         7.23000000e+06,   7.21000000e+06,   7.12000000e+06,\n",
       "         6.88000000e+06,   6.77000000e+06,   6.64000000e+06,\n",
       "         6.56000000e+06,   6.14000000e+06,   5.92000000e+06,\n",
       "         5.90000000e+06,   5.89000000e+06,   5.73000000e+06,\n",
       "         5.42000000e+06,   5.04000000e+06,   4.92000000e+06,\n",
       "         4.92000000e+06,   4.47000000e+06,   4.25000000e+06,\n",
       "         4.08000000e+06,   3.93000000e+06,   3.72000000e+06,\n",
       "         2.88000000e+06,   2.83000000e+06,   2.82000000e+06,\n",
       "         2.45000000e+06,   1.79000000e+06,   1.68000000e+06,\n",
       "         1.53000000e+06,   9.40000000e+05,   8.10000000e+05,\n",
       "         7.00000000e+04,   4.00000000e+04])"
      ]
     },
     "execution_count": 66,
     "metadata": {},
     "output_type": "execute_result"
    }
   ],
   "source": [
    "raw_compensation.apply(convert_pay_string_to_number, \"Total Pay\")"
   ]
  },
  {
   "cell_type": "markdown",
   "id": "8eb24dea",
   "metadata": {
    "deletable": false,
    "editable": false
   },
   "source": [
    "Here's an illustration of what that did:\n",
    "\n",
    "<img src=\"apply.png\"/>\n",
    "\n",
    "Note that we didn’t write `raw_compensation.apply(convert_pay_string_to_number(), “Total Pay”)` or `raw_compensation.apply(convert_pay_string_to_number(“Total Pay”))`. We just passed the name of the function, with no parentheses, to `apply`, because all we want to do is let `apply` know the name of the function we’d like to use and the name of the column we’d like to use it on. `apply` will then call the function `convert_pay_string_to_number` on each value in the column for us! Also note that calling `tbl.apply` ___does not___ alter the original table in any way.\n",
    "\n",
    "---\n",
    "\n",
    "**Question 3.2.** Using `apply`, make a table that's a copy of `raw_compensation` with one additional column called `Total Pay ($)`.  That column should contain the result of applying `convert_pay_string_to_number` to the `Total Pay` column (as we did above).  Call the new table `compensation`.\n"
   ]
  },
  {
   "cell_type": "code",
   "execution_count": 68,
   "id": "917aa90f",
   "metadata": {
    "tags": []
   },
   "outputs": [
    {
     "data": {
      "text/html": [
       "<table border=\"1\" class=\"dataframe\">\n",
       "    <thead>\n",
       "        <tr>\n",
       "            <th>Rank</th> <th>Name</th> <th>Company (Headquarters)</th> <th>Total Pay</th> <th>% Change</th> <th>Cash Pay</th> <th>Equity Pay</th> <th>Other Pay</th> <th>Ratio of CEO pay to average industry worker pay</th> <th>Total Pay ($)</th>\n",
       "        </tr>\n",
       "    </thead>\n",
       "    <tbody>\n",
       "        <tr>\n",
       "            <td>1   </td> <td>Mark V. Hurd*     </td> <td>Oracle (Redwood City)         </td> <td>$53.25   </td> <td>(No previous year)</td> <td>$0.95   </td> <td>$52.27    </td> <td>$0.02    </td> <td>362                                            </td> <td>5.325e+07    </td>\n",
       "        </tr>\n",
       "        <tr>\n",
       "            <td>2   </td> <td>Safra A. Catz*    </td> <td>Oracle (Redwood City)         </td> <td>$53.24   </td> <td>(No previous year)</td> <td>$0.95   </td> <td>$52.27    </td> <td>$0.02    </td> <td>362                                            </td> <td>5.324e+07    </td>\n",
       "        </tr>\n",
       "        <tr>\n",
       "            <td>3   </td> <td>Robert A. Iger    </td> <td>Walt Disney (Burbank)         </td> <td>$44.91   </td> <td>-3%               </td> <td>$24.89  </td> <td>$17.28    </td> <td>$2.74    </td> <td>477                                            </td> <td>4.491e+07    </td>\n",
       "        </tr>\n",
       "        <tr>\n",
       "            <td>4   </td> <td>Marissa A. Mayer  </td> <td>Yahoo! (Sunnyvale)            </td> <td>$35.98   </td> <td>-15%              </td> <td>$1.00   </td> <td>$34.43    </td> <td>$0.55    </td> <td>342                                            </td> <td>3.598e+07    </td>\n",
       "        </tr>\n",
       "        <tr>\n",
       "            <td>5   </td> <td>Marc Benioff      </td> <td>salesforce.com (San Francisco)</td> <td>$33.36   </td> <td>-16%              </td> <td>$4.65   </td> <td>$27.26    </td> <td>$1.45    </td> <td>338                                            </td> <td>3.336e+07    </td>\n",
       "        </tr>\n",
       "        <tr>\n",
       "            <td>6   </td> <td>John H. Hammergren</td> <td>McKesson (San Francisco)      </td> <td>$24.84   </td> <td>-4%               </td> <td>$12.10  </td> <td>$12.37    </td> <td>$0.37    </td> <td>222                                            </td> <td>2.484e+07    </td>\n",
       "        </tr>\n",
       "        <tr>\n",
       "            <td>7   </td> <td>John S. Watson    </td> <td>Chevron (San Ramon)           </td> <td>$22.04   </td> <td>-15%              </td> <td>$4.31   </td> <td>$14.68    </td> <td>$3.05    </td> <td>183                                            </td> <td>2.204e+07    </td>\n",
       "        </tr>\n",
       "        <tr>\n",
       "            <td>8   </td> <td>Jeffrey Weiner    </td> <td>LinkedIn (Mountain View)      </td> <td>$19.86   </td> <td>27%               </td> <td>$2.47   </td> <td>$17.26    </td> <td>$0.13    </td> <td>182                                            </td> <td>1.986e+07    </td>\n",
       "        </tr>\n",
       "        <tr>\n",
       "            <td>9   </td> <td>John T. Chambers**</td> <td>Cisco Systems (San Jose)      </td> <td>$19.62   </td> <td>19%               </td> <td>$5.10   </td> <td>$14.51    </td> <td>$0.01    </td> <td>170                                            </td> <td>1.962e+07    </td>\n",
       "        </tr>\n",
       "        <tr>\n",
       "            <td>10  </td> <td>John G. Stumpf    </td> <td>Wells Fargo  (San Francisco)  </td> <td>$19.32   </td> <td>-10%              </td> <td>$6.80   </td> <td>$12.50    </td> <td>$0.02    </td> <td>256                                            </td> <td>1.932e+07    </td>\n",
       "        </tr>\n",
       "    </tbody>\n",
       "</table>\n",
       "<p>... (91 rows omitted)</p>"
      ],
      "text/plain": [
       "Rank | Name               | Company (Headquarters)         | Total Pay | % Change           | Cash Pay | Equity Pay | Other Pay | Ratio of CEO pay to average industry worker pay | Total Pay ($)\n",
       "1    | Mark V. Hurd*      | Oracle (Redwood City)          | $53.25    | (No previous year) | $0.95    | $52.27     | $0.02     | 362                                             | 5.325e+07\n",
       "2    | Safra A. Catz*     | Oracle (Redwood City)          | $53.24    | (No previous year) | $0.95    | $52.27     | $0.02     | 362                                             | 5.324e+07\n",
       "3    | Robert A. Iger     | Walt Disney (Burbank)          | $44.91    | -3%                | $24.89   | $17.28     | $2.74     | 477                                             | 4.491e+07\n",
       "4    | Marissa A. Mayer   | Yahoo! (Sunnyvale)             | $35.98    | -15%               | $1.00    | $34.43     | $0.55     | 342                                             | 3.598e+07\n",
       "5    | Marc Benioff       | salesforce.com (San Francisco) | $33.36    | -16%               | $4.65    | $27.26     | $1.45     | 338                                             | 3.336e+07\n",
       "6    | John H. Hammergren | McKesson (San Francisco)       | $24.84    | -4%                | $12.10   | $12.37     | $0.37     | 222                                             | 2.484e+07\n",
       "7    | John S. Watson     | Chevron (San Ramon)            | $22.04    | -15%               | $4.31    | $14.68     | $3.05     | 183                                             | 2.204e+07\n",
       "8    | Jeffrey Weiner     | LinkedIn (Mountain View)       | $19.86    | 27%                | $2.47    | $17.26     | $0.13     | 182                                             | 1.986e+07\n",
       "9    | John T. Chambers** | Cisco Systems (San Jose)       | $19.62    | 19%                | $5.10    | $14.51     | $0.01     | 170                                             | 1.962e+07\n",
       "10   | John G. Stumpf     | Wells Fargo  (San Francisco)   | $19.32    | -10%               | $6.80    | $12.50     | $0.02     | 256                                             | 1.932e+07\n",
       "... (91 rows omitted)"
      ]
     },
     "execution_count": 68,
     "metadata": {},
     "output_type": "execute_result"
    }
   ],
   "source": [
    "compensation = raw_compensation.with_column(\"Total Pay ($)\", raw_compensation.apply(convert_pay_string_to_number, \"Total Pay\"))\n",
    "compensation"
   ]
  },
  {
   "cell_type": "code",
   "execution_count": 69,
   "id": "be40a336",
   "metadata": {
    "deletable": false,
    "editable": false
   },
   "outputs": [
    {
     "data": {
      "text/html": [
       "<p><strong><pre style='display: inline;'>q32</pre></strong> passed! ✨</p>"
      ],
      "text/plain": [
       "q32 results: All test cases passed!"
      ]
     },
     "execution_count": 69,
     "metadata": {},
     "output_type": "execute_result"
    }
   ],
   "source": [
    "grader.check(\"q32\")"
   ]
  },
  {
   "cell_type": "markdown",
   "id": "3995ffb6",
   "metadata": {},
   "source": [
    "Now that we have all the pays as numbers, we can learn more about them through computation."
   ]
  },
  {
   "cell_type": "markdown",
   "id": "ca7226e8",
   "metadata": {
    "deletable": false,
    "editable": false
   },
   "source": [
    "---\n",
    "\n",
    "**Question 3.3.** Compute the average total pay of the CEOs in the dataset.\n"
   ]
  },
  {
   "cell_type": "code",
   "execution_count": 71,
   "id": "5a8b59fa",
   "metadata": {
    "tags": []
   },
   "outputs": [
    {
     "data": {
      "text/plain": [
       "11558613.861386139"
      ]
     },
     "execution_count": 71,
     "metadata": {},
     "output_type": "execute_result"
    }
   ],
   "source": [
    "average_total_pay = compensation.column(\"Total Pay ($)\").mean()\n",
    "average_total_pay"
   ]
  },
  {
   "cell_type": "code",
   "execution_count": 72,
   "id": "5d4f79ae",
   "metadata": {
    "deletable": false,
    "editable": false
   },
   "outputs": [
    {
     "data": {
      "text/html": [
       "<p><strong><pre style='display: inline;'>q33</pre></strong> passed! 🚀</p>"
      ],
      "text/plain": [
       "q33 results: All test cases passed!"
      ]
     },
     "execution_count": 72,
     "metadata": {},
     "output_type": "execute_result"
    }
   ],
   "source": [
    "grader.check(\"q33\")"
   ]
  },
  {
   "cell_type": "markdown",
   "id": "6f5fe4d7",
   "metadata": {
    "deletable": false,
    "editable": false
   },
   "source": [
    "---\n",
    "\n",
    "**Question 3.4** Companies pay executives in a variety of ways: in cash, by granting stock or other equity in the company, or with ancillary benefits (like private jets).  Compute the proportion of each CEO's pay that was cash.  (Your answer should be an array of numbers, one for each CEO in the dataset.)\n",
    "\n",
    "*Hint:* What function have you defined that can convert a string to a number?\n"
   ]
  },
  {
   "cell_type": "code",
   "execution_count": 74,
   "id": "315a61d1",
   "metadata": {
    "tags": []
   },
   "outputs": [
    {
     "data": {
      "text/plain": [
       "array([ 0.01784038,  0.01784373,  0.55421955,  0.02779322,  0.13938849,\n",
       "        0.48711755,  0.19555354,  0.12437059,  0.25993884,  0.35196687,\n",
       "        0.3075693 ,  0.22138635,  0.13126362,  0.1708126 ,  0.23099415,\n",
       "        0.06734817,  0.13043478,  0.28004957,  0.33229814,  0.15355805,\n",
       "        0.29337748,  0.21829105,  0.31100478,  0.25086147,  0.2299169 ,\n",
       "        0.16991643,  0.31795947,  0.26188786,  0.28357143,  0.15654718,\n",
       "        0.38168558,  0.28934426,  0.20361248,  0.47650453,  0.45643154,\n",
       "        0.36402027,  0.2177626 ,  0.24763543,  0.42562724,  0.2610261 ,\n",
       "        0.18361836,  0.1444548 ,  0.33333333,  0.10834132,  0.20925747,\n",
       "        0.97276265,  0.22979552,  0.22789784,  0.37893701,  0.25175527,\n",
       "        0.73895582,  0.37018256,  0.2412731 ,  0.2133758 ,  0.20553781,\n",
       "        0.23318872,  0.33664459,  0.3875969 ,  0.56094808,  0.11757991,\n",
       "        0.35239207,  0.24463007,  0.25      ,  0.23712575,  0.43377886,\n",
       "        0.31424936,  0.46363636,  0.32585752,  0.24766977,  0.98755187,\n",
       "        0.27184466,  0.96207865,  0.31831395,  0.81979321,  0.23795181,\n",
       "        0.17530488,  0.21172638,  0.37162162,  0.27288136,  0.26994907,\n",
       "        0.55148342,  0.3597786 ,  0.        ,  0.47154472,  0.47154472,\n",
       "        0.29753915,  0.16235294,  0.48529412,  0.46819338,  0.32526882,\n",
       "        0.98958333,  0.61130742,  0.67021277,  0.75510204,  0.50837989,\n",
       "        0.98809524,  0.98039216,  0.9893617 ,  0.87654321,  0.        ,\n",
       "        1.        ])"
      ]
     },
     "execution_count": 74,
     "metadata": {},
     "output_type": "execute_result"
    }
   ],
   "source": [
    "compensation = raw_compensation.with_columns(\"Total Pay ($)\", raw_compensation.apply(convert_pay_string_to_number, \"Total Pay\"))\n",
    "cash_proportion = (raw_compensation.apply(convert_pay_string_to_number, \"Cash Pay\") / raw_compensation.apply(convert_pay_string_to_number,\"Total Pay\"))\n",
    "cash_proportion"
   ]
  },
  {
   "cell_type": "code",
   "execution_count": 75,
   "id": "e6cfddc7",
   "metadata": {
    "deletable": false,
    "editable": false
   },
   "outputs": [
    {
     "data": {
      "text/html": [
       "<p><strong><pre style='display: inline;'>q34</pre></strong> passed! ✨</p>"
      ],
      "text/plain": [
       "q34 results: All test cases passed!"
      ]
     },
     "execution_count": 75,
     "metadata": {},
     "output_type": "execute_result"
    }
   ],
   "source": [
    "grader.check(\"q34\")"
   ]
  },
  {
   "cell_type": "markdown",
   "id": "210b7c8a",
   "metadata": {
    "for_assignment_type": "solution"
   },
   "source": [
    "**Why is `apply` useful?**\n",
    "\n",
    "For operations like arithmetic, or the functions in the NumPy library, you don't need to use `apply`, because they automatically work on each element of an array.  But there are many things that don't.  The string manipulation we did in today's lab is one example.  Since you can write any code you want in a function, `apply` gives you greater control over how you operate on data."
   ]
  },
  {
   "cell_type": "markdown",
   "id": "83264c68",
   "metadata": {
    "deletable": false,
    "editable": false
   },
   "source": [
    "Check out the `% Change` column in `compensation`.  It shows the percentage increase in the CEO's pay from the previous year.  For CEOs with no previous year on record, it instead says \"(No previous year)\".  The values in this column are *strings*, not numbers, so like the `Total Pay` column, it's not usable without a bit of extra work.\n",
    "\n",
    "Given your current pay and the percentage increase from the previous year, you can compute your previous year's pay.  For example, if your pay is $\\$120$ this year, and that's an increase of 50% from the previous year, then your previous year's pay was $\\frac{\\$120}{1 + \\frac{50}{100}}$, or \\$80.\n",
    "\n",
    "---\n",
    "\n",
    "**Question 3.5** Create a new table called `with_previous_compensation`.  It should be a copy of `compensation`, but with the \"(No previous year)\" CEOs filtered out, and with an extra column called `2014 Total Pay ($)`.  That column should have each CEO's pay in 2014.\n",
    "\n",
    "*Hint 1:* You can print out your results after each step to make sure you're on the right track.\n",
    "\n",
    "*Hint 2:* We've provided a structure that you can use to get to the answer. However, if it's confusing, feel free to delete the current structure and approach the problem your own way!\n"
   ]
  },
  {
   "cell_type": "code",
   "execution_count": 99,
   "id": "c787258e",
   "metadata": {
    "tags": []
   },
   "outputs": [
    {
     "data": {
      "text/html": [
       "<table border=\"1\" class=\"dataframe\">\n",
       "    <thead>\n",
       "        <tr>\n",
       "            <th>Rank</th> <th>Name</th> <th>Company (Headquarters)</th> <th>Total Pay</th> <th>% Change</th> <th>Cash Pay</th> <th>Equity Pay</th> <th>Other Pay</th> <th>Ratio of CEO pay to average industry worker pay</th> <th>Total Pay ($)</th> <th>2014 Total Pay ($)</th>\n",
       "        </tr>\n",
       "    </thead>\n",
       "    <tbody>\n",
       "        <tr>\n",
       "            <td>3   </td> <td>Robert A. Iger    </td> <td>Walt Disney (Burbank)         </td> <td>$44.91   </td> <td>-3%     </td> <td>$24.89  </td> <td>$17.28    </td> <td>$2.74    </td> <td>477                                            </td> <td>4.491e+07    </td> <td>4.6299e+07        </td>\n",
       "        </tr>\n",
       "        <tr>\n",
       "            <td>4   </td> <td>Marissa A. Mayer  </td> <td>Yahoo! (Sunnyvale)            </td> <td>$35.98   </td> <td>-15%    </td> <td>$1.00   </td> <td>$34.43    </td> <td>$0.55    </td> <td>342                                            </td> <td>3.598e+07    </td> <td>4.23294e+07       </td>\n",
       "        </tr>\n",
       "        <tr>\n",
       "            <td>5   </td> <td>Marc Benioff      </td> <td>salesforce.com (San Francisco)</td> <td>$33.36   </td> <td>-16%    </td> <td>$4.65   </td> <td>$27.26    </td> <td>$1.45    </td> <td>338                                            </td> <td>3.336e+07    </td> <td>3.97143e+07       </td>\n",
       "        </tr>\n",
       "        <tr>\n",
       "            <td>6   </td> <td>John H. Hammergren</td> <td>McKesson (San Francisco)      </td> <td>$24.84   </td> <td>-4%     </td> <td>$12.10  </td> <td>$12.37    </td> <td>$0.37    </td> <td>222                                            </td> <td>2.484e+07    </td> <td>2.5875e+07        </td>\n",
       "        </tr>\n",
       "        <tr>\n",
       "            <td>7   </td> <td>John S. Watson    </td> <td>Chevron (San Ramon)           </td> <td>$22.04   </td> <td>-15%    </td> <td>$4.31   </td> <td>$14.68    </td> <td>$3.05    </td> <td>183                                            </td> <td>2.204e+07    </td> <td>2.59294e+07       </td>\n",
       "        </tr>\n",
       "        <tr>\n",
       "            <td>8   </td> <td>Jeffrey Weiner    </td> <td>LinkedIn (Mountain View)      </td> <td>$19.86   </td> <td>27%     </td> <td>$2.47   </td> <td>$17.26    </td> <td>$0.13    </td> <td>182                                            </td> <td>1.986e+07    </td> <td>1.56378e+07       </td>\n",
       "        </tr>\n",
       "        <tr>\n",
       "            <td>9   </td> <td>John T. Chambers**</td> <td>Cisco Systems (San Jose)      </td> <td>$19.62   </td> <td>19%     </td> <td>$5.10   </td> <td>$14.51    </td> <td>$0.01    </td> <td>170                                            </td> <td>1.962e+07    </td> <td>1.64874e+07       </td>\n",
       "        </tr>\n",
       "        <tr>\n",
       "            <td>10  </td> <td>John G. Stumpf    </td> <td>Wells Fargo  (San Francisco)  </td> <td>$19.32   </td> <td>-10%    </td> <td>$6.80   </td> <td>$12.50    </td> <td>$0.02    </td> <td>256                                            </td> <td>1.932e+07    </td> <td>2.14667e+07       </td>\n",
       "        </tr>\n",
       "        <tr>\n",
       "            <td>11  </td> <td>John C. Martin**  </td> <td>Gilead Sciences (Foster City) </td> <td>$18.76   </td> <td>-1%     </td> <td>$5.77   </td> <td>$12.98    </td> <td>$0.01    </td> <td>117                                            </td> <td>1.876e+07    </td> <td>1.89495e+07       </td>\n",
       "        </tr>\n",
       "        <tr>\n",
       "            <td>13  </td> <td>Shantanu Narayen  </td> <td>Adobe Systems (San Jose)      </td> <td>$18.36   </td> <td>3%      </td> <td>$2.41   </td> <td>$15.85    </td> <td>$0.09    </td> <td>125                                            </td> <td>1.836e+07    </td> <td>1.78252e+07       </td>\n",
       "        </tr>\n",
       "    </tbody>\n",
       "</table>\n",
       "<p>... (70 rows omitted)</p>"
      ],
      "text/plain": [
       "Rank | Name               | Company (Headquarters)         | Total Pay | % Change | Cash Pay | Equity Pay | Other Pay | Ratio of CEO pay to average industry worker pay | Total Pay ($) | 2014 Total Pay ($)\n",
       "3    | Robert A. Iger     | Walt Disney (Burbank)          | $44.91    | -3%      | $24.89   | $17.28     | $2.74     | 477                                             | 4.491e+07     | 4.6299e+07\n",
       "4    | Marissa A. Mayer   | Yahoo! (Sunnyvale)             | $35.98    | -15%     | $1.00    | $34.43     | $0.55     | 342                                             | 3.598e+07     | 4.23294e+07\n",
       "5    | Marc Benioff       | salesforce.com (San Francisco) | $33.36    | -16%     | $4.65    | $27.26     | $1.45     | 338                                             | 3.336e+07     | 3.97143e+07\n",
       "6    | John H. Hammergren | McKesson (San Francisco)       | $24.84    | -4%      | $12.10   | $12.37     | $0.37     | 222                                             | 2.484e+07     | 2.5875e+07\n",
       "7    | John S. Watson     | Chevron (San Ramon)            | $22.04    | -15%     | $4.31    | $14.68     | $3.05     | 183                                             | 2.204e+07     | 2.59294e+07\n",
       "8    | Jeffrey Weiner     | LinkedIn (Mountain View)       | $19.86    | 27%      | $2.47    | $17.26     | $0.13     | 182                                             | 1.986e+07     | 1.56378e+07\n",
       "9    | John T. Chambers** | Cisco Systems (San Jose)       | $19.62    | 19%      | $5.10    | $14.51     | $0.01     | 170                                             | 1.962e+07     | 1.64874e+07\n",
       "10   | John G. Stumpf     | Wells Fargo  (San Francisco)   | $19.32    | -10%     | $6.80    | $12.50     | $0.02     | 256                                             | 1.932e+07     | 2.14667e+07\n",
       "11   | John C. Martin**   | Gilead Sciences (Foster City)  | $18.76    | -1%      | $5.77    | $12.98     | $0.01     | 117                                             | 1.876e+07     | 1.89495e+07\n",
       "13   | Shantanu Narayen   | Adobe Systems (San Jose)       | $18.36    | 3%       | $2.41    | $15.85     | $0.09     | 125                                             | 1.836e+07     | 1.78252e+07\n",
       "... (70 rows omitted)"
      ]
     },
     "execution_count": 99,
     "metadata": {},
     "output_type": "execute_result"
    }
   ],
   "source": [
    "# Definition to turn percent to number\n",
    "def percent_string_to_num(percent_string):\n",
    "    \"\"\"Converts a percentage string to a number.\"\"\"\n",
    "    return float(percent_string.strip('%')) / 100\n",
    "\n",
    "# Definition to convert pay string to number\n",
    "def convert_pay_string_to_number(pay_string):\n",
    "    \"\"\"Converts a pay string to a number.\"\"\"\n",
    "    return float(pay_string.replace('$', '').replace(',', '')) * 1e6  # Convert to dollars\n",
    "\n",
    "# Compensation table where there is a previous year\n",
    "having_previous_year = compensation.where(\"% Change\", are.not_equal_to(\"(No previous year)\"))\n",
    "\n",
    "# Get the percent changes as numbers instead of strings\n",
    "percent_changes = having_previous_year.apply(percent_string_to_num, \"% Change\")\n",
    "\n",
    "# Calculate the previous year's pay\n",
    "current_pay = having_previous_year.apply(convert_pay_string_to_number, \"Total Pay\")\n",
    "previous_pay = current_pay / (1 + percent_changes)\n",
    "\n",
    "# Add the previous year's pay as a new column\n",
    "with_previous_compensation = having_previous_year.with_column(\"2014 Total Pay ($)\", previous_pay)\n",
    "\n",
    "# Display the resulting table\n",
    "with_previous_compensation"
   ]
  },
  {
   "cell_type": "code",
   "execution_count": 100,
   "id": "ff98e268",
   "metadata": {
    "deletable": false,
    "editable": false
   },
   "outputs": [
    {
     "data": {
      "text/html": [
       "<p><strong><pre style='display: inline;'>q35</pre></strong> passed! 💯</p>"
      ],
      "text/plain": [
       "q35 results: All test cases passed!"
      ]
     },
     "execution_count": 100,
     "metadata": {},
     "output_type": "execute_result"
    }
   ],
   "source": [
    "grader.check(\"q35\")"
   ]
  },
  {
   "cell_type": "markdown",
   "id": "f3c333f1",
   "metadata": {
    "deletable": false,
    "editable": false
   },
   "source": [
    "---\n",
    "\n",
    "**Question 3.6** Determine the average pay in 2014 of the CEOs that appear in the `with_previous_compensation` table. Assign this value to the variable `average_pay_2014`.\n"
   ]
  },
  {
   "cell_type": "code",
   "execution_count": 103,
   "id": "0ac9b04c",
   "metadata": {
    "tags": []
   },
   "outputs": [
    {
     "data": {
      "text/plain": [
       "11794790.817048479"
      ]
     },
     "execution_count": 103,
     "metadata": {},
     "output_type": "execute_result"
    }
   ],
   "source": [
    "import numpy as np\n",
    "\n",
    "# extract the 2014 Total Pay ($) column\n",
    "pay_2014 = with_previous_compensation.column(\"2014 Total Pay ($)\")\n",
    "\n",
    "# calculate the average pay in 2014\n",
    "average_pay_2014 = np.mean(pay_2014)\n",
    "\n",
    "# display the result\n",
    "average_pay_2014"
   ]
  },
  {
   "cell_type": "code",
   "execution_count": 104,
   "id": "501bc139",
   "metadata": {
    "deletable": false,
    "editable": false
   },
   "outputs": [
    {
     "data": {
      "text/html": [
       "<p><strong><pre style='display: inline;'>q36</pre></strong> passed! 🌟</p>"
      ],
      "text/plain": [
       "q36 results: All test cases passed!"
      ]
     },
     "execution_count": 104,
     "metadata": {},
     "output_type": "execute_result"
    }
   ],
   "source": [
    "grader.check(\"q36\")"
   ]
  },
  {
   "attachments": {},
   "cell_type": "markdown",
   "id": "d9a9b6e0",
   "metadata": {},
   "source": [
    "<hr style=\"border: 5px solid #003262;\" />\n",
    "<hr style=\"border: 1px solid #fdb515;\" />\n",
    "\n",
    "## 4. Histograms\n",
    "Earlier, we computed the average pay among the 102 CEOs in our dataset.  The average doesn't tell us everything about the amounts CEOs are paid, though.  Maybe just a few CEOs make the bulk of the money, even among these 102.\n",
    "\n",
    "We can use a *histogram* method to display the *distribution* of a set of numbers.  The table method `hist` takes a single argument, the name of a column of numbers.  It produces a histogram of the numbers in that column.\n",
    "\n",
    "---\n",
    "\n",
    "**Question 4.1.** Make a histogram of the total pay of the CEOs in `compensation`. Check with a peer or instructor to make sure you have the right plot. *If you get a warning, ignore it.*\n",
    "\n",
    "*Hint:* If you aren't sure how to create a histogram, refer to the [Python Reference sheet](https://www.data8.org/sp25/reference/)."
   ]
  },
  {
   "cell_type": "code",
   "execution_count": 78,
   "id": "1544e180",
   "metadata": {
    "tags": []
   },
   "outputs": [
    {
     "data": {
      "text/html": [
       "<table border=\"1\" class=\"dataframe\">\n",
       "    <thead>\n",
       "        <tr>\n",
       "            <th>Rank</th> <th>Name</th> <th>Company (Headquarters)</th> <th>Total Pay</th> <th>% Change</th> <th>Cash Pay</th> <th>Equity Pay</th> <th>Other Pay</th> <th>Ratio of CEO pay to average industry worker pay</th> <th>Total Pay ($)</th>\n",
       "        </tr>\n",
       "    </thead>\n",
       "    <tbody>\n",
       "        <tr>\n",
       "            <td>1   </td> <td>Mark V. Hurd*          </td> <td>Oracle (Redwood City)                          </td> <td>$53.25   </td> <td>(No previous year)</td> <td>$0.95   </td> <td>$52.27    </td> <td>$0.02    </td> <td>362                                            </td> <td>5.325e+07    </td>\n",
       "        </tr>\n",
       "        <tr>\n",
       "            <td>2   </td> <td>Safra A. Catz*         </td> <td>Oracle (Redwood City)                          </td> <td>$53.24   </td> <td>(No previous year)</td> <td>$0.95   </td> <td>$52.27    </td> <td>$0.02    </td> <td>362                                            </td> <td>5.324e+07    </td>\n",
       "        </tr>\n",
       "        <tr>\n",
       "            <td>3   </td> <td>Robert A. Iger         </td> <td>Walt Disney (Burbank)                          </td> <td>$44.91   </td> <td>-3%               </td> <td>$24.89  </td> <td>$17.28    </td> <td>$2.74    </td> <td>477                                            </td> <td>4.491e+07    </td>\n",
       "        </tr>\n",
       "        <tr>\n",
       "            <td>4   </td> <td>Marissa A. Mayer       </td> <td>Yahoo! (Sunnyvale)                             </td> <td>$35.98   </td> <td>-15%              </td> <td>$1.00   </td> <td>$34.43    </td> <td>$0.55    </td> <td>342                                            </td> <td>3.598e+07    </td>\n",
       "        </tr>\n",
       "        <tr>\n",
       "            <td>5   </td> <td>Marc Benioff           </td> <td>salesforce.com (San Francisco)                 </td> <td>$33.36   </td> <td>-16%              </td> <td>$4.65   </td> <td>$27.26    </td> <td>$1.45    </td> <td>338                                            </td> <td>3.336e+07    </td>\n",
       "        </tr>\n",
       "        <tr>\n",
       "            <td>6   </td> <td>John H. Hammergren     </td> <td>McKesson (San Francisco)                       </td> <td>$24.84   </td> <td>-4%               </td> <td>$12.10  </td> <td>$12.37    </td> <td>$0.37    </td> <td>222                                            </td> <td>2.484e+07    </td>\n",
       "        </tr>\n",
       "        <tr>\n",
       "            <td>7   </td> <td>John S. Watson         </td> <td>Chevron (San Ramon)                            </td> <td>$22.04   </td> <td>-15%              </td> <td>$4.31   </td> <td>$14.68    </td> <td>$3.05    </td> <td>183                                            </td> <td>2.204e+07    </td>\n",
       "        </tr>\n",
       "        <tr>\n",
       "            <td>8   </td> <td>Jeffrey Weiner         </td> <td>LinkedIn (Mountain View)                       </td> <td>$19.86   </td> <td>27%               </td> <td>$2.47   </td> <td>$17.26    </td> <td>$0.13    </td> <td>182                                            </td> <td>1.986e+07    </td>\n",
       "        </tr>\n",
       "        <tr>\n",
       "            <td>9   </td> <td>John T. Chambers**     </td> <td>Cisco Systems (San Jose)                       </td> <td>$19.62   </td> <td>19%               </td> <td>$5.10   </td> <td>$14.51    </td> <td>$0.01    </td> <td>170                                            </td> <td>1.962e+07    </td>\n",
       "        </tr>\n",
       "        <tr>\n",
       "            <td>10  </td> <td>John G. Stumpf         </td> <td>Wells Fargo  (San Francisco)                   </td> <td>$19.32   </td> <td>-10%              </td> <td>$6.80   </td> <td>$12.50    </td> <td>$0.02    </td> <td>256                                            </td> <td>1.932e+07    </td>\n",
       "        </tr>\n",
       "        <tr>\n",
       "            <td>11  </td> <td>John C. Martin**       </td> <td>Gilead Sciences (Foster City)                  </td> <td>$18.76   </td> <td>-1%               </td> <td>$5.77   </td> <td>$12.98    </td> <td>$0.01    </td> <td>117                                            </td> <td>1.876e+07    </td>\n",
       "        </tr>\n",
       "        <tr>\n",
       "            <td>12  </td> <td>Michael S. Burke       </td> <td>AECOM Technology (Los Angeles)                 </td> <td>$18.61   </td> <td>(No previous year)</td> <td>$4.12   </td> <td>$14.00    </td> <td>$0.49    </td> <td>199                                            </td> <td>1.861e+07    </td>\n",
       "        </tr>\n",
       "        <tr>\n",
       "            <td>13  </td> <td>Shantanu Narayen       </td> <td>Adobe Systems (San Jose)                       </td> <td>$18.36   </td> <td>3%                </td> <td>$2.41   </td> <td>$15.85    </td> <td>$0.09    </td> <td>125                                            </td> <td>1.836e+07    </td>\n",
       "        </tr>\n",
       "        <tr>\n",
       "            <td>14  </td> <td>Gary E. Dickerson      </td> <td>Applied Materials (Santa Clara)                </td> <td>$18.09   </td> <td>10%               </td> <td>$3.09   </td> <td>$10.82    </td> <td>$4.19    </td> <td>131                                            </td> <td>1.809e+07    </td>\n",
       "        </tr>\n",
       "        <tr>\n",
       "            <td>15  </td> <td>Margaret C. Whitman**  </td> <td>Hewlett-Packard (Palo Alto)                    </td> <td>$17.10   </td> <td>-13%              </td> <td>$3.95   </td> <td>$12.85    </td> <td>$0.30    </td> <td>89                                             </td> <td>1.71e+07     </td>\n",
       "        </tr>\n",
       "        <tr>\n",
       "            <td>16  </td> <td>Reed Hastings          </td> <td>Netflix (Los Gatos)                            </td> <td>$16.63   </td> <td>50%               </td> <td>$1.12   </td> <td>$15.50    </td> <td>$0.02    </td> <td>161                                            </td> <td>1.663e+07    </td>\n",
       "        </tr>\n",
       "        <tr>\n",
       "            <td>17  </td> <td>Michael A. Brown**     </td> <td>Symantec (Mountain View)                       </td> <td>$16.33   </td> <td>(No previous year)</td> <td>$2.13   </td> <td>$14.18    </td> <td>$0.02    </td> <td>178                                            </td> <td>1.633e+07    </td>\n",
       "        </tr>\n",
       "        <tr>\n",
       "            <td>18  </td> <td>Debra L. Reed          </td> <td>Sempra Energy (San Diego)                      </td> <td>$16.14   </td> <td>-4%               </td> <td>$4.52   </td> <td>$7.16     </td> <td>$4.46    </td> <td>152                                            </td> <td>1.614e+07    </td>\n",
       "        </tr>\n",
       "        <tr>\n",
       "            <td>19  </td> <td>Robert A. Bradway      </td> <td>Amgen (Thousand Oaks)                          </td> <td>$16.10   </td> <td>15%               </td> <td>$5.35   </td> <td>$10.20    </td> <td>$0.55    </td> <td>152                                            </td> <td>1.61e+07     </td>\n",
       "        </tr>\n",
       "        <tr>\n",
       "            <td>20  </td> <td>Brad D. Smith          </td> <td>Intuit (Mountain View)                         </td> <td>$16.02   </td> <td>-3%               </td> <td>$2.46   </td> <td>$13.55    </td> <td>$0.01    </td> <td>150                                            </td> <td>1.602e+07    </td>\n",
       "        </tr>\n",
       "        <tr>\n",
       "            <td>21  </td> <td>Gregory E. Johnson     </td> <td>Franklin Resources (San Mateo)                 </td> <td>$15.10   </td> <td>-5%               </td> <td>$4.43   </td> <td>$10.60    </td> <td>$0.06    </td> <td>92                                             </td> <td>1.51e+07     </td>\n",
       "        </tr>\n",
       "        <tr>\n",
       "            <td>22  </td> <td>Hamid R. Moghadam      </td> <td>Prologis (San Francisco)                       </td> <td>$14.98   </td> <td>-9%               </td> <td>$3.27   </td> <td>$11.62    </td> <td>$0.10    </td> <td>196                                            </td> <td>1.498e+07    </td>\n",
       "        </tr>\n",
       "        <tr>\n",
       "            <td>23  </td> <td>Brian M. Krzanich      </td> <td>Intel (Santa Clara)                            </td> <td>$14.63   </td> <td>31%               </td> <td>$4.55   </td> <td>$9.80     </td> <td>$0.28    </td> <td>106                                            </td> <td>1.463e+07    </td>\n",
       "        </tr>\n",
       "        <tr>\n",
       "            <td>24  </td> <td>Devin N. Wenig         </td> <td>eBay (San Jose)                                </td> <td>$14.51   </td> <td>(No previous year)</td> <td>$3.64   </td> <td>$10.86    </td> <td>$0.02    </td> <td>295                                            </td> <td>1.451e+07    </td>\n",
       "        </tr>\n",
       "        <tr>\n",
       "            <td>25  </td> <td>Daniel H. Schulman     </td> <td>PayPal Holdings (San Jose)                     </td> <td>$14.44   </td> <td>(No previous year)</td> <td>$3.32   </td> <td>$10.36    </td> <td>$0.76    </td> <td>178                                            </td> <td>1.444e+07    </td>\n",
       "        </tr>\n",
       "        <tr>\n",
       "            <td>26  </td> <td>Patrick P. Gelsinger   </td> <td>VMware (Palo Alto)                             </td> <td>$14.36   </td> <td>68%               </td> <td>$2.44   </td> <td>$11.90    </td> <td>$0.01    </td> <td>98                                             </td> <td>1.436e+07    </td>\n",
       "        </tr>\n",
       "        <tr>\n",
       "            <td>27  </td> <td>Jay M. Gellert**       </td> <td>Health Net (Woodland Hills)                    </td> <td>$14.31   </td> <td>15%               </td> <td>$4.55   </td> <td>$7.24     </td> <td>$2.52    </td> <td>173                                            </td> <td>1.431e+07    </td>\n",
       "        </tr>\n",
       "        <tr>\n",
       "            <td>28  </td> <td>Victor Herrero         </td> <td>Guess (Los Angeles)                            </td> <td>$14.09   </td> <td>(No previous year)</td> <td>$3.69   </td> <td>$10.29    </td> <td>$0.11    </td> <td>360                                            </td> <td>1.409e+07    </td>\n",
       "        </tr>\n",
       "        <tr>\n",
       "            <td>29  </td> <td>Laura J. Alber         </td> <td>Williams-Sonoma (San Francisco)                </td> <td>$14.00   </td> <td>-5%               </td> <td>$3.97   </td> <td>$10.00    </td> <td>$0.02    </td> <td>223                                            </td> <td>1.4e+07      </td>\n",
       "        </tr>\n",
       "        <tr>\n",
       "            <td>30  </td> <td>Ronald S. Nersesian    </td> <td>Keysight Technologies (Santa Rosa)             </td> <td>$13.67   </td> <td>118%              </td> <td>$2.14   </td> <td>$11.33    </td> <td>$0.20    </td> <td>132                                            </td> <td>1.367e+07    </td>\n",
       "        </tr>\n",
       "        <tr>\n",
       "            <td>31  </td> <td>Walter W. Bettinger    </td> <td>Charles Schwab (San Francisco)                 </td> <td>$12.34   </td> <td>4%                </td> <td>$4.71   </td> <td>$7.50     </td> <td>$0.12    </td> <td>47                                             </td> <td>1.234e+07    </td>\n",
       "        </tr>\n",
       "        <tr>\n",
       "            <td>32  </td> <td>Anthony F. Earley      </td> <td>PG&E (San Francisco)                           </td> <td>$12.20   </td> <td>5%                </td> <td>$3.53   </td> <td>$7.50     </td> <td>$1.17    </td> <td>147                                            </td> <td>1.22e+07     </td>\n",
       "        </tr>\n",
       "        <tr>\n",
       "            <td>33  </td> <td>Carl Bass              </td> <td>Autodesk (San Rafael)                          </td> <td>$12.18   </td> <td>10%               </td> <td>$2.48   </td> <td>$9.62     </td> <td>$0.08    </td> <td>83                                             </td> <td>1.218e+07    </td>\n",
       "        </tr>\n",
       "        <tr>\n",
       "            <td>34  </td> <td>Steven J. Demetriou    </td> <td>Jacobs Engineering Group (Pasadena)            </td> <td>$12.13   </td> <td>(No previous year)</td> <td>$5.78   </td> <td>$6.35     </td> <td>$0.01    </td> <td>173                                            </td> <td>1.213e+07    </td>\n",
       "        </tr>\n",
       "        <tr>\n",
       "            <td>35  </td> <td>Ronald N. Tutor        </td> <td>Tutor Perini (Sylmar)                          </td> <td>$12.05   </td> <td>-53%              </td> <td>$5.50   </td> <td>$5.64     </td> <td>$0.91    </td> <td>182                                            </td> <td>1.205e+07    </td>\n",
       "        </tr>\n",
       "        <tr>\n",
       "            <td>36  </td> <td>Charles W. Scharf      </td> <td>Visa (San Francisco)                           </td> <td>$11.84   </td> <td>54%               </td> <td>$4.31   </td> <td>$7.47     </td> <td>$0.06    </td> <td>157                                            </td> <td>1.184e+07    </td>\n",
       "        </tr>\n",
       "        <tr>\n",
       "            <td>37  </td> <td>Stephen D. Milligan    </td> <td>Western Digital (Irvine)                       </td> <td>$11.71   </td> <td>4%                </td> <td>$2.55   </td> <td>$9.15     </td> <td>$0.01    </td> <td>85                                             </td> <td>1.171e+07    </td>\n",
       "        </tr>\n",
       "        <tr>\n",
       "            <td>38  </td> <td>Andrew Wilson          </td> <td>Electronic Arts  (Redwood City)                </td> <td>$11.63   </td> <td>(No previous year)</td> <td>$2.88   </td> <td>$8.70     </td> <td>$0.06    </td> <td>79                                             </td> <td>1.163e+07    </td>\n",
       "        </tr>\n",
       "        <tr>\n",
       "            <td>39  </td> <td>Martin B. Anstice      </td> <td>Lam Research (Fremont)                         </td> <td>$11.16   </td> <td>-26%              </td> <td>$4.75   </td> <td>$6.41     </td> <td>$0.01    </td> <td>81                                             </td> <td>1.116e+07    </td>\n",
       "        </tr>\n",
       "        <tr>\n",
       "            <td>40  </td> <td>Theodore F. Craver, Jr.</td> <td>Edison International (Rosemead)                </td> <td>$11.11   </td> <td>-22%              </td> <td>$2.90   </td> <td>$5.94     </td> <td>$2.28    </td> <td>107                                            </td> <td>1.111e+07    </td>\n",
       "        </tr>\n",
       "        <tr>\n",
       "            <td>41  </td> <td>Stephen M. Smith       </td> <td>Equinix (Redwood City)                         </td> <td>$11.11   </td> <td>-3%               </td> <td>$2.04   </td> <td>$9.06     </td> <td>$0.01    </td> <td>102                                            </td> <td>1.111e+07    </td>\n",
       "        </tr>\n",
       "        <tr>\n",
       "            <td>42  </td> <td>Sanjay Mehrotra**      </td> <td>SanDisk (Milpitas)                             </td> <td>$10.73   </td> <td>-7%               </td> <td>$1.55   </td> <td>$9.00     </td> <td>$0.17    </td> <td>78                                             </td> <td>1.073e+07    </td>\n",
       "        </tr>\n",
       "        <tr>\n",
       "            <td>43  </td> <td>Ronald L. Havner, Jr.  </td> <td>Public Storage (Glendale)                      </td> <td>$10.50   </td> <td>17%               </td> <td>$3.50   </td> <td>$6.99     </td> <td>$0.01    </td> <td>256                                            </td> <td>1.05e+07     </td>\n",
       "        </tr>\n",
       "        <tr>\n",
       "            <td>44  </td> <td>Rodney C. Sacks        </td> <td>Monster Beverage (Corona)                      </td> <td>$10.43   </td> <td>36%               </td> <td>$1.13   </td> <td>$9.23     </td> <td>$0.08    </td> <td>190                                            </td> <td>1.043e+07    </td>\n",
       "        </tr>\n",
       "        <tr>\n",
       "            <td>45  </td> <td>Steven M. Mollenkopf   </td> <td>Qualcomm (San Diego)                           </td> <td>$10.37   </td> <td>(No previous year)</td> <td>$2.17   </td> <td>$8.00     </td> <td>$0.21    </td> <td>95                                             </td> <td>1.037e+07    </td>\n",
       "        </tr>\n",
       "        <tr>\n",
       "            <td>46  </td> <td>Tim Cook               </td> <td>Apple (Cupertino)                              </td> <td>$10.28   </td> <td>11%               </td> <td>$10.00  </td> <td>$0.00     </td> <td>$0.28    </td> <td>54                                             </td> <td>1.028e+07    </td>\n",
       "        </tr>\n",
       "        <tr>\n",
       "            <td>47  </td> <td>J. Mario Molina        </td> <td>Molina Healthcare (Long Beach)                 </td> <td>$10.27   </td> <td>31%               </td> <td>$2.36   </td> <td>$7.89     </td> <td>$0.02    </td> <td>124                                            </td> <td>1.027e+07    </td>\n",
       "        </tr>\n",
       "        <tr>\n",
       "            <td>48  </td> <td>Jure Sola              </td> <td>Sanmina (San Jose)                             </td> <td>$10.18   </td> <td>22%               </td> <td>$2.32   </td> <td>$7.81     </td> <td>$0.06    </td> <td>144                                            </td> <td>1.018e+07    </td>\n",
       "        </tr>\n",
       "        <tr>\n",
       "            <td>49  </td> <td>Barbara Rentler        </td> <td>Ross Stores (Dublin)                           </td> <td>$10.16   </td> <td>(No previous year)</td> <td>$3.85   </td> <td>$6.20     </td> <td>$0.11    </td> <td>554                                            </td> <td>1.016e+07    </td>\n",
       "        </tr>\n",
       "        <tr>\n",
       "            <td>50  </td> <td>Jen-Hsun Huang         </td> <td>NVIDIA (Santa Clara)                           </td> <td>$9.97    </td> <td>7%                </td> <td>$2.51   </td> <td>$7.46     </td> <td>$0.00    </td> <td>72                                             </td> <td>9.97e+06     </td>\n",
       "        </tr>\n",
       "        <tr>\n",
       "            <td>51  </td> <td>Michael Rapino         </td> <td>Live Nation Entertainment (Beverly Hills)      </td> <td>$9.96    </td> <td>-10%              </td> <td>$7.36   </td> <td>$2.52     </td> <td>$0.08    </td> <td>280                                            </td> <td>9.96e+06     </td>\n",
       "        </tr>\n",
       "        <tr>\n",
       "            <td>52  </td> <td>Harold M. Messmer      </td> <td>Robert Half International  (Menlo Park)        </td> <td>$9.86    </td> <td>8%                </td> <td>$3.65   </td> <td>$6.21     </td> <td>$0.00    </td> <td>324                                            </td> <td>9.86e+06     </td>\n",
       "        </tr>\n",
       "        <tr>\n",
       "            <td>53  </td> <td>Christopher A. Sinclair</td> <td>Mattel (El Segundo)                            </td> <td>$9.74    </td> <td>(No previous year)</td> <td>$2.35   </td> <td>$6.50     </td> <td>$0.90    </td> <td>139                                            </td> <td>9.74e+06     </td>\n",
       "        </tr>\n",
       "        <tr>\n",
       "            <td>54  </td> <td>Rami Rahim             </td> <td>Juniper Networks (Sunnyvale)                   </td> <td>$9.42    </td> <td>(No previous year)</td> <td>$2.01   </td> <td>$7.40     </td> <td>$0.02    </td> <td>82                                             </td> <td>9.42e+06     </td>\n",
       "        </tr>\n",
       "        <tr>\n",
       "            <td>55  </td> <td>Thomas Georgens**      </td> <td>NetApp (Sunnyvale)                             </td> <td>$9.39    </td> <td>9%                </td> <td>$1.93   </td> <td>$7.45     </td> <td>$0.01    </td> <td>68                                             </td> <td>9.39e+06     </td>\n",
       "        </tr>\n",
       "        <tr>\n",
       "            <td>56  </td> <td>Jay T. Flatley**       </td> <td>Illumina (San Diego)                           </td> <td>$9.22    </td> <td>-38%              </td> <td>$2.15   </td> <td>$7.00     </td> <td>$0.06    </td> <td>70                                             </td> <td>9.22e+06     </td>\n",
       "        </tr>\n",
       "        <tr>\n",
       "            <td>57  </td> <td>Michael A. Mussallem   </td> <td>Edwards Lifesciences (Irvine)                  </td> <td>$9.06    </td> <td>5%                </td> <td>$3.05   </td> <td>$5.84     </td> <td>$0.18    </td> <td>119                                            </td> <td>9.06e+06     </td>\n",
       "        </tr>\n",
       "        <tr>\n",
       "            <td>58  </td> <td>Alain Monie            </td> <td>Ingram Micro (Irvine)                          </td> <td>$9.03    </td> <td>8%                </td> <td>$3.50   </td> <td>$5.50     </td> <td>$0.03    </td> <td>72                                             </td> <td>9.03e+06     </td>\n",
       "        </tr>\n",
       "        <tr>\n",
       "            <td>59  </td> <td>Jeffrey T. Mezger      </td> <td>KB Home (Los Angeles)                          </td> <td>$8.86    </td> <td>-14%              </td> <td>$4.97   </td> <td>$3.81     </td> <td>$0.07    </td> <td>165                                            </td> <td>8.86e+06     </td>\n",
       "        </tr>\n",
       "        <tr>\n",
       "            <td>60  </td> <td>Steven W. Berglund     </td> <td>Trimble Navigation  (Sunnyvale)                </td> <td>$8.76    </td> <td>24%               </td> <td>$1.03   </td> <td>$7.72     </td> <td>$0.00    </td> <td>109                                            </td> <td>8.76e+06     </td>\n",
       "        </tr>\n",
       "        <tr>\n",
       "            <td>61  </td> <td>Dean A. Scarborough**  </td> <td>Avery Dennison (Glendale)                      </td> <td>$8.57    </td> <td>-29%              </td> <td>$3.02   </td> <td>$5.24     </td> <td>$0.30    </td> <td>115                                            </td> <td>8.57e+06     </td>\n",
       "        </tr>\n",
       "        <tr>\n",
       "            <td>62  </td> <td>Richard P. Wallace     </td> <td>KLA-Tencor (Milpitas)                          </td> <td>$8.38    </td> <td>22%               </td> <td>$2.05   </td> <td>$6.30     </td> <td>$0.03    </td> <td>114                                            </td> <td>8.38e+06     </td>\n",
       "        </tr>\n",
       "        <tr>\n",
       "            <td>63  </td> <td>Gregg J. Mollins       </td> <td>Reliance Steelæ& Aluminum (Los Angeles)        </td> <td>$8.36    </td> <td>(No previous year)</td> <td>$2.09   </td> <td>$5.57     </td> <td>$0.70    </td> <td>130                                            </td> <td>8.36e+06     </td>\n",
       "        </tr>\n",
       "        <tr>\n",
       "            <td>64  </td> <td>Lloyd A. Carney        </td> <td>Brocade Communications Systems (San Jose)      </td> <td>$8.35    </td> <td>-17%              </td> <td>$1.98   </td> <td>$6.37     </td> <td>$0.00    </td> <td>61                                             </td> <td>8.35e+06     </td>\n",
       "        </tr>\n",
       "        <tr>\n",
       "            <td>65  </td> <td>Robert L. Antin        </td> <td>VCA (Los Angeles)                              </td> <td>$8.23    </td> <td>19%               </td> <td>$3.57   </td> <td>$4.30     </td> <td>$0.37    </td> <td>226                                            </td> <td>8.23e+06     </td>\n",
       "        </tr>\n",
       "        <tr>\n",
       "            <td>66  </td> <td>Benno O. Dorer         </td> <td>Clorox (Oakland)                               </td> <td>$7.86    </td> <td>(No previous year)</td> <td>$2.47   </td> <td>$5.00     </td> <td>$0.39    </td> <td>96                                             </td> <td>7.86e+06     </td>\n",
       "        </tr>\n",
       "        <tr>\n",
       "            <td>67  </td> <td>Robert E. Sulentic     </td> <td>CBRE Group (Los Angeles)                       </td> <td>$7.70    </td> <td>21%               </td> <td>$3.57   </td> <td>$4.12     </td> <td>$0.00    </td> <td>135                                            </td> <td>7.7e+06      </td>\n",
       "        </tr>\n",
       "        <tr>\n",
       "            <td>68  </td> <td>Peter T. Dameris       </td> <td>On Assignment  (Calabasas)                     </td> <td>$7.58    </td> <td>36%               </td> <td>$2.47   </td> <td>$5.10     </td> <td>$0.01    </td> <td>250                                            </td> <td>7.58e+06     </td>\n",
       "        </tr>\n",
       "        <tr>\n",
       "            <td>69  </td> <td>Dow R. Wilson          </td> <td>Varian Medical Systems (Palo Alto)             </td> <td>$7.51    </td> <td>16%               </td> <td>$1.86   </td> <td>$5.50     </td> <td>$0.15    </td> <td>72                                             </td> <td>7.51e+06     </td>\n",
       "        </tr>\n",
       "        <tr>\n",
       "            <td>70  </td> <td>Robert A. Kotick       </td> <td>Activision Blizzard (Santa Monica)             </td> <td>$7.23    </td> <td>5%                </td> <td>$7.14   </td> <td>$0.00     </td> <td>$0.09    </td> <td>49                                             </td> <td>7.23e+06     </td>\n",
       "        </tr>\n",
       "        <tr>\n",
       "            <td>71  </td> <td>Michael R. McMullen    </td> <td>Agilent Technologies (Santa Clara)             </td> <td>$7.21    </td> <td>(No previous year)</td> <td>$1.96   </td> <td>$4.95     </td> <td>$0.30    </td> <td>76                                             </td> <td>7.21e+06     </td>\n",
       "        </tr>\n",
       "        <tr>\n",
       "            <td>72  </td> <td>Robert Y. Greenberg    </td> <td>Skechers U.S.A. (Manhattan Beach)              </td> <td>$7.12    </td> <td>-25%              </td> <td>$6.85   </td> <td>$0.00     </td> <td>$0.27    </td> <td>182                                            </td> <td>7.12e+06     </td>\n",
       "        </tr>\n",
       "        <tr>\n",
       "            <td>73  </td> <td>Lauralee E. Martin     </td> <td>HCP (Irvine)                                   </td> <td>$6.88    </td> <td>-45%              </td> <td>$2.19   </td> <td>$4.68     </td> <td>$0.01    </td> <td>152                                            </td> <td>6.88e+06     </td>\n",
       "        </tr>\n",
       "        <tr>\n",
       "            <td>74  </td> <td>Jon Feltheimer         </td> <td>Lions Gate Entertainment (Santa Monica)        </td> <td>$6.77    </td> <td>-90%              </td> <td>$5.55   </td> <td>$1.00     </td> <td>$0.22    </td> <td>46                                             </td> <td>6.77e+06     </td>\n",
       "        </tr>\n",
       "        <tr>\n",
       "            <td>75  </td> <td>Todd A. Stevens        </td> <td>California Resources  (Los Angeles)            </td> <td>$6.64    </td> <td>(No previous year)</td> <td>$1.58   </td> <td>$4.65     </td> <td>$0.41    </td> <td>41                                             </td> <td>6.64e+06     </td>\n",
       "        </tr>\n",
       "        <tr>\n",
       "            <td>76  </td> <td>Lisa T. Su             </td> <td>Advanced Micro Devices (Sunnyvale)             </td> <td>$6.56    </td> <td>(No previous year)</td> <td>$1.15   </td> <td>$5.38     </td> <td>$0.03    </td> <td>48                                             </td> <td>6.56e+06     </td>\n",
       "        </tr>\n",
       "        <tr>\n",
       "            <td>77  </td> <td>Arthur Peck            </td> <td>Gap (San Francisco)                            </td> <td>$6.14    </td> <td>(No previous year)</td> <td>$1.30   </td> <td>$4.81     </td> <td>$0.03    </td> <td>335                                            </td> <td>6.14e+06     </td>\n",
       "        </tr>\n",
       "        <tr>\n",
       "            <td>78  </td> <td>David Overton          </td> <td>Cheesecake Factory  (Calabasas Hills)          </td> <td>$5.92    </td> <td>10%               </td> <td>$2.20   </td> <td>$3.59     </td> <td>$0.13    </td> <td>303                                            </td> <td>5.92e+06     </td>\n",
       "        </tr>\n",
       "        <tr>\n",
       "            <td>79  </td> <td>Moshe N. Gavrielov     </td> <td>Xilinx (San Jose)                              </td> <td>$5.90    </td> <td>-9%               </td> <td>$1.61   </td> <td>$4.29     </td> <td>$0.00    </td> <td>43                                             </td> <td>5.9e+06      </td>\n",
       "        </tr>\n",
       "        <tr>\n",
       "            <td>80  </td> <td>Tunc Doluca            </td> <td>Maxim Integrated Products (San Jose)           </td> <td>$5.89    </td> <td>57%               </td> <td>$1.59   </td> <td>$4.29     </td> <td>$0.02    </td> <td>43                                             </td> <td>5.89e+06     </td>\n",
       "        </tr>\n",
       "        <tr>\n",
       "            <td>81  </td> <td>Dennis J. Gilmore      </td> <td>First American Financial (Santa Ana)           </td> <td>$5.73    </td> <td>2%                </td> <td>$3.16   </td> <td>$2.56     </td> <td>$0.01    </td> <td>68                                             </td> <td>5.73e+06     </td>\n",
       "        </tr>\n",
       "        <tr>\n",
       "            <td>82  </td> <td>Dan L. Batrack         </td> <td>Tetra Tech (Pasadena)                          </td> <td>$5.42    </td> <td>20%               </td> <td>$1.95   </td> <td>$3.43     </td> <td>$0.04    </td> <td>58                                             </td> <td>5.42e+06     </td>\n",
       "        </tr>\n",
       "        <tr>\n",
       "            <td>83  </td> <td>Mark E. Zuckerberg     </td> <td>Facebook (Menlo Park)                          </td> <td>$5.04    </td> <td>-19%              </td> <td>$0.00   </td> <td>$0.00     </td> <td>$5.04    </td> <td>46                                             </td> <td>5.04e+06     </td>\n",
       "        </tr>\n",
       "        <tr>\n",
       "            <td>84  </td> <td>Aart J. de Geus*       </td> <td>Synopsys (Mountain View)                       </td> <td>$4.92    </td> <td>10%               </td> <td>$2.32   </td> <td>$2.57     </td> <td>$0.03    </td> <td>54                                             </td> <td>4.92e+06     </td>\n",
       "        </tr>\n",
       "        <tr>\n",
       "            <td>85  </td> <td>Chi-Foon Chan*         </td> <td>Synopsys (Mountain View)                       </td> <td>$4.92    </td> <td>9%                </td> <td>$2.32   </td> <td>$2.57     </td> <td>$0.03    </td> <td>54                                             </td> <td>4.92e+06     </td>\n",
       "        </tr>\n",
       "        <tr>\n",
       "            <td>86  </td> <td>Douglas F. Bauer       </td> <td>TRI Pointe Group (Irvine)                      </td> <td>$4.47    </td> <td>114%              </td> <td>$1.33   </td> <td>$3.12     </td> <td>$0.02    </td> <td>83                                             </td> <td>4.47e+06     </td>\n",
       "        </tr>\n",
       "        <tr>\n",
       "            <td>87  </td> <td>Burton M. Goldfield    </td> <td>TriNet Group (San Leandro)                     </td> <td>$4.25    </td> <td>76%               </td> <td>$0.69   </td> <td>$3.50     </td> <td>$0.06    </td> <td>49                                             </td> <td>4.25e+06     </td>\n",
       "        </tr>\n",
       "        <tr>\n",
       "            <td>88  </td> <td>Robert Mehrabian       </td> <td>Teledyne Technologies  (Thousand Oaks)         </td> <td>$4.08    </td> <td>-52%              </td> <td>$1.98   </td> <td>$1.63     </td> <td>$0.46    </td> <td>37                                             </td> <td>4.08e+06     </td>\n",
       "        </tr>\n",
       "        <tr>\n",
       "            <td>89  </td> <td>Kevin M. Murai         </td> <td>SYNNEX (Fremont)                               </td> <td>$3.93    </td> <td>-48%              </td> <td>$1.84   </td> <td>$2.07     </td> <td>$0.01    </td> <td>31                                             </td> <td>3.93e+06     </td>\n",
       "        </tr>\n",
       "        <tr>\n",
       "            <td>90  </td> <td>Gary S. Guthart        </td> <td>Intuitive Surgical (Sunnyvale)                 </td> <td>$3.72    </td> <td>42%               </td> <td>$1.21   </td> <td>$2.52     </td> <td>$0.00    </td> <td>49                                             </td> <td>3.72e+06     </td>\n",
       "        </tr>\n",
       "        <tr>\n",
       "            <td>91  </td> <td>Larry T. Nicholson     </td> <td>CalAtlantic Group (Irvine)                     </td> <td>$2.88    </td> <td>(No previous year)</td> <td>$2.85   </td> <td>$0.00     </td> <td>$0.03    </td> <td>37                                             </td> <td>2.88e+06     </td>\n",
       "        </tr>\n",
       "        <tr>\n",
       "            <td>92  </td> <td>James H. Roberts       </td> <td>Granite Construction (Watsonville)             </td> <td>$2.83    </td> <td>22%               </td> <td>$1.73   </td> <td>$0.98     </td> <td>$0.12    </td> <td>40                                             </td> <td>2.83e+06     </td>\n",
       "        </tr>\n",
       "        <tr>\n",
       "            <td>93  </td> <td>Thomas T. Edman        </td> <td>TTM Technologies (Costa Mesa)                  </td> <td>$2.82    </td> <td>87%               </td> <td>$1.89   </td> <td>$0.92     </td> <td>$0.01    </td> <td>43                                             </td> <td>2.82e+06     </td>\n",
       "        </tr>\n",
       "        <tr>\n",
       "            <td>94  </td> <td>Gabriel Tirador        </td> <td>Mercury General (Los Angeles)                  </td> <td>$2.45    </td> <td>-4%               </td> <td>$1.85   </td> <td>$0.54     </td> <td>$0.06    </td> <td>28                                             </td> <td>2.45e+06     </td>\n",
       "        </tr>\n",
       "        <tr>\n",
       "            <td>95  </td> <td>Thomas B. Perkins      </td> <td>Core-Mark Holding Company (South San Francisco)</td> <td>$1.79    </td> <td>9%                </td> <td>$0.91   </td> <td>$0.87     </td> <td>$0.01    </td> <td>31                                             </td> <td>1.79e+06     </td>\n",
       "        </tr>\n",
       "        <tr>\n",
       "            <td>96  </td> <td>Gary G. Friedman       </td> <td>Restoration Hardware Holdings (Corte Madera)   </td> <td>$1.68    </td> <td>-35%              </td> <td>$1.66   </td> <td>$0.00     </td> <td>$0.02    </td> <td>28                                             </td> <td>1.68e+06     </td>\n",
       "        </tr>\n",
       "        <tr>\n",
       "            <td>97  </td> <td>David G. Hirz          </td> <td>Smartæ& Final Stores (Commerce)                </td> <td>$1.53    </td> <td>-66%              </td> <td>$1.50   </td> <td>$0.00     </td> <td>$0.04    </td> <td>26                                             </td> <td>1.53e+06     </td>\n",
       "        </tr>\n",
       "        <tr>\n",
       "            <td>98  </td> <td>Gregory N. Roberts     </td> <td>A-Mark Precious Metals (Santa Monica)          </td> <td>$0.94    </td> <td>-11%              </td> <td>$0.93   </td> <td>$0.00     </td> <td>$0.02    </td> <td>17                                             </td> <td>940000       </td>\n",
       "        </tr>\n",
       "        <tr>\n",
       "            <td>99  </td> <td>Jose L. Laparte        </td> <td>PriceSmart (San Diego)                         </td> <td>$0.81    </td> <td>-7%               </td> <td>$0.71   </td> <td>$0.00     </td> <td>$0.10    </td> <td>32                                             </td> <td>810000       </td>\n",
       "        </tr>\n",
       "        <tr>\n",
       "            <td>100 </td> <td>Jack Dorsey            </td> <td>Twitter (San Francisco)                        </td> <td>$0.07    </td> <td>(No previous year)</td> <td>$0.00   </td> <td>$0.00     </td> <td>$0.07    </td> <td>0.63                                           </td> <td>70000        </td>\n",
       "        </tr>\n",
       "        <tr>\n",
       "            <td>101 </td> <td>Elon R. Musk           </td> <td>Tesla Motors (Palo Alto)                       </td> <td>$0.04    </td> <td>6%                </td> <td>$0.04   </td> <td>$0.00     </td> <td>$0.00    </td> <td>0.46                                           </td> <td>40000        </td>\n",
       "        </tr>\n",
       "    </tbody>\n",
       "</table>"
      ],
      "text/plain": [
       "<IPython.core.display.HTML object>"
      ]
     },
     "metadata": {},
     "output_type": "display_data"
    },
    {
     "data": {
      "image/png": "[encoded data removed]",
      "text/plain": [
       "<Figure size 640x480 with 1 Axes>"
      ]
     },
     "metadata": {},
     "output_type": "display_data"
    }
   ],
   "source": [
    "plt.hist('compensation', bins=20)\n",
    "plt.title('Distribution of CEO Total Pay')\n",
    "plt.xlabel('Total Pay')\n",
    "plt.ylabel('Number of CEOs')\n",
    "compensation.show()"
   ]
  },
  {
   "cell_type": "markdown",
   "id": "04592633",
   "metadata": {
    "deletable": false,
    "editable": false
   },
   "source": [
    "--- \n",
    "\n",
    "**Question 4.2.** How many CEOs made more than $30 million in total pay? Find the value using code, then check that the value you found is consistent with what you see in the histogram.\n"
   ]
  },
  {
   "cell_type": "code",
   "execution_count": 109,
   "id": "419464cd",
   "metadata": {
    "tags": []
   },
   "outputs": [
    {
     "data": {
      "text/plain": [
       "5"
      ]
     },
     "execution_count": 109,
     "metadata": {},
     "output_type": "execute_result"
    }
   ],
   "source": [
    "# func to convert the Total Pay column to numeric values \n",
    "def convert_pay_string_to_number(pay_string):\n",
    "    return float(pay_string.replace('$', '').replace(',', '')) * 1e6  # Convert to USD dollars\n",
    "\n",
    "# conversion to stop annoying error \n",
    "total_pay_numeric = compensation.apply(convert_pay_string_to_number, \"Total Pay\")\n",
    "\n",
    "num_ceos_more_than_30_million_2 = compensation.where(total_pay_numeric > 30e6).num_rows\n",
    "num_ceos_more_than_30_million_2"
   ]
  },
  {
   "cell_type": "code",
   "execution_count": 110,
   "id": "bc07eed2",
   "metadata": {
    "deletable": false,
    "editable": false
   },
   "outputs": [
    {
     "data": {
      "text/html": [
       "<p><strong><pre style='display: inline;'>q42</pre></strong> passed! 🌈</p>"
      ],
      "text/plain": [
       "q42 results: All test cases passed!"
      ]
     },
     "execution_count": 110,
     "metadata": {},
     "output_type": "execute_result"
    }
   ],
   "source": [
    "grader.check(\"q42\")"
   ]
  },
  {
   "attachments": {},
   "cell_type": "markdown",
   "id": "1e25a250",
   "metadata": {
    "deletable": false,
    "editable": false
   },
   "source": [
    "<hr style=\"border: 5px solid #003262;\" />\n",
    "<hr style=\"border: 1px solid #fdb515;\" />\n",
    "\n",
    "## 5. Project 1 Partner Form\n",
    "\n",
    "Project 1 is going to be released **this Friday** (2/14)! \n",
    "\n",
    "1. For students enrolled in in-person <span style=\"color: #BC412B\">**Regular Labs**</span>, you have the option of working with a partner that is enrolled in your lab. Your GSI will be sending out a form to match you up with a partner for this project. You may also indicate if you're working alone or have already found a partner and do not need to be paired up. This form is **mandatory** - please fill it out before submitting your lab. Set `submitted` to `True` once you've submitted the form.\n",
    "\n",
    "2. For students enrolled in <span style=\"color: #04888B\">**Self Service**</span>, you have the option to work with a partner who is in self-service. You can use this [edThread](https://edstem.org/us/courses/73504/discussion/6120095) to find a partner if you want one. If you wish to work alone, no further action is required. Please set `submitted` to `True` to get credit for this problem.\n",
    "\n",
    "Note: If you are completing this lab early, the form may not have been sent out yet. Set `submitted` to `True` for now, and keep an eye out for an email from your GSI later this week.\n"
   ]
  },
  {
   "cell_type": "code",
   "execution_count": 113,
   "id": "33f44390",
   "metadata": {
    "tags": []
   },
   "outputs": [],
   "source": [
    "submitted = True"
   ]
  },
  {
   "cell_type": "code",
   "execution_count": 114,
   "id": "b0419b0c",
   "metadata": {
    "deletable": false,
    "editable": false
   },
   "outputs": [
    {
     "data": {
      "text/html": [
       "<p><strong><pre style='display: inline;'>q5</pre></strong> passed! 🎉</p>"
      ],
      "text/plain": [
       "q5 results: All test cases passed!"
      ]
     },
     "execution_count": 114,
     "metadata": {},
     "output_type": "execute_result"
    }
   ],
   "source": [
    "grader.check(\"q5\")"
   ]
  },
  {
   "attachments": {},
   "cell_type": "markdown",
   "id": "81e1c67e",
   "metadata": {},
   "source": [
    "## Pets of Data 8\n",
    "\n",
    "### Hobbes is an awesome kitty\n",
    "\n",
    "**Hobbes** is proud of your work.\n",
    "\n",
    "<img src=\"hobbes.png\" width=\"40%\" alt=\"Orange cat on patio\"/>\n",
    "\n",
    "Congrats on finishing Lab 4!"
   ]
  },
  {
   "attachments": {},
   "cell_type": "markdown",
   "id": "c4071eda",
   "metadata": {},
   "source": [
    "\n",
    "---\n",
    "\n",
    "You're done with lab!\n",
    "\n",
    "**Important submission information:**\n",
    "- **Run all the tests** and verify that they all pass\n",
    "- **Save** from the **File** menu\n",
    "- **Run the final cell to generate the zip file**\n",
    "- **Click the link to download the zip file**\n",
    "- Then, go to [Gradescope](https://www.gradescope.com/courses/952061) and submit the zip file to the corresponding assignment. The name of this assignment is \"Lab XX Autograder\", where XX is the lab number -- 01, 02, 03, etc.\n",
    "\n",
    "- If you finish early in Regular Lab, **ask one of the staff members to check you off**.\n",
    "\n",
    "**It is your responsibility to make sure your work is saved before running the last cell.**\n"
   ]
  },
  {
   "cell_type": "markdown",
   "id": "645e3513",
   "metadata": {
    "deletable": false,
    "editable": false
   },
   "source": [
    "---\n",
    "\n",
    "To double-check your work, the cell below will rerun all of the autograder tests."
   ]
  },
  {
   "cell_type": "code",
   "execution_count": null,
   "id": "146c6069",
   "metadata": {
    "deletable": false,
    "editable": false
   },
   "outputs": [],
   "source": [
    "grader.check_all()"
   ]
  },
  {
   "cell_type": "markdown",
   "id": "9d7b7ec4",
   "metadata": {
    "deletable": false,
    "editable": false
   },
   "source": [
    "## Submission\n",
    "\n",
    "Make sure you have run all cells in your notebook in order before running the cell below, so that all images/graphs appear in the output. The cell below will generate a zip file for you to submit. **Please save before exporting!**"
   ]
  },
  {
   "cell_type": "code",
   "execution_count": null,
   "id": "fd854897",
   "metadata": {
    "deletable": false,
    "editable": false
   },
   "outputs": [],
   "source": [
    "# Save your notebook first, then run this cell to export your submission.\n",
    "grader.export(pdf=False)"
   ]
  },
  {
   "cell_type": "markdown",
   "id": "967fb87c",
   "metadata": {},
   "source": [
    " "
   ]
  }
 ],
 "metadata": {
  "kernelspec": {
   "display_name": "Python 3 (ipykernel)",
   "language": "python",
   "name": "python3"
  },
  "language_info": {
   "codemirror_mode": {
    "name": "ipython",
    "version": 3
   },
   "file_extension": ".py",
   "mimetype": "text/x-python",
   "name": "python",
   "nbconvert_exporter": "python",
   "pygments_lexer": "ipython3",
   "version": "3.11.11"
  },
  "otter": {
   "OK_FORMAT": true,
   "tests": {
    "q11": {
     "name": "q11",
     "points": null,
     "suites": [
      {
       "cases": [
        {
         "code": ">>> to_percentage(0.35) == 35.0\nTrue",
         "hidden": false,
         "locked": false
        },
        {
         "code": ">>> twenty_percent == 20.0\nTrue",
         "hidden": false,
         "locked": false
        }
       ],
       "scored": true,
       "setup": "",
       "teardown": "",
       "type": "doctest"
      }
     ]
    },
    "q12": {
     "name": "q12",
     "points": null,
     "suites": [
      {
       "cases": [
        {
         "code": ">>> np.isclose(a_percentage, 70.71067811865476)\nTrue",
         "hidden": false,
         "locked": false
        }
       ],
       "scored": true,
       "setup": "",
       "teardown": "",
       "type": "doctest"
      }
     ]
    },
    "q13": {
     "name": "q13",
     "points": null,
     "suites": [
      {
       "cases": [
        {
         "code": ">>> num_non_vowels('Go bears!') == 6\nTrue",
         "hidden": false,
         "locked": false
        }
       ],
       "scored": true,
       "setup": "",
       "teardown": "",
       "type": "doctest"
      }
     ]
    },
    "q14": {
     "name": "q14",
     "points": null,
     "suites": [
      {
       "cases": [
        {
         "code": ">>> print_kth_top_movie_year(4)\nYear number 4 for total gross movie sales was: 2009\n",
         "hidden": false,
         "locked": false
        }
       ],
       "scored": true,
       "setup": "",
       "teardown": "",
       "type": "doctest"
      }
     ]
    },
    "q21": {
     "name": "q21",
     "points": null,
     "suites": [
      {
       "cases": [
        {
         "code": ">>> import numpy\n>>> total_pay_type != numpy.ndarray\nTrue",
         "hidden": false,
         "locked": false
        },
        {
         "code": ">>> 'str' in str(total_pay_type)\nTrue",
         "hidden": false,
         "locked": false
        },
        {
         "code": ">>> isinstance(total_pay_type, type)\nTrue",
         "hidden": false,
         "locked": false
        },
        {
         "code": ">>> total_pay_type != int\nTrue",
         "hidden": false,
         "locked": false
        }
       ],
       "scored": true,
       "setup": "",
       "teardown": "",
       "type": "doctest"
      }
     ]
    },
    "q22": {
     "name": "q22",
     "points": null,
     "suites": [
      {
       "cases": [
        {
         "code": ">>> str(mark_hurd_pay_string)\n'$53.25 '",
         "hidden": false,
         "locked": false
        }
       ],
       "scored": true,
       "setup": "",
       "teardown": "",
       "type": "doctest"
      }
     ]
    },
    "q23": {
     "name": "q23",
     "points": null,
     "suites": [
      {
       "cases": [
        {
         "code": ">>> type(mark_hurd_pay) != str\nTrue",
         "hidden": false,
         "locked": false
        },
        {
         "code": ">>> mark_hurd_pay != 5325\nTrue",
         "hidden": false,
         "locked": false
        },
        {
         "code": ">>> mark_hurd_pay == 53250000\nTrue",
         "hidden": false,
         "locked": false
        }
       ],
       "scored": true,
       "setup": "",
       "teardown": "",
       "type": "doctest"
      }
     ]
    },
    "q24": {
     "name": "q24",
     "points": null,
     "suites": [
      {
       "cases": [
        {
         "code": ">>> convert_pay_string_to_number('$100 ') == 100000000.0\nTrue",
         "hidden": false,
         "locked": false
        },
        {
         "code": ">>> convert_pay_string_to_number('$23 ') == 23000000.0\nTrue",
         "hidden": false,
         "locked": false
        }
       ],
       "scored": true,
       "setup": "",
       "teardown": "",
       "type": "doctest"
      }
     ]
    },
    "q31": {
     "name": "q31",
     "points": null,
     "suites": [
      {
       "cases": [
        {
         "code": ">>> len(some_functions)\n3",
         "hidden": false,
         "locked": false
        },
        {
         "code": ">>> callable(some_functions.item(0))\nTrue",
         "hidden": false,
         "locked": false
        },
        {
         "code": ">>> callable(some_functions.item(1))\nTrue",
         "hidden": false,
         "locked": false
        },
        {
         "code": ">>> callable(some_functions.item(2))\nTrue",
         "hidden": false,
         "locked": false
        }
       ],
       "scored": true,
       "setup": "",
       "teardown": "",
       "type": "doctest"
      }
     ]
    },
    "q32": {
     "name": "q32",
     "points": null,
     "suites": [
      {
       "cases": [
        {
         "code": ">>> 'Total Pay ($)' in compensation.labels\nTrue",
         "hidden": false,
         "locked": false
        },
        {
         "code": ">>> t = compensation.sort('Total Pay ($)', descending=True)\n>>> np.isclose(t.column('Total Pay ($)').item(0), 53250000.0)\nTrue",
         "hidden": false,
         "locked": false
        }
       ],
       "scored": true,
       "setup": "",
       "teardown": "",
       "type": "doctest"
      }
     ]
    },
    "q33": {
     "name": "q33",
     "points": null,
     "suites": [
      {
       "cases": [
        {
         "code": ">>> import math\n>>> math.isclose(average_total_pay, 11558613.861386139, rel_tol=0.1)\nTrue",
         "hidden": false,
         "locked": false
        }
       ],
       "scored": true,
       "setup": "",
       "teardown": "",
       "type": "doctest"
      }
     ]
    },
    "q34": {
     "name": "q34",
     "points": null,
     "suites": [
      {
       "cases": [
        {
         "code": ">>> len(cash_proportion) == 101\nTrue",
         "hidden": false,
         "locked": false
        },
        {
         "code": ">>> import math\n>>> math.isclose(cash_proportion.item(0), 0.01784038, rel_tol=0.001)\nTrue",
         "hidden": false,
         "locked": false
        }
       ],
       "scored": true,
       "setup": "",
       "teardown": "",
       "type": "doctest"
      }
     ]
    },
    "q35": {
     "name": "q35",
     "points": null,
     "suites": [
      {
       "cases": [
        {
         "code": ">>> '(No previous year)' not in with_previous_compensation.column('% Change')\nTrue",
         "hidden": false,
         "locked": false
        },
        {
         "code": ">>> import math\n>>> t = with_previous_compensation.sort('2014 Total Pay ($)', descending=True)\n>>> value = t.column('2014 Total Pay ($)').item(0)\n>>> math.isclose(value, 67700000.0, rel_tol=0.01)\nTrue",
         "hidden": false,
         "locked": false
        },
        {
         "code": ">>> with_previous_compensation.num_rows == 80\nTrue",
         "hidden": false,
         "locked": false
        }
       ],
       "scored": true,
       "setup": "",
       "teardown": "",
       "type": "doctest"
      }
     ]
    },
    "q36": {
     "name": "q36",
     "points": null,
     "suites": [
      {
       "cases": [
        {
         "code": ">>> import math\n>>> math.isclose(average_pay_2014, 11794790.817048479, rel_tol=0.01)\nTrue",
         "hidden": false,
         "locked": false
        }
       ],
       "scored": true,
       "setup": "",
       "teardown": "",
       "type": "doctest"
      }
     ]
    },
    "q42": {
     "name": "q42",
     "points": null,
     "suites": [
      {
       "cases": [
        {
         "code": ">>> num_ceos_more_than_30_million_2 == 5\nTrue",
         "hidden": false,
         "locked": false
        }
       ],
       "scored": true,
       "setup": "",
       "teardown": "",
       "type": "doctest"
      }
     ]
    },
    "q5": {
     "name": "q5",
     "points": null,
     "suites": [
      {
       "cases": [
        {
         "code": ">>> submitted\nTrue",
         "hidden": false,
         "locked": false
        }
       ],
       "scored": true,
       "setup": "",
       "teardown": "",
       "type": "doctest"
      }
     ]
    }
   }
  }
 },
 "nbformat": 4,
 "nbformat_minor": 5
}
