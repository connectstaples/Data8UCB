{
 "cells": [
  {
   "cell_type": "markdown",
   "metadata": {},
   "source": [
    "# Review"
   ]
  },
  {
   "cell_type": "code",
   "execution_count": 13,
   "metadata": {},
   "outputs": [
    {
     "data": {
      "text/html": [
       "<table border=\"1\" class=\"dataframe\">\n",
       "    <thead>\n",
       "        <tr>\n",
       "            <th>#</th> <th>Name</th> <th>Type 1</th> <th>Type 2</th> <th>Total</th> <th>HP</th> <th>Attack</th> <th>Defense</th> <th>Sp. Atk</th> <th>Sp. Def</th> <th>Speed</th> <th>Generation</th> <th>Legendary</th>\n",
       "        </tr>\n",
       "    </thead>\n",
       "    <tbody>\n",
       "        <tr>\n",
       "            <td>1   </td> <td>Bulbasaur            </td> <td>Grass </td> <td>Poison</td> <td>318  </td> <td>45  </td> <td>49    </td> <td>49     </td> <td>65     </td> <td>65     </td> <td>45   </td> <td>1         </td> <td>False    </td>\n",
       "        </tr>\n",
       "        <tr>\n",
       "            <td>2   </td> <td>Ivysaur              </td> <td>Grass </td> <td>Poison</td> <td>405  </td> <td>60  </td> <td>62    </td> <td>63     </td> <td>80     </td> <td>80     </td> <td>60   </td> <td>1         </td> <td>False    </td>\n",
       "        </tr>\n",
       "        <tr>\n",
       "            <td>3   </td> <td>Venusaur             </td> <td>Grass </td> <td>Poison</td> <td>525  </td> <td>80  </td> <td>82    </td> <td>83     </td> <td>100    </td> <td>100    </td> <td>80   </td> <td>1         </td> <td>False    </td>\n",
       "        </tr>\n",
       "        <tr>\n",
       "            <td>3   </td> <td>VenusaurMega Venusaur</td> <td>Grass </td> <td>Poison</td> <td>625  </td> <td>80  </td> <td>100   </td> <td>123    </td> <td>122    </td> <td>120    </td> <td>80   </td> <td>1         </td> <td>False    </td>\n",
       "        </tr>\n",
       "        <tr>\n",
       "            <td>4   </td> <td>Charmander           </td> <td>Fire  </td> <td>nan   </td> <td>309  </td> <td>39  </td> <td>52    </td> <td>43     </td> <td>60     </td> <td>50     </td> <td>65   </td> <td>1         </td> <td>False    </td>\n",
       "        </tr>\n",
       "    </tbody>\n",
       "</table>\n",
       "<p>... (795 rows omitted)</p>"
      ],
      "text/plain": [
       "<IPython.core.display.HTML object>"
      ]
     },
     "metadata": {},
     "output_type": "display_data"
    }
   ],
   "source": [
    "%matplotlib inline\n",
    "from datascience import * \n",
    "\n",
    "table = Table.read_table('pokemon.csv')\n",
    "\n",
    "table.show(5) "
   ]
  },
  {
   "cell_type": "code",
   "execution_count": null,
   "metadata": {},
   "outputs": [],
   "source": []
  }
 ],
 "metadata": {
  "kernelspec": {
   "display_name": "base",
   "language": "python",
   "name": "python3"
  },
  "language_info": {
   "codemirror_mode": {
    "name": "ipython",
    "version": 3
   },
   "file_extension": ".py",
   "mimetype": "text/x-python",
   "name": "python",
   "nbconvert_exporter": "python",
   "pygments_lexer": "ipython3",
   "version": "3.11.8"
  }
 },
 "nbformat": 4,
 "nbformat_minor": 2
}
